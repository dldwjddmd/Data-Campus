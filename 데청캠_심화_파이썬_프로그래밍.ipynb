{
 "cells": [
  {
   "cell_type": "markdown",
   "id": "df6e7df5",
   "metadata": {},
   "source": [
    "https://docs.python.org/3/ 기반 수업"
   ]
  },
  {
   "cell_type": "markdown",
   "id": "0a9649ca",
   "metadata": {},
   "source": [
    "1. 주제 선정\n",
    "2. 과제 1. ML 기법을 사용할 때 / 2. 사용하지 않을 때 해결책\n",
    "3. Data 수집 / 전처리\n",
    "4. 데이터 EDA"
   ]
  },
  {
   "cell_type": "markdown",
   "id": "27302ada",
   "metadata": {},
   "source": [
    "## 6/27(월)"
   ]
  },
  {
   "cell_type": "markdown",
   "id": "0b09a8ac",
   "metadata": {},
   "source": [
    "a = 1"
   ]
  },
  {
   "cell_type": "markdown",
   "id": "427bdfd3",
   "metadata": {},
   "source": [
    "**Equal 뒤에는 표현식(expression: 하나의 결과값으로 표현될 수 있는 모든 것)이 온다.**\n",
    "- 28가지의 복합문, 5가지의 단순문.\n",
    "- 함수 또한 올 수 있다.\n",
    "- 파이썬은 4가지의 숫자형(integer, float, complex, bool)이 있다."
   ]
  },
  {
   "cell_type": "markdown",
   "id": "9a8f24b7",
   "metadata": {},
   "source": [
    "### 숫자형"
   ]
  },
  {
   "cell_type": "markdown",
   "id": "7cd6a2c4",
   "metadata": {},
   "source": [
    "#### Integer : arbitary precision**\n",
    "- 숫자의 범위가 없어 무한대까지 정수 형태를 만들 수 있기 때문에 overflow가 일어나지 않는다\n",
    "\n",
    "**해결책 : 속도 현상을 위해 interning 사용**\n",
    "1 == 1 vs 1 is 1\n",
    "1) 1 == 1 : 숫자를 비교\n",
    "2) 1 is 1 : 들어있는 메모리를 비교\n",
    "\n"
   ]
  },
  {
   "cell_type": "code",
   "execution_count": 1,
   "id": "ed669226",
   "metadata": {},
   "outputs": [],
   "source": [
    "a = 1 + 1"
   ]
  },
  {
   "cell_type": "code",
   "execution_count": 2,
   "id": "7b63be90",
   "metadata": {},
   "outputs": [
    {
     "name": "stderr",
     "output_type": "stream",
     "text": [
      "<>:1: SyntaxWarning: \"is\" with a literal. Did you mean \"==\"?\n",
      "<>:1: SyntaxWarning: \"is\" with a literal. Did you mean \"==\"?\n",
      "<ipython-input-2-c4ba21148a2b>:1: SyntaxWarning: \"is\" with a literal. Did you mean \"==\"?\n",
      "  1 is 1\n"
     ]
    },
    {
     "data": {
      "text/plain": [
       "True"
      ]
     },
     "execution_count": 2,
     "metadata": {},
     "output_type": "execute_result"
    }
   ],
   "source": [
    "1 is 1"
   ]
  },
  {
   "cell_type": "code",
   "execution_count": 3,
   "id": "e38891ab",
   "metadata": {},
   "outputs": [
    {
     "data": {
      "text/plain": [
       "False"
      ]
     },
     "execution_count": 3,
     "metadata": {},
     "output_type": "execute_result"
    }
   ],
   "source": [
    "a = 1000\n",
    "b = 1000\n",
    "a is b"
   ]
  },
  {
   "cell_type": "code",
   "execution_count": 4,
   "id": "0b618e2c",
   "metadata": {},
   "outputs": [
    {
     "data": {
      "text/plain": [
       "True"
      ]
     },
     "execution_count": 4,
     "metadata": {},
     "output_type": "execute_result"
    }
   ],
   "source": [
    "# 캐시 현상\n",
    "a = 255\n",
    "b = 255\n",
    "a is b"
   ]
  },
  {
   "cell_type": "markdown",
   "id": "fe56c0a8",
   "metadata": {},
   "source": [
    "**정수는 불연속하기 때문에 딥러닝에서는 많이 사용하지 않음**\n",
    "\n",
    "2진법(0b), 8진법(0o), 10진법, 16진법(0x)\n",
    "\n",
    "**Literal**\n",
    ": 실제 python은 객체 지향 언어이기 때문에 literal을 사용하는 일이 적다.\n",
    "\n",
    "정수는 literal 없이 객체를 생성할 수 있다"
   ]
  },
  {
   "cell_type": "code",
   "execution_count": 5,
   "id": "43d98a94",
   "metadata": {},
   "outputs": [
    {
     "ename": "SyntaxError",
     "evalue": "invalid digit '3' in binary literal (<ipython-input-5-fd1c904946ed>, line 1)",
     "output_type": "error",
     "traceback": [
      "\u001b[1;36m  File \u001b[1;32m\"<ipython-input-5-fd1c904946ed>\"\u001b[1;36m, line \u001b[1;32m1\u001b[0m\n\u001b[1;33m    0b03\u001b[0m\n\u001b[1;37m       ^\u001b[0m\n\u001b[1;31mSyntaxError\u001b[0m\u001b[1;31m:\u001b[0m invalid digit '3' in binary literal\n"
     ]
    }
   ],
   "source": [
    "0b03"
   ]
  },
  {
   "cell_type": "code",
   "execution_count": null,
   "id": "658dee21",
   "metadata": {},
   "outputs": [],
   "source": [
    "import antigravity"
   ]
  },
  {
   "cell_type": "markdown",
   "id": "39365f58",
   "metadata": {},
   "source": [
    "부동소수점(floating point)\n",
    "- 이진수로 되어 있기 때문에 오차가 난다.\n",
    "- python에서는 decimal이라는 class를 이용해 정확하게 계산할 수는 있다.\n",
    "\n",
    "float을 통해 근삿값을 구하는 것이지, 정확한 값을 구할 수는 없다.\n"
   ]
  },
  {
   "cell_type": "code",
   "execution_count": null,
   "id": "89c39513",
   "metadata": {},
   "outputs": [],
   "source": [
    "0.1 + 0.1 + 0.1"
   ]
  },
  {
   "cell_type": "code",
   "execution_count": null,
   "id": "0bbe67c3",
   "metadata": {},
   "outputs": [],
   "source": [
    "round(2.5)"
   ]
  },
  {
   "cell_type": "markdown",
   "id": "309688e5",
   "metadata": {},
   "source": [
    "#### Float : 숫자의 크기에 범위가 존재**\n"
   ]
  },
  {
   "cell_type": "code",
   "execution_count": null,
   "id": "a19e770b",
   "metadata": {},
   "outputs": [],
   "source": [
    "import sys\n",
    "sys.float_info"
   ]
  },
  {
   "cell_type": "markdown",
   "id": "e1763700",
   "metadata": {},
   "source": [
    "정수는 arbitary precision이므로 범위가 없는 것을 알 수 있음"
   ]
  },
  {
   "cell_type": "code",
   "execution_count": null,
   "id": "83916e23",
   "metadata": {},
   "outputs": [],
   "source": [
    "# float은 근사적으로 계산하기 때문\n",
    "1.7976931348623157e+308 == 1.7976931348623157e+308 + 1"
   ]
  },
  {
   "cell_type": "code",
   "execution_count": null,
   "id": "49dee1a9",
   "metadata": {},
   "outputs": [],
   "source": [
    "2.2250738585072014e-308 == 2.2250738585072014e-308 - 1"
   ]
  },
  {
   "cell_type": "code",
   "execution_count": null,
   "id": "b8fd5f87",
   "metadata": {},
   "outputs": [],
   "source": [
    "import pandas as pd"
   ]
  },
  {
   "cell_type": "code",
   "execution_count": null,
   "id": "68e9358a",
   "metadata": {},
   "outputs": [],
   "source": [
    "pd.to_datetime"
   ]
  },
  {
   "cell_type": "markdown",
   "id": "b6a9cad4",
   "metadata": {},
   "source": [
    "Coercion : 묵시적 형변환\n",
    "- 자동으로 정수를 실수로 계산할 수 있다."
   ]
  },
  {
   "cell_type": "markdown",
   "id": "4f34c3e7",
   "metadata": {},
   "source": [
    "#### Complex \n",
    "- i가 아닌 j를 사용"
   ]
  },
  {
   "cell_type": "code",
   "execution_count": 6,
   "id": "458c0a6a",
   "metadata": {},
   "outputs": [
    {
     "data": {
      "text/plain": [
       "(1+3j)"
      ]
     },
     "execution_count": 6,
     "metadata": {},
     "output_type": "execute_result"
    }
   ],
   "source": [
    "1 + 3j"
   ]
  },
  {
   "cell_type": "markdown",
   "id": "988169f5",
   "metadata": {},
   "source": [
    "#### Bool\n",
    "- int를 상속해서 만들었기 때문에 숫자일 수 밖에 없다."
   ]
  },
  {
   "cell_type": "code",
   "execution_count": 7,
   "id": "202ea845",
   "metadata": {},
   "outputs": [
    {
     "data": {
      "text/plain": [
       "bool"
      ]
     },
     "execution_count": 7,
     "metadata": {},
     "output_type": "execute_result"
    }
   ],
   "source": [
    "type(True)"
   ]
  },
  {
   "cell_type": "code",
   "execution_count": 8,
   "id": "bb46cf88",
   "metadata": {},
   "outputs": [
    {
     "data": {
      "text/plain": [
       "True"
      ]
     },
     "execution_count": 8,
     "metadata": {},
     "output_type": "execute_result"
    }
   ],
   "source": [
    "issubclass(bool, int) # 항상 대체될 수 있다."
   ]
  },
  {
   "cell_type": "markdown",
   "id": "abb661fe",
   "metadata": {},
   "source": [
    "### 문자형"
   ]
  },
  {
   "cell_type": "markdown",
   "id": "a0081f9c",
   "metadata": {},
   "source": [
    "Unicode, bytes, bytearray, memoryview\n",
    "\n",
    "순서가 있고, 쪼갤 수 있으므로 'container'라고도 한다."
   ]
  },
  {
   "cell_type": "markdown",
   "id": "9ae6efa6",
   "metadata": {},
   "source": [
    "1) homogeneous - 동형\n",
    "\n",
    " ex) numpy, tensorflow\n",
    "\n",
    "2) hetero - 이형"
   ]
  },
  {
   "cell_type": "code",
   "execution_count": 9,
   "id": "7bd65d18",
   "metadata": {},
   "outputs": [
    {
     "data": {
      "text/plain": [
       "array(['1', '2', '3', '4'], dtype='<U11')"
      ]
     },
     "execution_count": 9,
     "metadata": {},
     "output_type": "execute_result"
    }
   ],
   "source": [
    "import numpy as np\n",
    "a = np.array([1,2,3,'4'])\n",
    "a"
   ]
  },
  {
   "cell_type": "code",
   "execution_count": 10,
   "id": "5c620463",
   "metadata": {},
   "outputs": [
    {
     "ename": "ValueError",
     "evalue": "Can't convert Python sequence with mixed types to Tensor.",
     "output_type": "error",
     "traceback": [
      "\u001b[1;31m---------------------------------------------------------------------------\u001b[0m",
      "\u001b[1;31mValueError\u001b[0m                                Traceback (most recent call last)",
      "\u001b[1;32m<ipython-input-10-a6989076cc6e>\u001b[0m in \u001b[0;36m<module>\u001b[1;34m\u001b[0m\n\u001b[0;32m      1\u001b[0m \u001b[1;32mimport\u001b[0m \u001b[0mtensorflow\u001b[0m \u001b[1;32mas\u001b[0m \u001b[0mtf\u001b[0m\u001b[1;33m\u001b[0m\u001b[1;33m\u001b[0m\u001b[0m\n\u001b[1;32m----> 2\u001b[1;33m \u001b[0ma\u001b[0m \u001b[1;33m=\u001b[0m \u001b[0mtf\u001b[0m\u001b[1;33m.\u001b[0m\u001b[0mconstant\u001b[0m\u001b[1;33m(\u001b[0m\u001b[1;33m[\u001b[0m\u001b[1;36m1\u001b[0m\u001b[1;33m,\u001b[0m\u001b[1;36m2\u001b[0m\u001b[1;33m,\u001b[0m\u001b[1;36m3\u001b[0m\u001b[1;33m,\u001b[0m\u001b[1;34m'4'\u001b[0m\u001b[1;33m]\u001b[0m\u001b[1;33m)\u001b[0m \u001b[1;31m# 문자는 homo.\u001b[0m\u001b[1;33m\u001b[0m\u001b[1;33m\u001b[0m\u001b[0m\n\u001b[0m\u001b[0;32m      3\u001b[0m \u001b[1;33m\u001b[0m\u001b[0m\n\u001b[0;32m      4\u001b[0m \u001b[1;31m# homo의 특징은 나중에\u001b[0m\u001b[1;33m\u001b[0m\u001b[1;33m\u001b[0m\u001b[1;33m\u001b[0m\u001b[0m\n",
      "\u001b[1;32mC:\\Users\\Jungeun\\miniconda3\\envs\\venv\\lib\\site-packages\\tensorflow\\python\\framework\\constant_op.py\u001b[0m in \u001b[0;36mconstant\u001b[1;34m(value, dtype, shape, name)\u001b[0m\n\u001b[0;32m    269\u001b[0m     \u001b[0mValueError\u001b[0m\u001b[1;33m:\u001b[0m \u001b[1;32mif\u001b[0m \u001b[0mcalled\u001b[0m \u001b[0mon\u001b[0m \u001b[0ma\u001b[0m \u001b[0msymbolic\u001b[0m \u001b[0mtensor\u001b[0m\u001b[1;33m.\u001b[0m\u001b[1;33m\u001b[0m\u001b[1;33m\u001b[0m\u001b[0m\n\u001b[0;32m    270\u001b[0m   \"\"\"\n\u001b[1;32m--> 271\u001b[1;33m   return _constant_impl(value, dtype, shape, name, verify_shape=False,\n\u001b[0m\u001b[0;32m    272\u001b[0m                         allow_broadcast=True)\n\u001b[0;32m    273\u001b[0m \u001b[1;33m\u001b[0m\u001b[0m\n",
      "\u001b[1;32mC:\\Users\\Jungeun\\miniconda3\\envs\\venv\\lib\\site-packages\\tensorflow\\python\\framework\\constant_op.py\u001b[0m in \u001b[0;36m_constant_impl\u001b[1;34m(value, dtype, shape, name, verify_shape, allow_broadcast)\u001b[0m\n\u001b[0;32m    281\u001b[0m       \u001b[1;32mwith\u001b[0m \u001b[0mtrace\u001b[0m\u001b[1;33m.\u001b[0m\u001b[0mTrace\u001b[0m\u001b[1;33m(\u001b[0m\u001b[1;34m\"tf.constant\"\u001b[0m\u001b[1;33m)\u001b[0m\u001b[1;33m:\u001b[0m\u001b[1;33m\u001b[0m\u001b[1;33m\u001b[0m\u001b[0m\n\u001b[0;32m    282\u001b[0m         \u001b[1;32mreturn\u001b[0m \u001b[0m_constant_eager_impl\u001b[0m\u001b[1;33m(\u001b[0m\u001b[0mctx\u001b[0m\u001b[1;33m,\u001b[0m \u001b[0mvalue\u001b[0m\u001b[1;33m,\u001b[0m \u001b[0mdtype\u001b[0m\u001b[1;33m,\u001b[0m \u001b[0mshape\u001b[0m\u001b[1;33m,\u001b[0m \u001b[0mverify_shape\u001b[0m\u001b[1;33m)\u001b[0m\u001b[1;33m\u001b[0m\u001b[1;33m\u001b[0m\u001b[0m\n\u001b[1;32m--> 283\u001b[1;33m     \u001b[1;32mreturn\u001b[0m \u001b[0m_constant_eager_impl\u001b[0m\u001b[1;33m(\u001b[0m\u001b[0mctx\u001b[0m\u001b[1;33m,\u001b[0m \u001b[0mvalue\u001b[0m\u001b[1;33m,\u001b[0m \u001b[0mdtype\u001b[0m\u001b[1;33m,\u001b[0m \u001b[0mshape\u001b[0m\u001b[1;33m,\u001b[0m \u001b[0mverify_shape\u001b[0m\u001b[1;33m)\u001b[0m\u001b[1;33m\u001b[0m\u001b[1;33m\u001b[0m\u001b[0m\n\u001b[0m\u001b[0;32m    284\u001b[0m \u001b[1;33m\u001b[0m\u001b[0m\n\u001b[0;32m    285\u001b[0m   \u001b[0mg\u001b[0m \u001b[1;33m=\u001b[0m \u001b[0mops\u001b[0m\u001b[1;33m.\u001b[0m\u001b[0mget_default_graph\u001b[0m\u001b[1;33m(\u001b[0m\u001b[1;33m)\u001b[0m\u001b[1;33m\u001b[0m\u001b[1;33m\u001b[0m\u001b[0m\n",
      "\u001b[1;32mC:\\Users\\Jungeun\\miniconda3\\envs\\venv\\lib\\site-packages\\tensorflow\\python\\framework\\constant_op.py\u001b[0m in \u001b[0;36m_constant_eager_impl\u001b[1;34m(ctx, value, dtype, shape, verify_shape)\u001b[0m\n\u001b[0;32m    306\u001b[0m \u001b[1;32mdef\u001b[0m \u001b[0m_constant_eager_impl\u001b[0m\u001b[1;33m(\u001b[0m\u001b[0mctx\u001b[0m\u001b[1;33m,\u001b[0m \u001b[0mvalue\u001b[0m\u001b[1;33m,\u001b[0m \u001b[0mdtype\u001b[0m\u001b[1;33m,\u001b[0m \u001b[0mshape\u001b[0m\u001b[1;33m,\u001b[0m \u001b[0mverify_shape\u001b[0m\u001b[1;33m)\u001b[0m\u001b[1;33m:\u001b[0m\u001b[1;33m\u001b[0m\u001b[1;33m\u001b[0m\u001b[0m\n\u001b[0;32m    307\u001b[0m   \u001b[1;34m\"\"\"Creates a constant on the current device.\"\"\"\u001b[0m\u001b[1;33m\u001b[0m\u001b[1;33m\u001b[0m\u001b[0m\n\u001b[1;32m--> 308\u001b[1;33m   \u001b[0mt\u001b[0m \u001b[1;33m=\u001b[0m \u001b[0mconvert_to_eager_tensor\u001b[0m\u001b[1;33m(\u001b[0m\u001b[0mvalue\u001b[0m\u001b[1;33m,\u001b[0m \u001b[0mctx\u001b[0m\u001b[1;33m,\u001b[0m \u001b[0mdtype\u001b[0m\u001b[1;33m)\u001b[0m\u001b[1;33m\u001b[0m\u001b[1;33m\u001b[0m\u001b[0m\n\u001b[0m\u001b[0;32m    309\u001b[0m   \u001b[1;32mif\u001b[0m \u001b[0mshape\u001b[0m \u001b[1;32mis\u001b[0m \u001b[1;32mNone\u001b[0m\u001b[1;33m:\u001b[0m\u001b[1;33m\u001b[0m\u001b[1;33m\u001b[0m\u001b[0m\n\u001b[0;32m    310\u001b[0m     \u001b[1;32mreturn\u001b[0m \u001b[0mt\u001b[0m\u001b[1;33m\u001b[0m\u001b[1;33m\u001b[0m\u001b[0m\n",
      "\u001b[1;32mC:\\Users\\Jungeun\\miniconda3\\envs\\venv\\lib\\site-packages\\tensorflow\\python\\framework\\constant_op.py\u001b[0m in \u001b[0;36mconvert_to_eager_tensor\u001b[1;34m(value, ctx, dtype)\u001b[0m\n\u001b[0;32m    104\u001b[0m       \u001b[0mdtype\u001b[0m \u001b[1;33m=\u001b[0m \u001b[0mdtypes\u001b[0m\u001b[1;33m.\u001b[0m\u001b[0mas_dtype\u001b[0m\u001b[1;33m(\u001b[0m\u001b[0mdtype\u001b[0m\u001b[1;33m)\u001b[0m\u001b[1;33m.\u001b[0m\u001b[0mas_datatype_enum\u001b[0m\u001b[1;33m\u001b[0m\u001b[1;33m\u001b[0m\u001b[0m\n\u001b[0;32m    105\u001b[0m   \u001b[0mctx\u001b[0m\u001b[1;33m.\u001b[0m\u001b[0mensure_initialized\u001b[0m\u001b[1;33m(\u001b[0m\u001b[1;33m)\u001b[0m\u001b[1;33m\u001b[0m\u001b[1;33m\u001b[0m\u001b[0m\n\u001b[1;32m--> 106\u001b[1;33m   \u001b[1;32mreturn\u001b[0m \u001b[0mops\u001b[0m\u001b[1;33m.\u001b[0m\u001b[0mEagerTensor\u001b[0m\u001b[1;33m(\u001b[0m\u001b[0mvalue\u001b[0m\u001b[1;33m,\u001b[0m \u001b[0mctx\u001b[0m\u001b[1;33m.\u001b[0m\u001b[0mdevice_name\u001b[0m\u001b[1;33m,\u001b[0m \u001b[0mdtype\u001b[0m\u001b[1;33m)\u001b[0m\u001b[1;33m\u001b[0m\u001b[1;33m\u001b[0m\u001b[0m\n\u001b[0m\u001b[0;32m    107\u001b[0m \u001b[1;33m\u001b[0m\u001b[0m\n\u001b[0;32m    108\u001b[0m \u001b[1;33m\u001b[0m\u001b[0m\n",
      "\u001b[1;31mValueError\u001b[0m: Can't convert Python sequence with mixed types to Tensor."
     ]
    }
   ],
   "source": [
    "import tensorflow as tf\n",
    "a = tf.constant([1,2,3,'4']) # 문자는 homo. \n",
    "\n",
    "# homo의 특징은 나중에"
   ]
  },
  {
   "cell_type": "code",
   "execution_count": null,
   "id": "0032af75",
   "metadata": {},
   "outputs": [],
   "source": [
    "b'문근영' # bytecode이기 때문에 아스키 코드(2^8)만 사용할 수 있다. 자연어 처리에서 숫자로 바꾸면 가능"
   ]
  },
  {
   "cell_type": "markdown",
   "id": "2d336485",
   "metadata": {},
   "source": [
    "encoding : 문자를 숫자로 표현하기 위해 character set을 이용해 변환 "
   ]
  },
  {
   "cell_type": "code",
   "execution_count": null,
   "id": "b3dfd7bd",
   "metadata": {},
   "outputs": [],
   "source": [
    "b'moon'"
   ]
  },
  {
   "cell_type": "code",
   "execution_count": null,
   "id": "e82bcd00",
   "metadata": {},
   "outputs": [],
   "source": [
    "# mutable array\n",
    "bytearray"
   ]
  },
  {
   "cell_type": "code",
   "execution_count": null,
   "id": "100d13f8",
   "metadata": {},
   "outputs": [],
   "source": []
  },
  {
   "cell_type": "markdown",
   "id": "b82eac75",
   "metadata": {},
   "source": [
    "homo vs hetero 말고 다른 기준"
   ]
  },
  {
   "cell_type": "markdown",
   "id": "ece38199",
   "metadata": {},
   "source": [
    "sequencial vs non-sequencial\n",
    "\n",
    "ex) set, dictionary"
   ]
  },
  {
   "cell_type": "markdown",
   "id": "67e20c52",
   "metadata": {},
   "source": [
    "**duck-typing**\n",
    "- \"오리처럼 꽥꽥 소리를 내면 오리이다.\"\n",
    "- 규칙만 따르면 타입 결정을 하지 않아도 다형적인 치환 허용\n",
    "- __len__ 만 있으면 duck-typing 이용 가능(indexing, slicing 가능)\n",
    "\n"
   ]
  },
  {
   "cell_type": "code",
   "execution_count": null,
   "id": "e86be76b",
   "metadata": {},
   "outputs": [],
   "source": [
    "a = '1234'\n",
    "b = {1,2}"
   ]
  },
  {
   "cell_type": "code",
   "execution_count": null,
   "id": "18c48e4f",
   "metadata": {},
   "outputs": [],
   "source": [
    "a[:]"
   ]
  },
  {
   "cell_type": "code",
   "execution_count": null,
   "id": "9311aa5a",
   "metadata": {},
   "outputs": [],
   "source": [
    "dir(b) # __len__은 있지만 __get__은 없다."
   ]
  },
  {
   "cell_type": "code",
   "execution_count": null,
   "id": "e449c7d2",
   "metadata": {
    "scrolled": true
   },
   "outputs": [],
   "source": [
    "b[0]"
   ]
  },
  {
   "cell_type": "markdown",
   "id": "424017ec",
   "metadata": {},
   "source": [
    "indexing과 slicing을 하기 위해 __len__과 __get__ 아이템을 사용해 객체를 만든다"
   ]
  },
  {
   "cell_type": "markdown",
   "id": "cd85a079",
   "metadata": {},
   "source": [
    "mutable vs immutable\n",
    "\n",
    "ex) bytes / byte array"
   ]
  },
  {
   "cell_type": "code",
   "execution_count": null,
   "id": "06b7a7b4",
   "metadata": {},
   "outputs": [],
   "source": [
    "c = range(10)"
   ]
  },
  {
   "cell_type": "code",
   "execution_count": null,
   "id": "d4e7d4cc",
   "metadata": {},
   "outputs": [],
   "source": [
    "dir(c)"
   ]
  },
  {
   "cell_type": "code",
   "execution_count": null,
   "id": "5b89b247",
   "metadata": {},
   "outputs": [],
   "source": [
    "range(10)[4]"
   ]
  },
  {
   "cell_type": "code",
   "execution_count": null,
   "id": "0ff7ec48",
   "metadata": {},
   "outputs": [],
   "source": [
    "a = 1,2 # ',' : container 구성 요소인 element를 구분 지어 주는 연산자"
   ]
  },
  {
   "cell_type": "code",
   "execution_count": null,
   "id": "dcae45c5",
   "metadata": {},
   "outputs": [],
   "source": [
    "a"
   ]
  },
  {
   "cell_type": "code",
   "execution_count": null,
   "id": "485e522a",
   "metadata": {},
   "outputs": [],
   "source": [
    "def x():\n",
    "    return 1,2"
   ]
  },
  {
   "cell_type": "code",
   "execution_count": null,
   "id": "d7f3d990",
   "metadata": {},
   "outputs": [],
   "source": [
    "x()"
   ]
  },
  {
   "cell_type": "code",
   "execution_count": null,
   "id": "b97a39df",
   "metadata": {},
   "outputs": [],
   "source": [
    "for i in 1,2,3,4:\n",
    "    print(i)"
   ]
  },
  {
   "cell_type": "code",
   "execution_count": null,
   "id": "3a561997",
   "metadata": {},
   "outputs": [],
   "source": [
    "pd.DataFrame.from_records"
   ]
  },
  {
   "cell_type": "code",
   "execution_count": null,
   "id": "3f3356cd",
   "metadata": {},
   "outputs": [],
   "source": [
    "import seaborn as sns"
   ]
  },
  {
   "cell_type": "code",
   "execution_count": null,
   "id": "a4eca7f1",
   "metadata": {},
   "outputs": [],
   "source": [
    "iris = sns.load_dataset('iris') # 오류"
   ]
  },
  {
   "cell_type": "markdown",
   "id": "10bd2fe8",
   "metadata": {},
   "source": [
    "공식 python은 c를 기본으로 하기 때문에 기본 데이터를 튜플로 잡는다."
   ]
  },
  {
   "cell_type": "code",
   "execution_count": null,
   "id": "475ba14e",
   "metadata": {},
   "outputs": [],
   "source": [
    "def t(*a):\n",
    "    return a"
   ]
  },
  {
   "cell_type": "code",
   "execution_count": null,
   "id": "16153f75",
   "metadata": {},
   "outputs": [],
   "source": [
    "t(1,2,3,4,5)"
   ]
  },
  {
   "cell_type": "markdown",
   "id": "f2a21318",
   "metadata": {},
   "source": [
    "튜플 : immutable"
   ]
  },
  {
   "cell_type": "markdown",
   "id": "302177a8",
   "metadata": {},
   "source": [
    "리스트(list)"
   ]
  },
  {
   "cell_type": "code",
   "execution_count": null,
   "id": "92fef0f2",
   "metadata": {},
   "outputs": [],
   "source": [
    "a = 1"
   ]
  },
  {
   "cell_type": "code",
   "execution_count": null,
   "id": "900975e6",
   "metadata": {},
   "outputs": [],
   "source": [
    "%whos"
   ]
  },
  {
   "cell_type": "code",
   "execution_count": null,
   "id": "7f3c6cd5",
   "metadata": {},
   "outputs": [],
   "source": [
    "id(a)"
   ]
  },
  {
   "cell_type": "code",
   "execution_count": null,
   "id": "298dcdb9",
   "metadata": {},
   "outputs": [],
   "source": [
    "type(a)"
   ]
  },
  {
   "cell_type": "code",
   "execution_count": null,
   "id": "71fe6ea7",
   "metadata": {},
   "outputs": [],
   "source": [
    "a = 2 # 재할당을 하면 메모리 번지 수가 바뀐다."
   ]
  },
  {
   "cell_type": "code",
   "execution_count": null,
   "id": "3c8ab851",
   "metadata": {},
   "outputs": [],
   "source": [
    "id(a) # definement"
   ]
  },
  {
   "cell_type": "code",
   "execution_count": null,
   "id": "44599e21",
   "metadata": {},
   "outputs": [],
   "source": [
    "%whos "
   ]
  },
  {
   "cell_type": "markdown",
   "id": "d9bab325",
   "metadata": {},
   "source": [
    "재할당할 수 없는 수 : 상수 (const(C/C++), final(Java))\n",
    "**python은 재할당이 무조건 가능**"
   ]
  },
  {
   "cell_type": "code",
   "execution_count": null,
   "id": "d58ea861",
   "metadata": {},
   "outputs": [],
   "source": [
    "print = 2\n",
    "print"
   ]
  },
  {
   "cell_type": "markdown",
   "id": "f5db7930",
   "metadata": {},
   "source": [
    "키워드를 제외하고는 무조건 가능."
   ]
  },
  {
   "cell_type": "code",
   "execution_count": null,
   "id": "db4855d4",
   "metadata": {},
   "outputs": [],
   "source": [
    "import keyword"
   ]
  },
  {
   "cell_type": "code",
   "execution_count": null,
   "id": "49b2a580",
   "metadata": {},
   "outputs": [],
   "source": [
    "keyword.kwlist"
   ]
  },
  {
   "cell_type": "markdown",
   "id": "a9039575",
   "metadata": {},
   "source": [
    "1) 자기 자신만 계속 바뀌는 것\n",
    "\n",
    "2) 자기 자신도 바뀌면서 다른 것도 바꿔줌\n",
    "\n",
    "3) 자기 자신은 안 바뀌면서 다른 건 바꿔줌"
   ]
  },
  {
   "cell_type": "markdown",
   "id": "1eeecc0e",
   "metadata": {},
   "source": [
    "mutable data : 재할당 없이 자기 자신을 바꿀 수 있다.\n",
    "-> 메모리를 고정시켜 둔 후 값만 바꿈\n",
    "\n",
    "ex) list, bytes array, set, dictionary"
   ]
  },
  {
   "cell_type": "code",
   "execution_count": null,
   "id": "84b0cc0d",
   "metadata": {},
   "outputs": [],
   "source": [
    "a = [1,2,3]"
   ]
  },
  {
   "cell_type": "code",
   "execution_count": null,
   "id": "69f2ac31",
   "metadata": {},
   "outputs": [],
   "source": [
    "id(a)"
   ]
  },
  {
   "cell_type": "code",
   "execution_count": null,
   "id": "f1c6f18f",
   "metadata": {},
   "outputs": [],
   "source": [
    "a.append(4)"
   ]
  },
  {
   "cell_type": "code",
   "execution_count": null,
   "id": "a902f321",
   "metadata": {},
   "outputs": [],
   "source": [
    "id(a)"
   ]
  },
  {
   "cell_type": "markdown",
   "id": "3b05f39b",
   "metadata": {},
   "source": [
    "tensorflow에서는 weight가 mutable data"
   ]
  },
  {
   "cell_type": "code",
   "execution_count": null,
   "id": "d1c534e6",
   "metadata": {},
   "outputs": [],
   "source": [
    "x = tf.keras.applications.VGG16() # immutable 중 mutable로 바꿀 수 있다."
   ]
  },
  {
   "cell_type": "code",
   "execution_count": null,
   "id": "cc4d24f1",
   "metadata": {},
   "outputs": [],
   "source": [
    "x.weights"
   ]
  },
  {
   "cell_type": "markdown",
   "id": "a0ad0056",
   "metadata": {},
   "source": [
    "문제점"
   ]
  },
  {
   "cell_type": "code",
   "execution_count": null,
   "id": "894cc189",
   "metadata": {},
   "outputs": [],
   "source": [
    "a = [1,2,3]"
   ]
  },
  {
   "cell_type": "code",
   "execution_count": null,
   "id": "9a952fdf",
   "metadata": {},
   "outputs": [],
   "source": [
    "def X(a):\n",
    "    return a.append(4)"
   ]
  },
  {
   "cell_type": "code",
   "execution_count": null,
   "id": "916f0129",
   "metadata": {},
   "outputs": [],
   "source": [
    "X(a)"
   ]
  },
  {
   "cell_type": "markdown",
   "id": "eceb95a8",
   "metadata": {},
   "source": [
    "자기 자신은 바뀌는데 return 값이 없음"
   ]
  },
  {
   "cell_type": "code",
   "execution_count": null,
   "id": "7b27cfe3",
   "metadata": {},
   "outputs": [],
   "source": [
    "b = a.append(4)"
   ]
  },
  {
   "cell_type": "code",
   "execution_count": null,
   "id": "250744ee",
   "metadata": {},
   "outputs": [],
   "source": [
    "c = a.pop()\n",
    "c"
   ]
  },
  {
   "cell_type": "code",
   "execution_count": null,
   "id": "358e939d",
   "metadata": {},
   "outputs": [],
   "source": [
    "a"
   ]
  },
  {
   "cell_type": "code",
   "execution_count": null,
   "id": "c54f1c39",
   "metadata": {},
   "outputs": [],
   "source": [
    "iris.drop(column='sepal_length')"
   ]
  },
  {
   "cell_type": "code",
   "execution_count": null,
   "id": "dc77585f",
   "metadata": {},
   "outputs": [],
   "source": [
    "# 재할당할 필요 없기 때문에 메모리를 효율적으로 사용할 수 있지만, 실수 가능성 높다.\n",
    "iris.drop(column='sepal_length', inplace=True)"
   ]
  },
  {
   "cell_type": "markdown",
   "id": "c16d194d",
   "metadata": {},
   "source": [
    "### Mutable\n",
    "\n",
    "set(mutable) vs frozenset(immutable) : 특징을 갖추면 호환이 가능"
   ]
  },
  {
   "cell_type": "code",
   "execution_count": null,
   "id": "b3db9d58",
   "metadata": {},
   "outputs": [],
   "source": [
    "import dis"
   ]
  },
  {
   "cell_type": "code",
   "execution_count": null,
   "id": "3963b4d9",
   "metadata": {},
   "outputs": [],
   "source": [
    "def t(t):\n",
    "    a = t+t\n",
    "    return a"
   ]
  },
  {
   "cell_type": "code",
   "execution_count": null,
   "id": "558f0aa4",
   "metadata": {},
   "outputs": [],
   "source": [
    "def s(t):\n",
    "    return t+t"
   ]
  },
  {
   "cell_type": "code",
   "execution_count": null,
   "id": "3838d7bb",
   "metadata": {},
   "outputs": [],
   "source": [
    "dis.dis(t)"
   ]
  },
  {
   "cell_type": "markdown",
   "id": "97738634",
   "metadata": {},
   "source": [
    "**Operator overloading**\n",
    "\n",
    "다형성 : 데이터 타입에 따라 다른 연산 결과를 취한다."
   ]
  },
  {
   "cell_type": "markdown",
   "id": "eca5e7aa",
   "metadata": {},
   "source": [
    "### Set\n",
    "\n"
   ]
  },
  {
   "cell_type": "code",
   "execution_count": null,
   "id": "443df257",
   "metadata": {},
   "outputs": [],
   "source": [
    "a = {3,2,1}\n",
    "a"
   ]
  },
  {
   "cell_type": "code",
   "execution_count": null,
   "id": "77ff7443",
   "metadata": {},
   "outputs": [],
   "source": [
    "b = {2,3,4}"
   ]
  },
  {
   "cell_type": "code",
   "execution_count": null,
   "id": "610e8af7",
   "metadata": {},
   "outputs": [],
   "source": [
    "a - b"
   ]
  },
  {
   "cell_type": "code",
   "execution_count": null,
   "id": "15c814bf",
   "metadata": {},
   "outputs": [],
   "source": [
    "1 & 2"
   ]
  },
  {
   "cell_type": "code",
   "execution_count": null,
   "id": "949d9d19",
   "metadata": {},
   "outputs": [],
   "source": [
    "a & b # bitwise AND 연산자"
   ]
  },
  {
   "cell_type": "code",
   "execution_count": null,
   "id": "1cfff8c9",
   "metadata": {},
   "outputs": [],
   "source": [
    "a | b # bitwise OR 연산자"
   ]
  },
  {
   "cell_type": "code",
   "execution_count": null,
   "id": "441d96dd",
   "metadata": {},
   "outputs": [],
   "source": [
    "dir(a)"
   ]
  },
  {
   "cell_type": "code",
   "execution_count": null,
   "id": "e307a0ac",
   "metadata": {},
   "outputs": [],
   "source": [
    "c = tf.Variable([1,2,3])"
   ]
  },
  {
   "cell_type": "code",
   "execution_count": null,
   "id": "668a4111",
   "metadata": {
    "scrolled": true
   },
   "outputs": [],
   "source": [
    "c.assign([2,3,4])"
   ]
  },
  {
   "cell_type": "code",
   "execution_count": null,
   "id": "da4c4e56",
   "metadata": {},
   "outputs": [],
   "source": [
    "c # mutable"
   ]
  },
  {
   "cell_type": "code",
   "execution_count": null,
   "id": "54674312",
   "metadata": {},
   "outputs": [],
   "source": [
    "d = frozenset([1,2,3])"
   ]
  },
  {
   "cell_type": "code",
   "execution_count": null,
   "id": "1d1c5ed0",
   "metadata": {},
   "outputs": [],
   "source": [
    "d # immutable set은 상응하는 데이터가 없으므로 literal로 만들 수 없다."
   ]
  },
  {
   "cell_type": "markdown",
   "id": "4667e74d",
   "metadata": {},
   "source": [
    "### Dictionary"
   ]
  },
  {
   "cell_type": "code",
   "execution_count": null,
   "id": "71f01a9a",
   "metadata": {},
   "outputs": [],
   "source": [
    "type({}) # dictionary. 공집합은 literal을 만들 수 없다."
   ]
  },
  {
   "cell_type": "code",
   "execution_count": null,
   "id": "46a1ced8",
   "metadata": {},
   "outputs": [],
   "source": [
    "# 해결법 : 객체 방식으로 만듦\n",
    "set()"
   ]
  },
  {
   "cell_type": "code",
   "execution_count": null,
   "id": "723fe79f",
   "metadata": {},
   "outputs": [],
   "source": [
    "x = {}\n",
    "dir(x)  # dictionary는 indexing이 가능"
   ]
  },
  {
   "cell_type": "code",
   "execution_count": null,
   "id": "abbe22ba",
   "metadata": {
    "scrolled": true
   },
   "outputs": [],
   "source": [
    "y = [1,2,3]\n",
    "y[4]"
   ]
  },
  {
   "cell_type": "code",
   "execution_count": null,
   "id": "68dc9685",
   "metadata": {},
   "outputs": [],
   "source": [
    "y[4] = 4"
   ]
  },
  {
   "cell_type": "code",
   "execution_count": null,
   "id": "7f4fea6e",
   "metadata": {},
   "outputs": [],
   "source": [
    "x = {'a' : 1} \n",
    "x['b']"
   ]
  },
  {
   "cell_type": "code",
   "execution_count": null,
   "id": "6280771c",
   "metadata": {},
   "outputs": [],
   "source": [
    "x[4]=4"
   ]
  },
  {
   "cell_type": "code",
   "execution_count": null,
   "id": "2e61d873",
   "metadata": {},
   "outputs": [],
   "source": [
    "x"
   ]
  },
  {
   "cell_type": "markdown",
   "id": "8a9ea9af",
   "metadata": {},
   "source": [
    "dictionary는 할당 뒤에 error 등장"
   ]
  },
  {
   "cell_type": "code",
   "execution_count": null,
   "id": "097d6f5c",
   "metadata": {},
   "outputs": [],
   "source": [
    "iris['a'] = 1"
   ]
  },
  {
   "cell_type": "code",
   "execution_count": null,
   "id": "b9e99e50",
   "metadata": {},
   "outputs": [],
   "source": [
    "iris.b=2 # ????? 어떻게 되는 거지?"
   ]
  },
  {
   "cell_type": "code",
   "execution_count": null,
   "id": "ce18d526",
   "metadata": {},
   "outputs": [],
   "source": [
    "iris.columns # ?????"
   ]
  },
  {
   "cell_type": "code",
   "execution_count": null,
   "id": "4ec5cf85",
   "metadata": {},
   "outputs": [],
   "source": [
    "iris"
   ]
  },
  {
   "cell_type": "markdown",
   "id": "e97245ea",
   "metadata": {},
   "source": [
    "dictionary는 hashable(모든 element가 mutable해서 고유한 주소를 갖는)한 key만 올 수 있다."
   ]
  },
  {
   "cell_type": "code",
   "execution_count": null,
   "id": "7a73add2",
   "metadata": {},
   "outputs": [],
   "source": [
    "z = {1:1}\n",
    "zz = {(1,2,3) : 1}"
   ]
  },
  {
   "cell_type": "code",
   "execution_count": null,
   "id": "33f922ce",
   "metadata": {},
   "outputs": [],
   "source": [
    "zz"
   ]
  },
  {
   "cell_type": "code",
   "execution_count": null,
   "id": "377af1de",
   "metadata": {},
   "outputs": [],
   "source": [
    "zz = {[1,2,3] : 1}"
   ]
  },
  {
   "cell_type": "code",
   "execution_count": null,
   "id": "dfc0cd39",
   "metadata": {},
   "outputs": [],
   "source": [
    "zz = {([1,2,3]) : 1}"
   ]
  },
  {
   "cell_type": "code",
   "execution_count": null,
   "id": "30e07687",
   "metadata": {},
   "outputs": [],
   "source": [
    "zz = {([1],2,3) : 1}"
   ]
  },
  {
   "cell_type": "code",
   "execution_count": null,
   "id": "b713b5b5",
   "metadata": {},
   "outputs": [],
   "source": [
    "set([1,2,3]) #은 오류가 안 나는 이유? 객체 지향 방식은 지원하기 때문"
   ]
  },
  {
   "cell_type": "code",
   "execution_count": null,
   "id": "d8fe4be0",
   "metadata": {},
   "outputs": [],
   "source": [
    "z = dict(a=1)"
   ]
  },
  {
   "cell_type": "code",
   "execution_count": null,
   "id": "abd6c82a",
   "metadata": {},
   "outputs": [],
   "source": [
    "z"
   ]
  },
  {
   "cell_type": "markdown",
   "id": "c5725db4",
   "metadata": {},
   "source": [
    "PEP 8 : 파이썬 명명 규칙(naver 입사 문제)"
   ]
  },
  {
   "cell_type": "markdown",
   "id": "20d09d90",
   "metadata": {},
   "source": [
    "python<= camel == pascal"
   ]
  },
  {
   "cell_type": "markdown",
   "id": "d33b8663",
   "metadata": {},
   "source": [
    "1) Snake method"
   ]
  },
  {
   "cell_type": "code",
   "execution_count": null,
   "id": "38d9709c",
   "metadata": {},
   "outputs": [],
   "source": [
    "from sklearn.datasets import load_boston"
   ]
  },
  {
   "cell_type": "code",
   "execution_count": null,
   "id": "540e934a",
   "metadata": {},
   "outputs": [],
   "source": [
    "type(load_boston)"
   ]
  },
  {
   "cell_type": "code",
   "execution_count": null,
   "id": "022a383c",
   "metadata": {},
   "outputs": [],
   "source": [
    "type(tf.keras.losses.binary_crossentropy)"
   ]
  },
  {
   "cell_type": "markdown",
   "id": "ef712012",
   "metadata": {},
   "source": [
    "2) Camel/CapsWord(pascal) method "
   ]
  },
  {
   "cell_type": "markdown",
   "id": "d1e00ac6",
   "metadata": {},
   "source": [
    "1) camel : binaryCrossentropy\n",
    "\n",
    "2) CapsWord : BinaryCrossentropy"
   ]
  },
  {
   "cell_type": "code",
   "execution_count": null,
   "id": "89a678d1",
   "metadata": {},
   "outputs": [],
   "source": [
    "a = 1,2,3, # last ',' : trailing comma 일부러 만들어 주기도 한다. 원소를 추가할 여지가 있기 때문"
   ]
  },
  {
   "cell_type": "code",
   "execution_count": null,
   "id": "4c631d31",
   "metadata": {},
   "outputs": [],
   "source": [
    "a = 1,2,3"
   ]
  },
  {
   "cell_type": "code",
   "execution_count": null,
   "id": "770de9cc",
   "metadata": {},
   "outputs": [],
   "source": [
    "a, b, = 1,2,"
   ]
  },
  {
   "cell_type": "code",
   "execution_count": null,
   "id": "776e15ac",
   "metadata": {},
   "outputs": [],
   "source": [
    "a, b, = 1, 2"
   ]
  },
  {
   "cell_type": "code",
   "execution_count": null,
   "id": "f6851000",
   "metadata": {},
   "outputs": [],
   "source": [
    "a, b = b, a # c 기반이기 때문에 역변환이 바로 일어난다. 삼성 입사 문제 피보나치 변형"
   ]
  },
  {
   "cell_type": "code",
   "execution_count": null,
   "id": "1f6174e4",
   "metadata": {},
   "outputs": [],
   "source": [
    "(a,b) = (1,2)"
   ]
  },
  {
   "cell_type": "markdown",
   "id": "dc1a0c64",
   "metadata": {},
   "source": [
    "과제 : a, b = b, a + b\n",
    "피보나치 다양하게 구현해보기"
   ]
  },
  {
   "cell_type": "markdown",
   "id": "740f3080",
   "metadata": {},
   "source": [
    "*를 이용해 갯수가 맞지 않는 경우에 unpacking 하기"
   ]
  },
  {
   "cell_type": "code",
   "execution_count": null,
   "id": "937bb202",
   "metadata": {},
   "outputs": [],
   "source": [
    "a, *b = 1,2,3  # unpack : 값을 하나씩 풀어 각각 할당하는 것을 unpacking이라고 한다."
   ]
  },
  {
   "cell_type": "code",
   "execution_count": null,
   "id": "08b399e4",
   "metadata": {},
   "outputs": [],
   "source": [
    "a, b # 나머지 데이터를 list로 만듦 (list는 literable하므로)"
   ]
  },
  {
   "cell_type": "code",
   "execution_count": null,
   "id": "b972969e",
   "metadata": {},
   "outputs": [],
   "source": [
    "*a, b = 1,2,3"
   ]
  },
  {
   "cell_type": "code",
   "execution_count": null,
   "id": "103c32a0",
   "metadata": {},
   "outputs": [],
   "source": [
    "a, b"
   ]
  },
  {
   "cell_type": "code",
   "execution_count": null,
   "id": "7280e40f",
   "metadata": {},
   "outputs": [],
   "source": [
    "a, *b, c = [1,2,3,4,5]"
   ]
  },
  {
   "cell_type": "code",
   "execution_count": null,
   "id": "9a09edb5",
   "metadata": {},
   "outputs": [],
   "source": [
    "a, b, c"
   ]
  },
  {
   "cell_type": "markdown",
   "id": "99d58c26",
   "metadata": {},
   "source": [
    ",(콤마) 를 이용해 tuple을 list로 바꾸기"
   ]
  },
  {
   "cell_type": "code",
   "execution_count": null,
   "id": "a3c3df11",
   "metadata": {},
   "outputs": [],
   "source": [
    "*a = (1,2,3,4,5) # 오류"
   ]
  },
  {
   "cell_type": "code",
   "execution_count": null,
   "id": "ddb98738",
   "metadata": {},
   "outputs": [],
   "source": [
    "*a, = (1,2,3,4,5)"
   ]
  },
  {
   "cell_type": "code",
   "execution_count": null,
   "id": "ad8d12c0",
   "metadata": {},
   "outputs": [],
   "source": [
    "a"
   ]
  },
  {
   "cell_type": "markdown",
   "id": "de238b15",
   "metadata": {},
   "source": [
    "Shallow copy vs Deep copy\n",
    "\n",
    "- shallow copy의 중요성 : 언제든지 실수했을 때 원본을 다시 복제하면 되기 때문\n",
    "\n",
    "**numpy, pandas는 기본 copy가 deep copy**\n",
    "목요일 과제"
   ]
  },
  {
   "cell_type": "code",
   "execution_count": null,
   "id": "b3fdc2f1",
   "metadata": {},
   "outputs": [],
   "source": [
    "a = b = [1,2,3] "
   ]
  },
  {
   "cell_type": "code",
   "execution_count": null,
   "id": "8c1eb300",
   "metadata": {},
   "outputs": [],
   "source": [
    "c = b.copy() # shallow copy "
   ]
  },
  {
   "cell_type": "code",
   "execution_count": null,
   "id": "4c29f116",
   "metadata": {},
   "outputs": [],
   "source": [
    "c.append(4)"
   ]
  },
  {
   "cell_type": "code",
   "execution_count": null,
   "id": "f5e45f72",
   "metadata": {},
   "outputs": [],
   "source": [
    "a"
   ]
  },
  {
   "cell_type": "markdown",
   "id": "212ef591",
   "metadata": {},
   "source": [
    "**중요(헷갈리는 부분)**\n",
    "\n",
    "id(a) 값과 id(b) 값은 다르게 되었지만, 그 내부의 객체 id(a[0])과 id(b[0])은 같은 주소를 바라보고 있습니다."
   ]
  },
  {
   "cell_type": "code",
   "execution_count": null,
   "id": "c4c2c0f8",
   "metadata": {},
   "outputs": [],
   "source": [
    "b is b[:] # deep copy vs shallow copy"
   ]
  },
  {
   "cell_type": "code",
   "execution_count": null,
   "id": "18c6a0d3",
   "metadata": {},
   "outputs": [],
   "source": [
    "id(b[0])"
   ]
  },
  {
   "cell_type": "code",
   "execution_count": null,
   "id": "e67af1e5",
   "metadata": {},
   "outputs": [],
   "source": [
    "id(b[:][0])"
   ]
  },
  {
   "cell_type": "code",
   "execution_count": null,
   "id": "cb510513",
   "metadata": {},
   "outputs": [],
   "source": [
    "c = b"
   ]
  },
  {
   "cell_type": "code",
   "execution_count": null,
   "id": "a7364b94",
   "metadata": {},
   "outputs": [],
   "source": [
    "c.append(4)"
   ]
  },
  {
   "cell_type": "code",
   "execution_count": null,
   "id": "b3f9fbe3",
   "metadata": {},
   "outputs": [],
   "source": [
    "a"
   ]
  },
  {
   "cell_type": "code",
   "execution_count": null,
   "id": "b00590cd",
   "metadata": {},
   "outputs": [],
   "source": [
    "c = b[:]"
   ]
  },
  {
   "cell_type": "code",
   "execution_count": null,
   "id": "dda976e3",
   "metadata": {},
   "outputs": [],
   "source": [
    "c.append(4)"
   ]
  },
  {
   "cell_type": "code",
   "execution_count": null,
   "id": "15547839",
   "metadata": {},
   "outputs": [],
   "source": [
    "a"
   ]
  },
  {
   "cell_type": "markdown",
   "id": "cce89432",
   "metadata": {},
   "source": [
    "Fancy Indexing"
   ]
  },
  {
   "cell_type": "code",
   "execution_count": null,
   "id": "413570e0",
   "metadata": {
    "scrolled": true
   },
   "outputs": [],
   "source": [
    "iris[['petal_width','species']]"
   ]
  },
  {
   "cell_type": "markdown",
   "id": "dc30f45b",
   "metadata": {},
   "source": [
    "Shallow copy 예시"
   ]
  },
  {
   "cell_type": "code",
   "execution_count": null,
   "id": "606aa2f8",
   "metadata": {},
   "outputs": [],
   "source": [
    "a = b = [[1,2], [3,4]]"
   ]
  },
  {
   "cell_type": "code",
   "execution_count": null,
   "id": "6677ada6",
   "metadata": {},
   "outputs": [],
   "source": [
    "a"
   ]
  },
  {
   "cell_type": "code",
   "execution_count": null,
   "id": "f534093b",
   "metadata": {},
   "outputs": [],
   "source": [
    "c = a"
   ]
  },
  {
   "cell_type": "code",
   "execution_count": null,
   "id": "a424adf3",
   "metadata": {},
   "outputs": [],
   "source": [
    "c = a[:]"
   ]
  },
  {
   "cell_type": "code",
   "execution_count": null,
   "id": "beec135c",
   "metadata": {},
   "outputs": [],
   "source": [
    "c[0][0] = 100"
   ]
  },
  {
   "cell_type": "code",
   "execution_count": null,
   "id": "340be7cf",
   "metadata": {
    "scrolled": true
   },
   "outputs": [],
   "source": [
    "a"
   ]
  },
  {
   "cell_type": "markdown",
   "id": "414761b6",
   "metadata": {},
   "source": [
    "Deep copy 예시"
   ]
  },
  {
   "cell_type": "code",
   "execution_count": null,
   "id": "a08d5a70",
   "metadata": {},
   "outputs": [],
   "source": [
    "a = b = [[1,2], [3,4]]"
   ]
  },
  {
   "cell_type": "code",
   "execution_count": null,
   "id": "ba1f04dc",
   "metadata": {},
   "outputs": [],
   "source": [
    "a"
   ]
  },
  {
   "cell_type": "code",
   "execution_count": null,
   "id": "a5b5374d",
   "metadata": {},
   "outputs": [],
   "source": [
    "import copy\n",
    "c = copy.deepcopy(a)"
   ]
  },
  {
   "cell_type": "code",
   "execution_count": null,
   "id": "25ceb694",
   "metadata": {},
   "outputs": [],
   "source": [
    "c[0][0] = 100"
   ]
  },
  {
   "cell_type": "code",
   "execution_count": null,
   "id": "48851de8",
   "metadata": {},
   "outputs": [],
   "source": [
    "a"
   ]
  },
  {
   "cell_type": "code",
   "execution_count": null,
   "id": "bd9b3f88",
   "metadata": {},
   "outputs": [],
   "source": [
    "import tensorflow as tf"
   ]
  },
  {
   "cell_type": "code",
   "execution_count": null,
   "id": "0407da22",
   "metadata": {},
   "outputs": [],
   "source": [
    "tf.keras.datasets.mnist.load_data()"
   ]
  },
  {
   "cell_type": "code",
   "execution_count": null,
   "id": "e0b4f4d2",
   "metadata": {},
   "outputs": [],
   "source": [
    "len(tf.keras.datasets.mnist.load_data())"
   ]
  },
  {
   "cell_type": "code",
   "execution_count": null,
   "id": "07d5790c",
   "metadata": {},
   "outputs": [],
   "source": [
    "a, b = tf.keras.datasets.mnist.load_data()"
   ]
  },
  {
   "cell_type": "code",
   "execution_count": null,
   "id": "73a263ba",
   "metadata": {},
   "outputs": [],
   "source": [
    "len(a), len(b)"
   ]
  },
  {
   "cell_type": "code",
   "execution_count": null,
   "id": "798107bf",
   "metadata": {},
   "outputs": [],
   "source": [
    "x, y = a"
   ]
  },
  {
   "cell_type": "code",
   "execution_count": null,
   "id": "67ad2e53",
   "metadata": {},
   "outputs": [],
   "source": [
    "# 응용\n",
    "(x, y), (u, w) = tf.keras.datasets.mnist.load_data()"
   ]
  },
  {
   "cell_type": "code",
   "execution_count": null,
   "id": "aca8c65b",
   "metadata": {},
   "outputs": [],
   "source": [
    "c=1"
   ]
  },
  {
   "cell_type": "code",
   "execution_count": null,
   "id": "8f23de71",
   "metadata": {},
   "outputs": [],
   "source": [
    "c += 1\n",
    "c"
   ]
  },
  {
   "cell_type": "code",
   "execution_count": null,
   "id": "e58c0bb1",
   "metadata": {},
   "outputs": [],
   "source": [
    "++c"
   ]
  },
  {
   "cell_type": "markdown",
   "id": "c36d7705",
   "metadata": {},
   "source": [
    "a = 1 fin."
   ]
  },
  {
   "cell_type": "markdown",
   "id": "430ed2dd",
   "metadata": {},
   "source": [
    "Simple statements (https://docs.python.org/3/reference/simple_stmts.html)"
   ]
  },
  {
   "cell_type": "markdown",
   "id": "af71760c",
   "metadata": {},
   "source": [
    "### Boolean"
   ]
  },
  {
   "cell_type": "code",
   "execution_count": 11,
   "id": "dce846e2",
   "metadata": {},
   "outputs": [
    {
     "name": "stdout",
     "output_type": "stream",
     "text": [
      "a\n"
     ]
    }
   ],
   "source": [
    "if ['']:\n",
    "    print('a')\n",
    "else:\n",
    "    print('b')"
   ]
  },
  {
   "cell_type": "code",
   "execution_count": 12,
   "id": "944f1f17",
   "metadata": {},
   "outputs": [
    {
     "name": "stdout",
     "output_type": "stream",
     "text": [
      "b\n"
     ]
    }
   ],
   "source": [
    "if tuple() :\n",
    "    print('a')\n",
    "else:\n",
    "    print('b')"
   ]
  },
  {
   "cell_type": "code",
   "execution_count": 13,
   "id": "df48dbf1",
   "metadata": {},
   "outputs": [
    {
     "data": {
      "text/plain": [
       "False"
      ]
     },
     "execution_count": 13,
     "metadata": {},
     "output_type": "execute_result"
    }
   ],
   "source": [
    "False == None"
   ]
  },
  {
   "cell_type": "markdown",
   "id": "50e0bdc1",
   "metadata": {},
   "source": [
    "존재론적인 관점에서 있는지 없는지 체크\n",
    "\n",
    "ex) { }, [ ], None, tuple()"
   ]
  },
  {
   "cell_type": "code",
   "execution_count": 14,
   "id": "26135348",
   "metadata": {},
   "outputs": [
    {
     "name": "stdout",
     "output_type": "stream",
     "text": [
      "The Zen of Python, by Tim Peters\n",
      "\n",
      "Beautiful is better than ugly.\n",
      "Explicit is better than implicit.\n",
      "Simple is better than complex.\n",
      "Complex is better than complicated.\n",
      "Flat is better than nested.\n",
      "Sparse is better than dense.\n",
      "Readability counts.\n",
      "Special cases aren't special enough to break the rules.\n",
      "Although practicality beats purity.\n",
      "Errors should never pass silently.\n",
      "Unless explicitly silenced.\n",
      "In the face of ambiguity, refuse the temptation to guess.\n",
      "There should be one-- and preferably only one --obvious way to do it.\n",
      "Although that way may not be obvious at first unless you're Dutch.\n",
      "Now is better than never.\n",
      "Although never is often better than *right* now.\n",
      "If the implementation is hard to explain, it's a bad idea.\n",
      "If the implementation is easy to explain, it may be a good idea.\n",
      "Namespaces are one honking great idea -- let's do more of those!\n"
     ]
    }
   ],
   "source": [
    "# 파이썬 철학\n",
    "import this "
   ]
  },
  {
   "cell_type": "markdown",
   "id": "cab02029",
   "metadata": {},
   "source": [
    "### AND & OR"
   ]
  },
  {
   "cell_type": "code",
   "execution_count": 15,
   "id": "615177c5",
   "metadata": {},
   "outputs": [
    {
     "data": {
      "text/plain": [
       "4"
      ]
     },
     "execution_count": 15,
     "metadata": {},
     "output_type": "execute_result"
    }
   ],
   "source": [
    "3 and 4 # Short circuit 앞 : 참 -> 뒤 ,   앞 : 거짓 -> 앞"
   ]
  },
  {
   "cell_type": "code",
   "execution_count": 16,
   "id": "586361f6",
   "metadata": {},
   "outputs": [
    {
     "data": {
      "text/plain": [
       "4"
      ]
     },
     "execution_count": 16,
     "metadata": {},
     "output_type": "execute_result"
    }
   ],
   "source": [
    "4 or 5 # 앞 : 참 -> 앞 ,   앞 : 거짓 -> 뒤"
   ]
  },
  {
   "cell_type": "code",
   "execution_count": 17,
   "id": "20b84c68",
   "metadata": {},
   "outputs": [
    {
     "data": {
      "text/plain": [
       "[]"
      ]
     },
     "execution_count": 17,
     "metadata": {},
     "output_type": "execute_result"
    }
   ],
   "source": [
    "[] and 4 # [] : false"
   ]
  },
  {
   "cell_type": "markdown",
   "id": "3fa82e13",
   "metadata": {},
   "source": [
    "### WHILE, FOR\n",
    "\n",
    "- while : 객체 지향 반복문. 무한루프. 범위가 더 넓다.\n",
    "- for : 인덱스 지향 반복문"
   ]
  },
  {
   "cell_type": "markdown",
   "id": "7628817a",
   "metadata": {},
   "source": [
    "#### FOR"
   ]
  },
  {
   "cell_type": "code",
   "execution_count": 22,
   "id": "8acd7045",
   "metadata": {},
   "outputs": [
    {
     "name": "stdout",
     "output_type": "stream",
     "text": [
      "Membership test operations\n",
      "**************************\n",
      "\n",
      "The operators \"in\" and \"not in\" test for membership.  \"x in s\"\n",
      "evaluates to \"True\" if *x* is a member of *s*, and \"False\" otherwise.\n",
      "\"x not in s\" returns the negation of \"x in s\".  All built-in sequences\n",
      "and set types support this as well as dictionary, for which \"in\" tests\n",
      "whether the dictionary has a given key. For container types such as\n",
      "list, tuple, set, frozenset, dict, or collections.deque, the\n",
      "expression \"x in y\" is equivalent to \"any(x is e or x == e for e in\n",
      "y)\".\n",
      "\n",
      "For the string and bytes types, \"x in y\" is \"True\" if and only if *x*\n",
      "is a substring of *y*.  An equivalent test is \"y.find(x) != -1\".\n",
      "Empty strings are always considered to be a substring of any other\n",
      "string, so \"\"\" in \"abc\"\" will return \"True\".\n",
      "\n",
      "For user-defined classes which define the \"__contains__()\" method, \"x\n",
      "in y\" returns \"True\" if \"y.__contains__(x)\" returns a true value, and\n",
      "\"False\" otherwise.\n",
      "\n",
      "For user-defined classes which do not define \"__contains__()\" but do\n",
      "define \"__iter__()\", \"x in y\" is \"True\" if some value \"z\", for which\n",
      "the expression \"x is z or x == z\" is true, is produced while iterating\n",
      "over \"y\". If an exception is raised during the iteration, it is as if\n",
      "\"in\" raised that exception.\n",
      "\n",
      "Lastly, the old-style iteration protocol is tried: if a class defines\n",
      "\"__getitem__()\", \"x in y\" is \"True\" if and only if there is a non-\n",
      "negative integer index *i* such that \"x is y[i] or x == y[i]\", and no\n",
      "lower integer index raises the \"IndexError\" exception.  (If any other\n",
      "exception is raised, it is as if \"in\" raised that exception).\n",
      "\n",
      "The operator \"not in\" is defined to have the inverse truth value of\n",
      "\"in\".\n",
      "\n",
      "Related help topics: SEQUENCEMETHODS\n",
      "\n"
     ]
    }
   ],
   "source": [
    "help('in')"
   ]
  },
  {
   "cell_type": "code",
   "execution_count": 23,
   "id": "017dcab7",
   "metadata": {},
   "outputs": [
    {
     "ename": "TypeError",
     "evalue": "'in <string>' requires string as left operand, not int",
     "output_type": "error",
     "traceback": [
      "\u001b[1;31m---------------------------------------------------------------------------\u001b[0m",
      "\u001b[1;31mTypeError\u001b[0m                                 Traceback (most recent call last)",
      "\u001b[1;32m<ipython-input-23-fe541caef866>\u001b[0m in \u001b[0;36m<module>\u001b[1;34m\u001b[0m\n\u001b[1;32m----> 1\u001b[1;33m \u001b[1;36m1\u001b[0m \u001b[1;32min\u001b[0m \u001b[1;34m'12345'\u001b[0m \u001b[1;31m# membership\u001b[0m\u001b[1;33m\u001b[0m\u001b[1;33m\u001b[0m\u001b[0m\n\u001b[0m",
      "\u001b[1;31mTypeError\u001b[0m: 'in <string>' requires string as left operand, not int"
     ]
    }
   ],
   "source": [
    "1 in '12345' # membership"
   ]
  },
  {
   "cell_type": "code",
   "execution_count": 24,
   "id": "895caec0",
   "metadata": {},
   "outputs": [
    {
     "data": {
      "text/plain": [
       "True"
      ]
     },
     "execution_count": 24,
     "metadata": {},
     "output_type": "execute_result"
    }
   ],
   "source": [
    "'1' in '12345'"
   ]
  },
  {
   "cell_type": "code",
   "execution_count": 26,
   "id": "81245032",
   "metadata": {},
   "outputs": [
    {
     "data": {
      "text/plain": [
       "False"
      ]
     },
     "execution_count": 26,
     "metadata": {},
     "output_type": "execute_result"
    }
   ],
   "source": [
    "'1' in [1,2,3] "
   ]
  },
  {
   "cell_type": "code",
   "execution_count": 27,
   "id": "e7b79e58",
   "metadata": {},
   "outputs": [
    {
     "data": {
      "text/plain": [
       "True"
      ]
     },
     "execution_count": 27,
     "metadata": {},
     "output_type": "execute_result"
    }
   ],
   "source": [
    "1 in [1,2,3]"
   ]
  },
  {
   "cell_type": "code",
   "execution_count": 29,
   "id": "4d5654b8",
   "metadata": {},
   "outputs": [
    {
     "data": {
      "text/plain": [
       "False"
      ]
     },
     "execution_count": 29,
     "metadata": {},
     "output_type": "execute_result"
    }
   ],
   "source": [
    "1 not in [1,2,3]"
   ]
  },
  {
   "cell_type": "markdown",
   "id": "2ac28075",
   "metadata": {},
   "source": [
    "!딕셔너리는 key만 체크한다!"
   ]
  },
  {
   "cell_type": "code",
   "execution_count": 30,
   "id": "0b277874",
   "metadata": {},
   "outputs": [
    {
     "data": {
      "text/plain": [
       "False"
      ]
     },
     "execution_count": 30,
     "metadata": {},
     "output_type": "execute_result"
    }
   ],
   "source": [
    "'1' in {1:'1'}"
   ]
  },
  {
   "cell_type": "code",
   "execution_count": 35,
   "id": "d8b9184e",
   "metadata": {
    "scrolled": true
   },
   "outputs": [
    {
     "name": "stdout",
     "output_type": "stream",
     "text": [
      "1\n",
      "3\n",
      "5\n"
     ]
    }
   ],
   "source": [
    "for i in {1:2,3:4,5:6}:  # in 뒤에는 iterable한 값만 올 수 있다. + for 뒤에 올 수 있는 것은 iterable한 객체이다.\n",
    "    print(i)"
   ]
  },
  {
   "cell_type": "markdown",
   "id": "c96c2371",
   "metadata": {},
   "source": [
    "iterable한 객체 : __iter__ 아이템이 있는 객체. sequence를 띔."
   ]
  },
  {
   "cell_type": "code",
   "execution_count": 36,
   "id": "91ab98f6",
   "metadata": {},
   "outputs": [
    {
     "data": {
      "text/plain": [
       "True"
      ]
     },
     "execution_count": 36,
     "metadata": {},
     "output_type": "execute_result"
    }
   ],
   "source": [
    "a = [1,2,3]\n",
    "'__iter__' in dir(a)"
   ]
  },
  {
   "cell_type": "code",
   "execution_count": 40,
   "id": "06430e81",
   "metadata": {},
   "outputs": [],
   "source": [
    "class A:\n",
    "    pass"
   ]
  },
  {
   "cell_type": "code",
   "execution_count": 41,
   "id": "2eb41952",
   "metadata": {},
   "outputs": [],
   "source": [
    "a = A()"
   ]
  },
  {
   "cell_type": "code",
   "execution_count": 42,
   "id": "36804830",
   "metadata": {},
   "outputs": [
    {
     "ename": "TypeError",
     "evalue": "'A' object is not iterable",
     "output_type": "error",
     "traceback": [
      "\u001b[1;31m---------------------------------------------------------------------------\u001b[0m",
      "\u001b[1;31mTypeError\u001b[0m                                 Traceback (most recent call last)",
      "\u001b[1;32m<ipython-input-42-c324de4f8f18>\u001b[0m in \u001b[0;36m<module>\u001b[1;34m\u001b[0m\n\u001b[1;32m----> 1\u001b[1;33m \u001b[1;32mfor\u001b[0m \u001b[0mi\u001b[0m \u001b[1;32min\u001b[0m \u001b[0ma\u001b[0m\u001b[1;33m:\u001b[0m\u001b[1;33m\u001b[0m\u001b[1;33m\u001b[0m\u001b[0m\n\u001b[0m\u001b[0;32m      2\u001b[0m     \u001b[0mprint\u001b[0m\u001b[1;33m(\u001b[0m\u001b[0mi\u001b[0m\u001b[1;33m)\u001b[0m\u001b[1;33m\u001b[0m\u001b[1;33m\u001b[0m\u001b[0m\n",
      "\u001b[1;31mTypeError\u001b[0m: 'A' object is not iterable"
     ]
    }
   ],
   "source": [
    "for i in a:\n",
    "    print(i)"
   ]
  },
  {
   "cell_type": "code",
   "execution_count": 51,
   "id": "2ea02b36",
   "metadata": {},
   "outputs": [],
   "source": [
    "import itertools"
   ]
  },
  {
   "cell_type": "code",
   "execution_count": 52,
   "id": "f2506f9b",
   "metadata": {},
   "outputs": [],
   "source": [
    "class B:\n",
    "    def __iter__(self): # iterable 넣어줌\n",
    "        return iter('12')  # iter() : iterator로 만드는 과정"
   ]
  },
  {
   "cell_type": "markdown",
   "id": "347dfdfc",
   "metadata": {},
   "source": [
    "iterator 확인"
   ]
  },
  {
   "cell_type": "code",
   "execution_count": 58,
   "id": "c497a9c7",
   "metadata": {},
   "outputs": [],
   "source": [
    "a = [1,2,3,4]"
   ]
  },
  {
   "cell_type": "code",
   "execution_count": 59,
   "id": "1da1e633",
   "metadata": {},
   "outputs": [],
   "source": [
    "b = iter(a)"
   ]
  },
  {
   "cell_type": "code",
   "execution_count": 60,
   "id": "c0120ed3",
   "metadata": {},
   "outputs": [
    {
     "data": {
      "text/plain": [
       "1"
      ]
     },
     "execution_count": 60,
     "metadata": {},
     "output_type": "execute_result"
    }
   ],
   "source": [
    "next(b)"
   ]
  },
  {
   "cell_type": "code",
   "execution_count": 61,
   "id": "9efa8572",
   "metadata": {},
   "outputs": [],
   "source": [
    "from sklearn.naive_bayes import ABCMeta"
   ]
  },
  {
   "cell_type": "code",
   "execution_count": 56,
   "id": "e1aec99a",
   "metadata": {},
   "outputs": [
    {
     "name": "stderr",
     "output_type": "stream",
     "text": [
      "<ipython-input-56-76907d565943>:1: DeprecationWarning: Using or importing the ABCs from 'collections' instead of from 'collections.abc' is deprecated since Python 3.3, and in 3.10 it will stop working\n",
      "  from collections import Iterable, Iterator\n"
     ]
    }
   ],
   "source": [
    "from collections import Iterable, Iterator # 내 자식이 아니여도 비슷하면 받아준다. "
   ]
  },
  {
   "cell_type": "code",
   "execution_count": 53,
   "id": "4c9ba948",
   "metadata": {},
   "outputs": [],
   "source": [
    "b = B()"
   ]
  },
  {
   "cell_type": "code",
   "execution_count": 54,
   "id": "f4becd7b",
   "metadata": {},
   "outputs": [
    {
     "name": "stdout",
     "output_type": "stream",
     "text": [
      "1\n",
      "2\n"
     ]
    }
   ],
   "source": [
    "for i in b:\n",
    "    print(i)"
   ]
  },
  {
   "cell_type": "code",
   "execution_count": 71,
   "id": "11b6623d",
   "metadata": {},
   "outputs": [],
   "source": [
    "def x():\n",
    "    for i in [1,2,3]:\n",
    "        print(i)"
   ]
  },
  {
   "cell_type": "code",
   "execution_count": 72,
   "id": "376c52b2",
   "metadata": {},
   "outputs": [],
   "source": [
    "import dis"
   ]
  },
  {
   "cell_type": "code",
   "execution_count": 73,
   "id": "b1d48296",
   "metadata": {},
   "outputs": [
    {
     "name": "stdout",
     "output_type": "stream",
     "text": [
      "  2           0 LOAD_CONST               1 ((1, 2, 3))\n",
      "              2 GET_ITER\n",
      "        >>    4 FOR_ITER                12 (to 18)\n",
      "              6 STORE_FAST               0 (i)\n",
      "\n",
      "  3           8 LOAD_GLOBAL              0 (print)\n",
      "             10 LOAD_FAST                0 (i)\n",
      "             12 CALL_FUNCTION            1\n",
      "             14 POP_TOP\n",
      "             16 JUMP_ABSOLUTE            4\n",
      "        >>   18 LOAD_CONST               0 (None)\n",
      "             20 RETURN_VALUE\n"
     ]
    }
   ],
   "source": [
    "dis.dis(x) # GET_ITER 기능 있음."
   ]
  },
  {
   "cell_type": "markdown",
   "id": "b2244dc4",
   "metadata": {},
   "source": [
    "for문 뒤에도 else를 붙일 수 있다"
   ]
  },
  {
   "cell_type": "code",
   "execution_count": 74,
   "id": "80dbd4c5",
   "metadata": {},
   "outputs": [
    {
     "name": "stdout",
     "output_type": "stream",
     "text": [
      "1\n",
      "2\n",
      "3\n",
      "end\n"
     ]
    }
   ],
   "source": [
    "for i in [1,2,3]:\n",
    "    print(i)\n",
    "else:\n",
    "    print('end') # else를 이용해 반복문의 종료 시점 확인"
   ]
  },
  {
   "cell_type": "code",
   "execution_count": 78,
   "id": "e51b1b98",
   "metadata": {},
   "outputs": [
    {
     "name": "stdout",
     "output_type": "stream",
     "text": [
      "1\n",
      "2\n",
      "1\n",
      "2\n",
      "3\n",
      "end\n"
     ]
    }
   ],
   "source": [
    "# break example \n",
    "\n",
    "for i in [1,2,3]:\n",
    "    if i == 3:\n",
    "        break\n",
    "    print(i)\n",
    "else:\n",
    "    print('end')\n",
    "\n",
    "\n",
    "print('\\n')\n",
    "\n",
    "# continue example\n",
    "\n",
    "for i in [1,2,3]:\n",
    "    if i == 4:\n",
    "        continue\n",
    "    print(i)\n",
    "else:\n",
    "    print('end')"
   ]
  },
  {
   "cell_type": "markdown",
   "id": "9b4ab1dd",
   "metadata": {},
   "source": [
    "'for문이나 while문 뒤에 else를 쓰지 말라' - effective python"
   ]
  },
  {
   "cell_type": "code",
   "execution_count": null,
   "id": "f760703a",
   "metadata": {},
   "outputs": [],
   "source": [
    "i = 10\n",
    "while(i>10):\n",
    "    i -= 1\n",
    "    print(i)\n",
    "    \n",
    "else:\n",
    "    print('end')"
   ]
  },
  {
   "cell_type": "markdown",
   "id": "3a787e4a",
   "metadata": {},
   "source": [
    "### Declaration / Definition\n",
    "\n",
    "> 1) 함수 선언\n",
    "\n",
    "> 2) 클래스 선언\n",
    "\n",
    "선언의 필요성 : 재사용\n",
    "1) 함수 : 행동 재사용\n",
    "2) 클래스 : 행동, 데이터 재사용\n",
    "\n",
    "- 파라미터 (parameter) (참고 : https://docs.python.org/3/glossary.html)\n",
    "\n",
    "- 인자 (argument)"
   ]
  },
  {
   "cell_type": "code",
   "execution_count": 79,
   "id": "f66a73cf",
   "metadata": {},
   "outputs": [],
   "source": [
    "def x(a):\n",
    "    return a"
   ]
  },
  {
   "cell_type": "code",
   "execution_count": 86,
   "id": "78fc99d1",
   "metadata": {},
   "outputs": [
    {
     "data": {
      "text/plain": [
       "<function __main__.x(a)>"
      ]
     },
     "execution_count": 86,
     "metadata": {},
     "output_type": "execute_result"
    }
   ],
   "source": [
    "x  # 함수"
   ]
  },
  {
   "cell_type": "code",
   "execution_count": 87,
   "id": "706ecfb5",
   "metadata": {},
   "outputs": [
    {
     "ename": "TypeError",
     "evalue": "x() missing 1 required positional argument: 'a'",
     "output_type": "error",
     "traceback": [
      "\u001b[1;31m---------------------------------------------------------------------------\u001b[0m",
      "\u001b[1;31mTypeError\u001b[0m                                 Traceback (most recent call last)",
      "\u001b[1;32m<ipython-input-87-08f9d0828de0>\u001b[0m in \u001b[0;36m<module>\u001b[1;34m\u001b[0m\n\u001b[1;32m----> 1\u001b[1;33m \u001b[0mx\u001b[0m\u001b[1;33m(\u001b[0m\u001b[1;33m)\u001b[0m\u001b[1;33m\u001b[0m\u001b[1;33m\u001b[0m\u001b[0m\n\u001b[0m",
      "\u001b[1;31mTypeError\u001b[0m: x() missing 1 required positional argument: 'a'"
     ]
    }
   ],
   "source": [
    "x() # 함수 x"
   ]
  },
  {
   "cell_type": "code",
   "execution_count": 88,
   "id": "6dae75d7",
   "metadata": {},
   "outputs": [
    {
     "data": {
      "text/plain": [
       "[1, 2, 3, 4]"
      ]
     },
     "execution_count": 88,
     "metadata": {},
     "output_type": "execute_result"
    }
   ],
   "source": [
    "x(a) # 함수 x. 값"
   ]
  },
  {
   "cell_type": "markdown",
   "id": "4c254b8a",
   "metadata": {},
   "source": [
    "괄호를 붙일 수 있는 애가 따로 존재. callable -> 호출할 수 있는"
   ]
  },
  {
   "cell_type": "code",
   "execution_count": 89,
   "id": "c0f7a771",
   "metadata": {},
   "outputs": [
    {
     "data": {
      "text/plain": [
       "True"
      ]
     },
     "execution_count": 89,
     "metadata": {},
     "output_type": "execute_result"
    }
   ],
   "source": [
    "callable(x)"
   ]
  },
  {
   "cell_type": "code",
   "execution_count": 90,
   "id": "cd46ca1e",
   "metadata": {
    "scrolled": true
   },
   "outputs": [
    {
     "name": "stderr",
     "output_type": "stream",
     "text": [
      "<>:1: SyntaxWarning: 'int' object is not callable; perhaps you missed a comma?\n",
      "<>:1: SyntaxWarning: 'int' object is not callable; perhaps you missed a comma?\n",
      "<ipython-input-90-493eabe09421>:1: SyntaxWarning: 'int' object is not callable; perhaps you missed a comma?\n",
      "  1()\n"
     ]
    },
    {
     "ename": "TypeError",
     "evalue": "'int' object is not callable",
     "output_type": "error",
     "traceback": [
      "\u001b[1;31m---------------------------------------------------------------------------\u001b[0m",
      "\u001b[1;31mTypeError\u001b[0m                                 Traceback (most recent call last)",
      "\u001b[1;32m<ipython-input-90-493eabe09421>\u001b[0m in \u001b[0;36m<module>\u001b[1;34m\u001b[0m\n\u001b[1;32m----> 1\u001b[1;33m \u001b[1;36m1\u001b[0m\u001b[1;33m(\u001b[0m\u001b[1;33m)\u001b[0m\u001b[1;33m\u001b[0m\u001b[1;33m\u001b[0m\u001b[0m\n\u001b[0m",
      "\u001b[1;31mTypeError\u001b[0m: 'int' object is not callable"
     ]
    }
   ],
   "source": [
    "1()"
   ]
  },
  {
   "cell_type": "code",
   "execution_count": 91,
   "id": "97878bf1",
   "metadata": {},
   "outputs": [],
   "source": [
    "class A:\n",
    "    pass"
   ]
  },
  {
   "cell_type": "code",
   "execution_count": 92,
   "id": "ddc05308",
   "metadata": {},
   "outputs": [
    {
     "data": {
      "text/plain": [
       "True"
      ]
     },
     "execution_count": 92,
     "metadata": {},
     "output_type": "execute_result"
    }
   ],
   "source": [
    "callable(A)"
   ]
  },
  {
   "cell_type": "code",
   "execution_count": 93,
   "id": "a1d53705",
   "metadata": {},
   "outputs": [
    {
     "data": {
      "text/plain": [
       "<__main__.A at 0x1ca7260ed90>"
      ]
     },
     "execution_count": 93,
     "metadata": {},
     "output_type": "execute_result"
    }
   ],
   "source": [
    "A()"
   ]
  },
  {
   "cell_type": "code",
   "execution_count": 82,
   "id": "c27a499b",
   "metadata": {},
   "outputs": [],
   "source": [
    "import pandas as pd"
   ]
  },
  {
   "cell_type": "code",
   "execution_count": 102,
   "id": "8d0ef781",
   "metadata": {},
   "outputs": [
    {
     "data": {
      "text/plain": [
       "<function pandas.io.parsers.readers.read_csv(filepath_or_buffer: 'FilePath | ReadCsvBuffer[bytes] | ReadCsvBuffer[str]', sep=<no_default>, delimiter=None, header='infer', names=<no_default>, index_col=None, usecols=None, squeeze=None, prefix=<no_default>, mangle_dupe_cols=True, dtype: 'DtypeArg | None' = None, engine: 'CSVEngine | None' = None, converters=None, true_values=None, false_values=None, skipinitialspace=False, skiprows=None, skipfooter=0, nrows=None, na_values=None, keep_default_na=True, na_filter=True, verbose=False, skip_blank_lines=True, parse_dates=None, infer_datetime_format=False, keep_date_col=False, date_parser=None, dayfirst=False, cache_dates=True, iterator=False, chunksize=None, compression: 'CompressionOptions' = 'infer', thousands=None, decimal: 'str' = '.', lineterminator=None, quotechar='\"', quoting=0, doublequote=True, escapechar=None, comment=None, encoding=None, encoding_errors: 'str | None' = 'strict', dialect=None, error_bad_lines=None, warn_bad_lines=None, on_bad_lines=None, delim_whitespace=False, low_memory=True, memory_map=False, float_precision=None, storage_options: 'StorageOptions' = None)>"
      ]
     },
     "execution_count": 102,
     "metadata": {},
     "output_type": "execute_result"
    }
   ],
   "source": [
    "pd.read_csv # 나머지는 default 값이 정해져 있기 때문에 함수 이름만 호출하는 것도 가능(default technique)"
   ]
  },
  {
   "cell_type": "code",
   "execution_count": 85,
   "id": "b2f14b7f",
   "metadata": {},
   "outputs": [],
   "source": [
    "?len"
   ]
  },
  {
   "cell_type": "code",
   "execution_count": null,
   "id": "0a44b5a1",
   "metadata": {},
   "outputs": [],
   "source": [
    "def x(a):\n",
    "    return a"
   ]
  },
  {
   "cell_type": "markdown",
   "id": "1d30ff9b",
   "metadata": {},
   "source": [
    "function overloading"
   ]
  },
  {
   "cell_type": "code",
   "execution_count": 99,
   "id": "e73c27cd",
   "metadata": {},
   "outputs": [],
   "source": [
    "def x(a,b=1):  # keyword method. 내가 default value를 지정하고 싶은 parameter에 value 지정해 줌. 순서에 상관이 없다는 장점.\n",
    "    return a+b"
   ]
  },
  {
   "cell_type": "code",
   "execution_count": 100,
   "id": "9cf37b91",
   "metadata": {},
   "outputs": [
    {
     "data": {
      "text/plain": [
       "2"
      ]
     },
     "execution_count": 100,
     "metadata": {},
     "output_type": "execute_result"
    }
   ],
   "source": [
    "x(1)"
   ]
  },
  {
   "cell_type": "code",
   "execution_count": 101,
   "id": "619f07a9",
   "metadata": {},
   "outputs": [
    {
     "data": {
      "text/plain": [
       "3"
      ]
     },
     "execution_count": 101,
     "metadata": {},
     "output_type": "execute_result"
    }
   ],
   "source": [
    "x(1,2)"
   ]
  },
  {
   "cell_type": "markdown",
   "id": "34d0836d",
   "metadata": {},
   "source": [
    "help page에서 나타나는 / 앞의 parameter는 positional로 표현해주어야 함."
   ]
  },
  {
   "cell_type": "code",
   "execution_count": 103,
   "id": "93fc1e51",
   "metadata": {},
   "outputs": [],
   "source": [
    "def t(a, *, b):  # * 오른쪽은 모두 keyword method\n",
    "    return a+b"
   ]
  },
  {
   "cell_type": "code",
   "execution_count": 104,
   "id": "96e4f547",
   "metadata": {},
   "outputs": [
    {
     "data": {
      "text/plain": [
       "7"
      ]
     },
     "execution_count": 104,
     "metadata": {},
     "output_type": "execute_result"
    }
   ],
   "source": [
    "t(3, b=4)"
   ]
  },
  {
   "cell_type": "code",
   "execution_count": 105,
   "id": "8c565b52",
   "metadata": {},
   "outputs": [],
   "source": [
    "def s(*a): # 가변 포지셔널. 안 넣어도 실행되는 파라미터 ex. *args, **kwarg \n",
    "    return a"
   ]
  },
  {
   "cell_type": "code",
   "execution_count": 106,
   "id": "fe1c8799",
   "metadata": {},
   "outputs": [],
   "source": [
    "def s(*a):\n",
    "    return a"
   ]
  },
  {
   "cell_type": "code",
   "execution_count": 107,
   "id": "62d0f1d9",
   "metadata": {},
   "outputs": [],
   "source": [
    "sss = [1,2,3,4,5,]"
   ]
  },
  {
   "cell_type": "code",
   "execution_count": 108,
   "id": "cc678727",
   "metadata": {},
   "outputs": [
    {
     "data": {
      "text/plain": [
       "([1, 2, 3, 4, 5],)"
      ]
     },
     "execution_count": 108,
     "metadata": {},
     "output_type": "execute_result"
    }
   ],
   "source": [
    "s(sss)  # 한 묶음으로 출력함."
   ]
  },
  {
   "cell_type": "markdown",
   "id": "ecd9a25a",
   "metadata": {},
   "source": [
    "**Argument의 *는 unpacking**"
   ]
  },
  {
   "cell_type": "code",
   "execution_count": 109,
   "id": "40ed2aed",
   "metadata": {},
   "outputs": [
    {
     "data": {
      "text/plain": [
       "(1, 2, 3, 4, 5)"
      ]
     },
     "execution_count": 109,
     "metadata": {},
     "output_type": "execute_result"
    }
   ],
   "source": [
    "s(*sss)  # 한 개씩 쪼개줌."
   ]
  },
  {
   "cell_type": "code",
   "execution_count": 110,
   "id": "8780b091",
   "metadata": {},
   "outputs": [],
   "source": [
    "aa = {1:3, 2:3}"
   ]
  },
  {
   "cell_type": "code",
   "execution_count": 111,
   "id": "2d9e1613",
   "metadata": {},
   "outputs": [
    {
     "data": {
      "text/plain": [
       "(1, 2)"
      ]
     },
     "execution_count": 111,
     "metadata": {},
     "output_type": "execute_result"
    }
   ],
   "source": [
    "s(*aa)  # 딕셔너리를 입력하면 key를 unpacking"
   ]
  },
  {
   "cell_type": "markdown",
   "id": "0cd8dd48",
   "metadata": {},
   "source": [
    "parameter는 뒤에서부터 채워나가야 함"
   ]
  },
  {
   "cell_type": "code",
   "execution_count": 112,
   "id": "fb14b78c",
   "metadata": {},
   "outputs": [
    {
     "ename": "SyntaxError",
     "evalue": "non-default argument follows default argument (<ipython-input-112-024ac842a5a7>, line 1)",
     "output_type": "error",
     "traceback": [
      "\u001b[1;36m  File \u001b[1;32m\"<ipython-input-112-024ac842a5a7>\"\u001b[1;36m, line \u001b[1;32m1\u001b[0m\n\u001b[1;33m    def x(a=1,b):\u001b[0m\n\u001b[1;37m               ^\u001b[0m\n\u001b[1;31mSyntaxError\u001b[0m\u001b[1;31m:\u001b[0m non-default argument follows default argument\n"
     ]
    }
   ],
   "source": [
    "def x(a=1,b):\n",
    "    return a+b"
   ]
  },
  {
   "cell_type": "markdown",
   "id": "6529257a",
   "metadata": {},
   "source": [
    "pd.read_csv에서 sep부터 keyword 값 채우면 되는 이유는 그 뒤는 다 default로 채워져있기 때문"
   ]
  },
  {
   "cell_type": "code",
   "execution_count": 115,
   "id": "c2ca3319",
   "metadata": {},
   "outputs": [
    {
     "ename": "SyntaxError",
     "evalue": "invalid syntax (<ipython-input-115-d9cba33ac096>, line 1)",
     "output_type": "error",
     "traceback": [
      "\u001b[1;36m  File \u001b[1;32m\"<ipython-input-115-d9cba33ac096>\"\u001b[1;36m, line \u001b[1;32m1\u001b[0m\n\u001b[1;33m    def s(a, b=2, c=1)\u001b[0m\n\u001b[1;37m                      ^\u001b[0m\n\u001b[1;31mSyntaxError\u001b[0m\u001b[1;31m:\u001b[0m invalid syntax\n"
     ]
    }
   ],
   "source": [
    "def s(a, b=2, c=1):  # 한 번 keyword method로 하면 그 뒤도 keyword method로 해야 한다.\n",
    "    return a+b+c"
   ]
  },
  {
   "cell_type": "code",
   "execution_count": 116,
   "id": "47ed3b74",
   "metadata": {},
   "outputs": [
    {
     "ename": "SyntaxError",
     "evalue": "positional argument follows keyword argument (<ipython-input-116-4ee7647141d1>, line 1)",
     "output_type": "error",
     "traceback": [
      "\u001b[1;36m  File \u001b[1;32m\"<ipython-input-116-4ee7647141d1>\"\u001b[1;36m, line \u001b[1;32m1\u001b[0m\n\u001b[1;33m    s(a=1, 2, 3)\u001b[0m\n\u001b[1;37m               ^\u001b[0m\n\u001b[1;31mSyntaxError\u001b[0m\u001b[1;31m:\u001b[0m positional argument follows keyword argument\n"
     ]
    }
   ],
   "source": [
    "s(a=1, 2, 3) # keyword"
   ]
  },
  {
   "cell_type": "code",
   "execution_count": null,
   "id": "da2babef",
   "metadata": {},
   "outputs": [],
   "source": []
  },
  {
   "cell_type": "code",
   "execution_count": null,
   "id": "bde1b8fd",
   "metadata": {},
   "outputs": [],
   "source": []
  },
  {
   "cell_type": "markdown",
   "id": "57da1dbd",
   "metadata": {},
   "source": [
    "## 6/28(화)"
   ]
  },
  {
   "cell_type": "markdown",
   "id": "0ad73a5b",
   "metadata": {},
   "source": [
    "6/27 복습"
   ]
  },
  {
   "cell_type": "code",
   "execution_count": 1,
   "id": "5bb3b97d",
   "metadata": {},
   "outputs": [],
   "source": [
    "# parameter\n",
    "# argument"
   ]
  },
  {
   "cell_type": "code",
   "execution_count": 2,
   "id": "78438808",
   "metadata": {},
   "outputs": [
    {
     "ename": "SyntaxError",
     "evalue": "invalid syntax (<ipython-input-2-5a8a03a23cda>, line 1)",
     "output_type": "error",
     "traceback": [
      "\u001b[1;36m  File \u001b[1;32m\"<ipython-input-2-5a8a03a23cda>\"\u001b[1;36m, line \u001b[1;32m1\u001b[0m\n\u001b[1;33m    1. /\u001b[0m\n\u001b[1;37m        ^\u001b[0m\n\u001b[1;31mSyntaxError\u001b[0m\u001b[1;31m:\u001b[0m invalid syntax\n"
     ]
    }
   ],
   "source": [
    "1. /\n",
    "2. *\n",
    "3. *a # 3번 4번 조합하는 것 중요\n",
    "4. **a\n",
    "6. positional + keyword"
   ]
  },
  {
   "cell_type": "code",
   "execution_count": 3,
   "id": "88235596",
   "metadata": {},
   "outputs": [],
   "source": [
    "def s(**a):\n",
    "    return a"
   ]
  },
  {
   "cell_type": "code",
   "execution_count": 4,
   "id": "df57b30f",
   "metadata": {},
   "outputs": [
    {
     "data": {
      "text/plain": [
       "{}"
      ]
     },
     "execution_count": 4,
     "metadata": {},
     "output_type": "execute_result"
    }
   ],
   "source": [
    "s()"
   ]
  },
  {
   "cell_type": "code",
   "execution_count": 5,
   "id": "34bbf317",
   "metadata": {},
   "outputs": [
    {
     "data": {
      "text/plain": [
       "{'a': 1}"
      ]
     },
     "execution_count": 5,
     "metadata": {},
     "output_type": "execute_result"
    }
   ],
   "source": [
    "s(a=1)"
   ]
  },
  {
   "cell_type": "code",
   "execution_count": 6,
   "id": "ccf46a1e",
   "metadata": {},
   "outputs": [
    {
     "data": {
      "text/plain": [
       "{'a': 1, 'b': 1}"
      ]
     },
     "execution_count": 6,
     "metadata": {},
     "output_type": "execute_result"
    }
   ],
   "source": [
    "s(a=1,b=1)"
   ]
  },
  {
   "cell_type": "code",
   "execution_count": 7,
   "id": "9d2471c0",
   "metadata": {},
   "outputs": [
    {
     "ename": "SyntaxError",
     "evalue": "keyword argument repeated: a (<ipython-input-7-92cb7f8bed14>, line 1)",
     "output_type": "error",
     "traceback": [
      "\u001b[1;36m  File \u001b[1;32m\"<ipython-input-7-92cb7f8bed14>\"\u001b[1;36m, line \u001b[1;32m1\u001b[0m\n\u001b[1;33m    s(a=1, b=1, a=2)\u001b[0m\n\u001b[1;37m                ^\u001b[0m\n\u001b[1;31mSyntaxError\u001b[0m\u001b[1;31m:\u001b[0m keyword argument repeated: a\n"
     ]
    }
   ],
   "source": [
    "s(a=1, b=1, a=2)"
   ]
  },
  {
   "cell_type": "code",
   "execution_count": 8,
   "id": "8acff65a",
   "metadata": {},
   "outputs": [
    {
     "data": {
      "text/plain": [
       "{'a': 2}"
      ]
     },
     "execution_count": 8,
     "metadata": {},
     "output_type": "execute_result"
    }
   ],
   "source": [
    "{'a':1, 'a':2} # 리터럴 방식에서는 뒤집어 쓴다."
   ]
  },
  {
   "cell_type": "code",
   "execution_count": 16,
   "id": "886024f3",
   "metadata": {},
   "outputs": [],
   "source": [
    "t = {'a':1, 'a':2}"
   ]
  },
  {
   "cell_type": "code",
   "execution_count": 18,
   "id": "34e5420d",
   "metadata": {},
   "outputs": [
    {
     "data": {
      "text/plain": [
       "{'a': 2}"
      ]
     },
     "execution_count": 18,
     "metadata": {},
     "output_type": "execute_result"
    }
   ],
   "source": [
    "s(**t) # unpacking. 같은 키면 다음 값으로 나옴"
   ]
  },
  {
   "cell_type": "code",
   "execution_count": 19,
   "id": "e00ccb15",
   "metadata": {},
   "outputs": [
    {
     "ename": "TypeError",
     "evalue": "s() takes 0 positional arguments but 1 was given",
     "output_type": "error",
     "traceback": [
      "\u001b[1;31m---------------------------------------------------------------------------\u001b[0m",
      "\u001b[1;31mTypeError\u001b[0m                                 Traceback (most recent call last)",
      "\u001b[1;32m<ipython-input-19-299e43d78433>\u001b[0m in \u001b[0;36m<module>\u001b[1;34m\u001b[0m\n\u001b[1;32m----> 1\u001b[1;33m \u001b[0ms\u001b[0m\u001b[1;33m(\u001b[0m\u001b[1;33m*\u001b[0m\u001b[0mt\u001b[0m\u001b[1;33m)\u001b[0m\u001b[1;33m\u001b[0m\u001b[1;33m\u001b[0m\u001b[0m\n\u001b[0m",
      "\u001b[1;31mTypeError\u001b[0m: s() takes 0 positional arguments but 1 was given"
     ]
    }
   ],
   "source": [
    "s(*t) # 딕셔너리 형태이므로 별을 두 개"
   ]
  },
  {
   "cell_type": "code",
   "execution_count": 25,
   "id": "de16fa46",
   "metadata": {},
   "outputs": [],
   "source": [
    "t = {'a':1, 'b':2}"
   ]
  },
  {
   "cell_type": "code",
   "execution_count": 26,
   "id": "f8b8b782",
   "metadata": {},
   "outputs": [],
   "source": [
    "s = {'c':3, 'a':2}"
   ]
  },
  {
   "cell_type": "code",
   "execution_count": 27,
   "id": "03a93cab",
   "metadata": {},
   "outputs": [
    {
     "data": {
      "text/plain": [
       "{'a': 2, 'b': 2, 'c': 3}"
      ]
     },
     "execution_count": 27,
     "metadata": {},
     "output_type": "execute_result"
    }
   ],
   "source": [
    "{**t, **s}"
   ]
  },
  {
   "cell_type": "code",
   "execution_count": 24,
   "id": "29fbb129",
   "metadata": {},
   "outputs": [
    {
     "data": {
      "text/plain": [
       "<function len(obj, /)>"
      ]
     },
     "execution_count": 24,
     "metadata": {},
     "output_type": "execute_result"
    }
   ],
   "source": []
  },
  {
   "cell_type": "markdown",
   "id": "606ef808",
   "metadata": {},
   "source": [
    "**참고) 연두색 굵은 함수는 파이썬 공식 함수로, help(' ')로 도움말 구할 수 있음**"
   ]
  },
  {
   "cell_type": "code",
   "execution_count": 9,
   "id": "8b1b0b44",
   "metadata": {},
   "outputs": [],
   "source": [
    "import keyword"
   ]
  },
  {
   "cell_type": "code",
   "execution_count": 10,
   "id": "416385fc",
   "metadata": {},
   "outputs": [
    {
     "data": {
      "text/plain": [
       "['False',\n",
       " 'None',\n",
       " 'True',\n",
       " '__peg_parser__',\n",
       " 'and',\n",
       " 'as',\n",
       " 'assert',\n",
       " 'async',\n",
       " 'await',\n",
       " 'break',\n",
       " 'class',\n",
       " 'continue',\n",
       " 'def',\n",
       " 'del',\n",
       " 'elif',\n",
       " 'else',\n",
       " 'except',\n",
       " 'finally',\n",
       " 'for',\n",
       " 'from',\n",
       " 'global',\n",
       " 'if',\n",
       " 'import',\n",
       " 'in',\n",
       " 'is',\n",
       " 'lambda',\n",
       " 'nonlocal',\n",
       " 'not',\n",
       " 'or',\n",
       " 'pass',\n",
       " 'raise',\n",
       " 'return',\n",
       " 'try',\n",
       " 'while',\n",
       " 'with',\n",
       " 'yield']"
      ]
     },
     "execution_count": 10,
     "metadata": {},
     "output_type": "execute_result"
    }
   ],
   "source": [
    "keyword.kwlist"
   ]
  },
  {
   "cell_type": "code",
   "execution_count": null,
   "id": "fee24481",
   "metadata": {},
   "outputs": [],
   "source": [
    "def"
   ]
  },
  {
   "cell_type": "markdown",
   "id": "197ffca9",
   "metadata": {},
   "source": [
    "**연두색 가는 단어는 builtins 함수에 포함되는 것. shift + tab 버튼으로 도움말 사용 가능(또는 ? 사용)**"
   ]
  },
  {
   "cell_type": "code",
   "execution_count": 14,
   "id": "f9e2279d",
   "metadata": {},
   "outputs": [],
   "source": [
    "import builtins  # 파이썬 시작과 함께 builtins 함수 가동"
   ]
  },
  {
   "cell_type": "code",
   "execution_count": 15,
   "id": "802245e9",
   "metadata": {},
   "outputs": [
    {
     "data": {
      "text/plain": [
       "1"
      ]
     },
     "execution_count": 15,
     "metadata": {},
     "output_type": "execute_result"
    }
   ],
   "source": [
    "builtins.abs(-1)  # 원래 이렇게 써야 하지만, 내장형 함수이기 때문에 생략 가능"
   ]
  },
  {
   "cell_type": "markdown",
   "id": "2599b6d9",
   "metadata": {},
   "source": [
    "**(*args, **kwargs) 조합을 넣어 함수를 만들어 두면 파라미터를 직접 조합할 수 있음(효환성 높음)**"
   ]
  },
  {
   "cell_type": "code",
   "execution_count": 29,
   "id": "ad527ba5",
   "metadata": {},
   "outputs": [],
   "source": [
    "def x(**kwa):\n",
    "    print(1)"
   ]
  },
  {
   "cell_type": "code",
   "execution_count": 30,
   "id": "d011149b",
   "metadata": {},
   "outputs": [],
   "source": [
    "#ver1\n",
    "def x(**kwa):\n",
    "    if 'color' in kwa:\n",
    "        print(2)\n",
    "    print(1)"
   ]
  },
  {
   "cell_type": "code",
   "execution_count": 31,
   "id": "a0894cdd",
   "metadata": {
    "scrolled": false
   },
   "outputs": [
    {
     "name": "stdout",
     "output_type": "stream",
     "text": [
      "2\n",
      "1\n"
     ]
    }
   ],
   "source": [
    "x(color=2) #"
   ]
  },
  {
   "cell_type": "code",
   "execution_count": 33,
   "id": "c47c1a88",
   "metadata": {},
   "outputs": [
    {
     "data": {
      "text/plain": [
       "0"
      ]
     },
     "execution_count": 33,
     "metadata": {},
     "output_type": "execute_result"
    }
   ],
   "source": [
    "int()  # int([x]) -> integer : x를 쓰고 안 쓰고는 option"
   ]
  },
  {
   "cell_type": "markdown",
   "id": "da2fbf6f",
   "metadata": {},
   "source": [
    "matplotlib로 실습"
   ]
  },
  {
   "cell_type": "code",
   "execution_count": 40,
   "id": "f45b174e",
   "metadata": {},
   "outputs": [],
   "source": [
    "import matplotlib.pyplot as plt\n",
    "%matplotlib inline"
   ]
  },
  {
   "cell_type": "code",
   "execution_count": 41,
   "id": "d02e32ac",
   "metadata": {},
   "outputs": [
    {
     "data": {
      "text/plain": [
       "[<matplotlib.lines.Line2D at 0x2bfa3f4db20>]"
      ]
     },
     "execution_count": 41,
     "metadata": {},
     "output_type": "execute_result"
    },
    {
     "data": {
      "image/png": "[encoded data removed]",
      "text/plain": [
       "<Figure size 432x288 with 1 Axes>"
      ]
     },
     "metadata": {
      "needs_background": "light"
     },
     "output_type": "display_data"
    }
   ],
   "source": [
    "# 저질 예시 : 개발자 ver1\n",
    "#ver2 color\n",
    "plt.plot([1,3,5],[2,4,5], color='pink')\n"
   ]
  },
  {
   "cell_type": "code",
   "execution_count": 48,
   "id": "4267f350",
   "metadata": {},
   "outputs": [],
   "source": [
    "import inspect"
   ]
  },
  {
   "cell_type": "code",
   "execution_count": 49,
   "id": "85134403",
   "metadata": {},
   "outputs": [
    {
     "name": "stdout",
     "output_type": "stream",
     "text": [
      "@_copy_docstring_and_deprecators(Axes.bar)\n",
      "def bar(\n",
      "        x, height, width=0.8, bottom=None, *, align='center',\n",
      "        data=None, **kwargs):\n",
      "    return gca().bar(\n",
      "        x, height, width=width, bottom=bottom, align=align,\n",
      "        **({\"data\": data} if data is not None else {}), **kwargs)\n",
      "\n"
     ]
    }
   ],
   "source": [
    "print(inspect.getsource(plt.bar))"
   ]
  },
  {
   "cell_type": "code",
   "execution_count": 43,
   "id": "e516fed9",
   "metadata": {
    "scrolled": true
   },
   "outputs": [
    {
     "data": {
      "text/plain": [
       "<BarContainer object of 3 artists>"
      ]
     },
     "execution_count": 43,
     "metadata": {},
     "output_type": "execute_result"
    },
    {
     "data": {
      "image/png": "[encoded data removed]",
      "text/plain": [
       "<Figure size 432x288 with 1 Axes>"
      ]
     },
     "metadata": {
      "needs_background": "light"
     },
     "output_type": "display_data"
    }
   ],
   "source": [
    "plt.bar([1,2,3],[2,3,2], color='red')"
   ]
  },
  {
   "cell_type": "markdown",
   "id": "12d9770c",
   "metadata": {},
   "source": [
    "**plt 함수를 세미콜론(;)으로 끝내면 output 정리 가능**"
   ]
  },
  {
   "cell_type": "code",
   "execution_count": 51,
   "id": "35db6cc8",
   "metadata": {},
   "outputs": [
    {
     "data": {
      "image/png": "[encoded data removed]",
      "text/plain": [
       "<Figure size 432x288 with 1 Axes>"
      ]
     },
     "metadata": {},
     "output_type": "display_data"
    }
   ],
   "source": [
    "plt.pie([3,2]);"
   ]
  },
  {
   "cell_type": "markdown",
   "id": "87c61145",
   "metadata": {},
   "source": [
    "### Function\n",
    "\n",
    "함수 안에 함수를 중첩할 수 있다>"
   ]
  },
  {
   "cell_type": "markdown",
   "id": "2cbdfcd1",
   "metadata": {},
   "source": [
    "## L(local)->E(enclosing)->G(global)->B(builtin) rule\n",
    "\n",
    "어떤 순서대로 변수가 값을 잡는지에 대한 규칙\n",
    "\n",
    "안에서 밖으로 쌓는 순서. 역으로는 불가능\n",
    "(python의 function : encapsulation)\n",
    "\n",
    "따라서 나만 접근할 수 있는 함수"
   ]
  },
  {
   "cell_type": "code",
   "execution_count": 55,
   "id": "229ac147",
   "metadata": {},
   "outputs": [],
   "source": [
    "xxxxx = 1 # global parameter\n",
    "def t(x:int) -> int :\n",
    "    '''설명은 여기서''' # 설명 기능\n",
    "    xxxxx = 2  # local parameter 만약 없다면 global parameter 사용\n",
    "    return xxxxx"
   ]
  },
  {
   "cell_type": "code",
   "execution_count": 56,
   "id": "fdfa2bcd",
   "metadata": {},
   "outputs": [
    {
     "ename": "TypeError",
     "evalue": "t() missing 1 required positional argument: 'x'",
     "output_type": "error",
     "traceback": [
      "\u001b[1;31m---------------------------------------------------------------------------\u001b[0m",
      "\u001b[1;31mTypeError\u001b[0m                                 Traceback (most recent call last)",
      "\u001b[1;32m<ipython-input-56-bf1592f10eb3>\u001b[0m in \u001b[0;36m<module>\u001b[1;34m\u001b[0m\n\u001b[1;32m----> 1\u001b[1;33m \u001b[0mt\u001b[0m\u001b[1;33m(\u001b[0m\u001b[1;33m)\u001b[0m\u001b[1;33m\u001b[0m\u001b[1;33m\u001b[0m\u001b[0m\n\u001b[0m",
      "\u001b[1;31mTypeError\u001b[0m: t() missing 1 required positional argument: 'x'"
     ]
    }
   ],
   "source": [
    "t()"
   ]
  },
  {
   "cell_type": "code",
   "execution_count": 53,
   "id": "6f74681e",
   "metadata": {},
   "outputs": [
    {
     "data": {
      "text/plain": [
       "'설명은 여기서'"
      ]
     },
     "execution_count": 53,
     "metadata": {},
     "output_type": "execute_result"
    }
   ],
   "source": [
    "t.__doc__ # 설명 기능"
   ]
  },
  {
   "cell_type": "code",
   "execution_count": 57,
   "id": "34c7d72d",
   "metadata": {},
   "outputs": [
    {
     "data": {
      "text/plain": [
       "{'x': int, 'return': int}"
      ]
     },
     "execution_count": 57,
     "metadata": {},
     "output_type": "execute_result"
    }
   ],
   "source": [
    "t.__annotations__ # 출력 형태 지정, 풍부해짐"
   ]
  },
  {
   "cell_type": "code",
   "execution_count": 59,
   "id": "8567bb80",
   "metadata": {},
   "outputs": [],
   "source": [
    "def s():\n",
    "    ttttttt = 5    # ttttttt 밖에서 접근 불가. 접근 권한이 주어지지 않음.\n",
    "    return ttttttt"
   ]
  },
  {
   "cell_type": "code",
   "execution_count": 58,
   "id": "65a320a6",
   "metadata": {},
   "outputs": [
    {
     "ename": "AttributeError",
     "evalue": "'dict' object has no attribute 'ttttttt'",
     "output_type": "error",
     "traceback": [
      "\u001b[1;31m---------------------------------------------------------------------------\u001b[0m",
      "\u001b[1;31mAttributeError\u001b[0m                            Traceback (most recent call last)",
      "\u001b[1;32m<ipython-input-58-b9a2b6be6e46>\u001b[0m in \u001b[0;36m<module>\u001b[1;34m\u001b[0m\n\u001b[1;32m----> 1\u001b[1;33m \u001b[0ms\u001b[0m\u001b[1;33m.\u001b[0m\u001b[0mttttttt\u001b[0m\u001b[1;33m\u001b[0m\u001b[1;33m\u001b[0m\u001b[0m\n\u001b[0m",
      "\u001b[1;31mAttributeError\u001b[0m: 'dict' object has no attribute 'ttttttt'"
     ]
    }
   ],
   "source": [
    "s.ttttttt"
   ]
  },
  {
   "cell_type": "code",
   "execution_count": null,
   "id": "507db7e5",
   "metadata": {},
   "outputs": [],
   "source": [
    "def tt():\n",
    "    def ss():\n",
    "        pass\n",
    "    pass"
   ]
  },
  {
   "cell_type": "code",
   "execution_count": null,
   "id": "d4f5b9cb",
   "metadata": {},
   "outputs": [],
   "source": []
  },
  {
   "cell_type": "code",
   "execution_count": 60,
   "id": "5b27b806",
   "metadata": {},
   "outputs": [],
   "source": [
    "def x():\n",
    "    pass  # pass가 없으면 문제가 발생있"
   ]
  },
  {
   "cell_type": "code",
   "execution_count": 61,
   "id": "3ee8389d",
   "metadata": {},
   "outputs": [],
   "source": [
    "def xx():\n",
    "    return"
   ]
  },
  {
   "cell_type": "code",
   "execution_count": 62,
   "id": "c784375d",
   "metadata": {},
   "outputs": [],
   "source": [
    "def xxx():\n",
    "    print(1)  # return이 없을 때는 파이썬이 자동으로 return None 이 추가됨."
   ]
  },
  {
   "cell_type": "markdown",
   "id": "d2c66a2a",
   "metadata": {},
   "source": [
    "decorator, metaclass, descriptor가 가장 어려운 3총사"
   ]
  },
  {
   "cell_type": "markdown",
   "id": "0269236a",
   "metadata": {},
   "source": [
    "숫자 데이터는 함수형 프로그래밍 언어가 빠르고 효과적.\n",
    "객체 지향형 프로그래밍 언어는 유지보수에 적격.\n",
    "\n",
    "파이썬이 최초로 두 가지 패러다임을 모두 지원.\n",
    "-> 우리의 이번 목표 : "
   ]
  },
  {
   "cell_type": "code",
   "execution_count": 10,
   "id": "4754b140",
   "metadata": {},
   "outputs": [],
   "source": [
    "a = print"
   ]
  },
  {
   "cell_type": "code",
   "execution_count": 11,
   "id": "6db35190",
   "metadata": {},
   "outputs": [
    {
     "name": "stdout",
     "output_type": "stream",
     "text": [
      "문근영\n"
     ]
    }
   ],
   "source": [
    "a('문근영')"
   ]
  },
  {
   "cell_type": "code",
   "execution_count": null,
   "id": "7e3607b5",
   "metadata": {},
   "outputs": [],
   "source": []
  },
  {
   "cell_type": "code",
   "execution_count": 12,
   "id": "f0f79c8c",
   "metadata": {},
   "outputs": [],
   "source": [
    "print = 1"
   ]
  },
  {
   "cell_type": "code",
   "execution_count": 14,
   "id": "a4d20f4e",
   "metadata": {},
   "outputs": [
    {
     "ename": "TypeError",
     "evalue": "'int' object is not callable",
     "output_type": "error",
     "traceback": [
      "\u001b[1;31m---------------------------------------------------------------------------\u001b[0m",
      "\u001b[1;31mTypeError\u001b[0m                                 Traceback (most recent call last)",
      "\u001b[1;32m<ipython-input-14-507bae3d23bb>\u001b[0m in \u001b[0;36m<module>\u001b[1;34m\u001b[0m\n\u001b[1;32m----> 1\u001b[1;33m \u001b[0mprint\u001b[0m\u001b[1;33m(\u001b[0m\u001b[1;34m'134'\u001b[0m\u001b[1;33m)\u001b[0m \u001b[1;31m# global parameter 먼저 생성\u001b[0m\u001b[1;33m\u001b[0m\u001b[1;33m\u001b[0m\u001b[0m\n\u001b[0m",
      "\u001b[1;31mTypeError\u001b[0m: 'int' object is not callable"
     ]
    }
   ],
   "source": [
    "print('134') # global parameter 먼저 작동"
   ]
  },
  {
   "cell_type": "code",
   "execution_count": 8,
   "id": "97b1ecf8",
   "metadata": {},
   "outputs": [],
   "source": [
    "del print"
   ]
  },
  {
   "cell_type": "code",
   "execution_count": 13,
   "id": "e6487f15",
   "metadata": {},
   "outputs": [
    {
     "ename": "TypeError",
     "evalue": "'int' object is not callable",
     "output_type": "error",
     "traceback": [
      "\u001b[1;31m---------------------------------------------------------------------------\u001b[0m",
      "\u001b[1;31mTypeError\u001b[0m                                 Traceback (most recent call last)",
      "\u001b[1;32m<ipython-input-13-57a9028afb5e>\u001b[0m in \u001b[0;36m<module>\u001b[1;34m\u001b[0m\n\u001b[1;32m----> 1\u001b[1;33m \u001b[0mprint\u001b[0m\u001b[1;33m(\u001b[0m\u001b[1;34m'134'\u001b[0m\u001b[1;33m)\u001b[0m\u001b[1;33m\u001b[0m\u001b[1;33m\u001b[0m\u001b[0m\n\u001b[0m",
      "\u001b[1;31mTypeError\u001b[0m: 'int' object is not callable"
     ]
    }
   ],
   "source": [
    "print('134')"
   ]
  },
  {
   "cell_type": "code",
   "execution_count": 1,
   "id": "df855ad0",
   "metadata": {},
   "outputs": [],
   "source": [
    "def x(f):\n",
    "    f('asdf')"
   ]
  },
  {
   "cell_type": "code",
   "execution_count": 2,
   "id": "95dfee9d",
   "metadata": {},
   "outputs": [
    {
     "name": "stdout",
     "output_type": "stream",
     "text": [
      "asdf\n"
     ]
    }
   ],
   "source": [
    "x(print)"
   ]
  },
  {
   "cell_type": "code",
   "execution_count": 3,
   "id": "d2b1f764",
   "metadata": {},
   "outputs": [],
   "source": [
    "def y():\n",
    "    return print"
   ]
  },
  {
   "cell_type": "code",
   "execution_count": 4,
   "id": "5a2068d1",
   "metadata": {},
   "outputs": [
    {
     "name": "stdout",
     "output_type": "stream",
     "text": [
      "adf\n"
     ]
    }
   ],
   "source": [
    "y()('adf')"
   ]
  },
  {
   "cell_type": "markdown",
   "id": "19619e15",
   "metadata": {},
   "source": [
    "### First Class function\n",
    "First Class function(큰 개념) > Higher Order Function\n",
    "- func을 return\n",
    "- func을 argument로 사용 가능 (ex. java)\n",
    "\n",
    "=> 함수를 인자로 받고 결과값을 반환해줌.\n",
    "ex. map(), filter(), functools.reduce()\n",
    "\n",
    "First class function의 좋은 점 : 클래스가 모두 함수로 이루어져 있어 효율적이다."
   ]
  },
  {
   "cell_type": "code",
   "execution_count": 2,
   "id": "8d9bc5ea",
   "metadata": {},
   "outputs": [],
   "source": [
    "# a_n+1 = a_n + 2\n",
    "def tt(a):\n",
    "    if a < 2:\n",
    "        return 1\n",
    "    return tt(a-1) + 2"
   ]
  },
  {
   "cell_type": "code",
   "execution_count": 3,
   "id": "8974e151",
   "metadata": {},
   "outputs": [
    {
     "data": {
      "text/plain": [
       "1"
      ]
     },
     "execution_count": 3,
     "metadata": {},
     "output_type": "execute_result"
    }
   ],
   "source": [
    "tt(1)"
   ]
  },
  {
   "cell_type": "markdown",
   "id": "48b4345e",
   "metadata": {},
   "source": [
    "### Comprehension\n",
    "\n",
    "최악의 수준으로 어렵다는 Heskell 프로그래밍 언어에서 사용되는 것이 comprehension\n",
    "데이터가 여러 형태로 이루어져 있고 그것이 사용되기 때문에 그것을 동시에 만들 수 있는 기능.\n",
    "[\n"
   ]
  },
  {
   "cell_type": "code",
   "execution_count": 4,
   "id": "5314fa4c",
   "metadata": {},
   "outputs": [],
   "source": [
    "temp=[]\n",
    "for i in range(10):\n",
    "    temp.append(i)"
   ]
  },
  {
   "cell_type": "code",
   "execution_count": 5,
   "id": "5645c11c",
   "metadata": {},
   "outputs": [
    {
     "data": {
      "text/plain": [
       "[0, 1, 2, 3, 4, 5, 6, 7, 8, 9]"
      ]
     },
     "execution_count": 5,
     "metadata": {},
     "output_type": "execute_result"
    }
   ],
   "source": [
    "temp"
   ]
  },
  {
   "cell_type": "code",
   "execution_count": 6,
   "id": "4c8aa328",
   "metadata": {},
   "outputs": [
    {
     "data": {
      "text/plain": [
       "[0, 1, 2, 3, 4, 5, 6, 7, 8, 9]"
      ]
     },
     "execution_count": 6,
     "metadata": {},
     "output_type": "execute_result"
    }
   ],
   "source": [
    "[i for i in range(10)]"
   ]
  },
  {
   "cell_type": "code",
   "execution_count": 8,
   "id": "209a2aae",
   "metadata": {},
   "outputs": [
    {
     "data": {
      "text/plain": [
       "[0, 2, 4, 6, 8]"
      ]
     },
     "execution_count": 8,
     "metadata": {},
     "output_type": "execute_result"
    }
   ],
   "source": [
    "[i for i in range(10) if i%2==0]"
   ]
  },
  {
   "cell_type": "markdown",
   "id": "33924136",
   "metadata": {},
   "source": [
    "python에서 comprehension은 최적화된 결과\n",
    "\n",
    "단 메모리 소비 큼"
   ]
  },
  {
   "cell_type": "code",
   "execution_count": 18,
   "id": "d0061c9d",
   "metadata": {},
   "outputs": [
    {
     "name": "stdout",
     "output_type": "stream",
     "text": [
      "75.9 ns ± 2.62 ns per loop (mean ± std. dev. of 7 runs, 10000000 loops each)\n"
     ]
    }
   ],
   "source": [
    "#comprehension\n",
    "temp = []\n",
    "for i in range(1000000):\n",
    "    temp.append(i)\n",
    "%timeit temp"
   ]
  },
  {
   "cell_type": "code",
   "execution_count": 12,
   "id": "5fa66c44",
   "metadata": {},
   "outputs": [
    {
     "name": "stdout",
     "output_type": "stream",
     "text": [
      "165 ms ± 8.52 ms per loop (mean ± std. dev. of 7 runs, 1 loop each)\n"
     ]
    }
   ],
   "source": [
    "%timeit [i for i in range(1000000)]"
   ]
  },
  {
   "cell_type": "code",
   "execution_count": 20,
   "id": "29b0b978",
   "metadata": {},
   "outputs": [
    {
     "data": {
      "text/plain": [
       "{0: 1, 1: 1, 2: 1, 3: 1, 4: 1, 5: 1, 6: 1, 7: 1, 8: 1, 9: 1}"
      ]
     },
     "execution_count": 20,
     "metadata": {},
     "output_type": "execute_result"
    }
   ],
   "source": [
    "#mutable - python에서는 mutable 함수에만 comprehension 적용시켰다.\n",
    "[i for i in range(10) if i%2==0]\n",
    "{i for i in range(10) if i%2==0}\n",
    "{i:1 for i in range(10)}"
   ]
  },
  {
   "cell_type": "code",
   "execution_count": 19,
   "id": "c03e2c00",
   "metadata": {},
   "outputs": [
    {
     "data": {
      "text/plain": [
       "<generator object <genexpr> at 0x000002120986C190>"
      ]
     },
     "execution_count": 19,
     "metadata": {},
     "output_type": "execute_result"
    }
   ],
   "source": [
    "#immutable \n",
    "(i for i in range(10))"
   ]
  },
  {
   "cell_type": "code",
   "execution_count": 23,
   "id": "6c64094d",
   "metadata": {},
   "outputs": [],
   "source": [
    "a = [1,2,3,4,5]"
   ]
  },
  {
   "cell_type": "code",
   "execution_count": 24,
   "id": "dfb6b49f",
   "metadata": {},
   "outputs": [
    {
     "data": {
      "text/plain": [
       "[2, 3, 4, 5, 6]"
      ]
     },
     "execution_count": 24,
     "metadata": {},
     "output_type": "execute_result"
    }
   ],
   "source": [
    "[i+1 for i in a] # comprehension 파이토치, 텐서에 있다. 훌씬 효율적"
   ]
  },
  {
   "cell_type": "code",
   "execution_count": 25,
   "id": "4a49c62d",
   "metadata": {},
   "outputs": [
    {
     "data": {
      "text/plain": [
       "[0, 0, 2, 0, 4, 0, 6, 0, 8, 0]"
      ]
     },
     "execution_count": 25,
     "metadata": {},
     "output_type": "execute_result"
    }
   ],
   "source": [
    "[i if i%2==0 else 0 for i in range(10)] "
   ]
  },
  {
   "cell_type": "code",
   "execution_count": 26,
   "id": "86d1ebaf",
   "metadata": {},
   "outputs": [
    {
     "data": {
      "text/plain": [
       "[0, 2, 4, 6, 8]"
      ]
     },
     "execution_count": 26,
     "metadata": {},
     "output_type": "execute_result"
    }
   ],
   "source": [
    "# 필요한 결과만 뽑고 싶을 때는 if를 뒤에 둔다.\n",
    "\n",
    "[i for i in range(10) if i%2==0]"
   ]
  },
  {
   "cell_type": "markdown",
   "id": "8c347ec6",
   "metadata": {},
   "source": [
    "iterator / generator : 사촌 지간. 내부적으로 거의 같은 구조지만 만드는 방식이 다름(iterator는 iter()함수 사용) \n",
    "\n",
    "활용 가치\n",
    "- lazy skill : 데이터가 한 개씩 호출되므로 규모가 큰 데이터를 효율적으로 다룰 수 있다. comprehension을 사용하는 경우는 한꺼번에 데이터를 올리기 때문에 딥러닝에서는 효율적이지 않다.\n",
    "\n",
    "단점\n",
    "- 그때 그때 호출하는 것이기 때문에 indexing, slicing 불가능\n",
    "- 속도가 느림\n",
    "\n",
    "iterator 생성 방법\n",
    "1. dir()을 사용해 __ next __ 있는지 확인. 있으면 iterator.\n",
    "2. __ next __가 없고 __ iter __가 있다면 iterator로 만들 수 있는 객체.\n",
    "3. iter() 사용\n",
    "\n",
    "generator 생성 방식 2 가지\n",
    "1. ( ) 이용해 comprehension 형식으로(형식만 comprehension이지 generator임)\n",
    "2. yield를 사용. 함수를 직접 정의해 return 대신 yield로 돌리는 느낌\n",
    "\n",
    "\n",
    "*comprehension 생성 : dictionary와 set 이용*"
   ]
  },
  {
   "cell_type": "code",
   "execution_count": 34,
   "id": "6daa0520",
   "metadata": {},
   "outputs": [],
   "source": [
    "# yield 사용 예시\n",
    "def t():\n",
    "    yield 1\n",
    "    return 0\n",
    "    yield 2\n",
    "    yield 3 # return 대신 yield 사용\n"
   ]
  },
  {
   "cell_type": "code",
   "execution_count": 35,
   "id": "dbe99746",
   "metadata": {
    "scrolled": true
   },
   "outputs": [],
   "source": [
    "a = t() # 함수가 아니라 generator임을 확인할 수 있음"
   ]
  },
  {
   "cell_type": "code",
   "execution_count": 36,
   "id": "f07730c2",
   "metadata": {},
   "outputs": [
    {
     "data": {
      "text/plain": [
       "<generator object t at 0x000002120986CC80>"
      ]
     },
     "execution_count": 36,
     "metadata": {},
     "output_type": "execute_result"
    }
   ],
   "source": [
    "a"
   ]
  },
  {
   "cell_type": "code",
   "execution_count": 38,
   "id": "ca4caf7c",
   "metadata": {},
   "outputs": [
    {
     "ename": "StopIteration",
     "evalue": "0",
     "output_type": "error",
     "traceback": [
      "\u001b[1;31m---------------------------------------------------------------------------\u001b[0m",
      "\u001b[1;31mStopIteration\u001b[0m                             Traceback (most recent call last)",
      "\u001b[1;32m<ipython-input-38-15841f3f11d4>\u001b[0m in \u001b[0;36m<module>\u001b[1;34m\u001b[0m\n\u001b[1;32m----> 1\u001b[1;33m \u001b[0mnext\u001b[0m\u001b[1;33m(\u001b[0m\u001b[0ma\u001b[0m\u001b[1;33m)\u001b[0m\u001b[1;33m\u001b[0m\u001b[1;33m\u001b[0m\u001b[0m\n\u001b[0m",
      "\u001b[1;31mStopIteration\u001b[0m: 0"
     ]
    }
   ],
   "source": [
    "next(a) # return으로 인해 멈춰버림"
   ]
  },
  {
   "cell_type": "code",
   "execution_count": 39,
   "id": "c22c1321",
   "metadata": {},
   "outputs": [],
   "source": [
    "t = iter([1,2,3,4])"
   ]
  },
  {
   "cell_type": "code",
   "execution_count": 41,
   "id": "2a6d0703",
   "metadata": {},
   "outputs": [
    {
     "data": {
      "text/plain": [
       "2"
      ]
     },
     "execution_count": 41,
     "metadata": {},
     "output_type": "execute_result"
    }
   ],
   "source": [
    "next(t)"
   ]
  },
  {
   "cell_type": "code",
   "execution_count": null,
   "id": "baf5eaf2",
   "metadata": {},
   "outputs": [],
   "source": [
    "def t():\n",
    "    yield 1\n",
    "    return 0\n",
    "    yield 2\n",
    "    yield 3\n"
   ]
  },
  {
   "cell_type": "code",
   "execution_count": 42,
   "id": "95fe26ef",
   "metadata": {},
   "outputs": [
    {
     "data": {
      "text/plain": [
       "['__class__',\n",
       " '__delattr__',\n",
       " '__dir__',\n",
       " '__doc__',\n",
       " '__eq__',\n",
       " '__format__',\n",
       " '__ge__',\n",
       " '__getattribute__',\n",
       " '__gt__',\n",
       " '__hash__',\n",
       " '__init__',\n",
       " '__init_subclass__',\n",
       " '__iter__',\n",
       " '__le__',\n",
       " '__length_hint__',\n",
       " '__lt__',\n",
       " '__ne__',\n",
       " '__new__',\n",
       " '__next__',\n",
       " '__reduce__',\n",
       " '__reduce_ex__',\n",
       " '__repr__',\n",
       " '__setattr__',\n",
       " '__setstate__',\n",
       " '__sizeof__',\n",
       " '__str__',\n",
       " '__subclasshook__']"
      ]
     },
     "execution_count": 42,
     "metadata": {},
     "output_type": "execute_result"
    }
   ],
   "source": [
    "dir(t)  # __next__ 존재"
   ]
  },
  {
   "cell_type": "markdown",
   "id": "61ea021c",
   "metadata": {},
   "source": [
    "배치 크기 조절해서 크기만큼 학습시킬 때 유용"
   ]
  },
  {
   "cell_type": "code",
   "execution_count": 43,
   "id": "ed6d0460",
   "metadata": {},
   "outputs": [],
   "source": [
    "import seaborn as sns"
   ]
  },
  {
   "cell_type": "code",
   "execution_count": 44,
   "id": "058a5b1e",
   "metadata": {},
   "outputs": [],
   "source": [
    "iris = sns.load_dataset('iris')"
   ]
  },
  {
   "cell_type": "code",
   "execution_count": 45,
   "id": "b9237447",
   "metadata": {},
   "outputs": [
    {
     "name": "stdout",
     "output_type": "stream",
     "text": [
      "<class 'pandas.core.frame.DataFrame'>\n",
      "RangeIndex: 150 entries, 0 to 149\n",
      "Data columns (total 5 columns):\n",
      " #   Column        Non-Null Count  Dtype  \n",
      "---  ------        --------------  -----  \n",
      " 0   sepal_length  150 non-null    float64\n",
      " 1   sepal_width   150 non-null    float64\n",
      " 2   petal_length  150 non-null    float64\n",
      " 3   petal_width   150 non-null    float64\n",
      " 4   species       150 non-null    object \n",
      "dtypes: float64(4), object(1)\n",
      "memory usage: 6.0+ KB\n"
     ]
    }
   ],
   "source": [
    "iris.info()"
   ]
  },
  {
   "cell_type": "code",
   "execution_count": 46,
   "id": "dd8e886c",
   "metadata": {},
   "outputs": [],
   "source": [
    "import sys"
   ]
  },
  {
   "cell_type": "code",
   "execution_count": 47,
   "id": "a82da06c",
   "metadata": {},
   "outputs": [
    {
     "data": {
      "text/plain": [
       "<function sys.getrefcount(object, /)>"
      ]
     },
     "execution_count": 47,
     "metadata": {},
     "output_type": "execute_result"
    }
   ],
   "source": [
    "sys.getrefcount"
   ]
  },
  {
   "cell_type": "markdown",
   "id": "60bab805",
   "metadata": {},
   "source": [
    "메모리에 로드된 데이터셋을 이터레이터로 변환할 때 getrefcount 쓰면 순위가 낮아졌을 때 메모리 해제됨.(garbage collection)"
   ]
  },
  {
   "cell_type": "code",
   "execution_count": 48,
   "id": "d19164a2",
   "metadata": {},
   "outputs": [],
   "source": [
    "tips = sns.load_dataset('tips')"
   ]
  },
  {
   "cell_type": "markdown",
   "id": "34c54312",
   "metadata": {},
   "source": [
    "Abstraction, Automation 코딩에서 가장 중요"
   ]
  },
  {
   "cell_type": "code",
   "execution_count": 49,
   "id": "4e9dde83",
   "metadata": {},
   "outputs": [
    {
     "data": {
      "text/plain": [
       "0      Female\n",
       "1        Male\n",
       "2        Male\n",
       "3        Male\n",
       "4      Female\n",
       "        ...  \n",
       "239      Male\n",
       "240    Female\n",
       "241      Male\n",
       "242      Male\n",
       "243    Female\n",
       "Name: sex, Length: 244, dtype: category\n",
       "Categories (2, object): ['Male', 'Female']"
      ]
     },
     "execution_count": 49,
     "metadata": {},
     "output_type": "execute_result"
    }
   ],
   "source": [
    "tips.sex"
   ]
  },
  {
   "cell_type": "code",
   "execution_count": 51,
   "id": "a7ced56c",
   "metadata": {},
   "outputs": [
    {
     "data": {
      "text/plain": [
       "0        Male\n",
       "1      Female\n",
       "2      Female\n",
       "3      Female\n",
       "4        Male\n",
       "        ...  \n",
       "239    Female\n",
       "240      Male\n",
       "241    Female\n",
       "242    Female\n",
       "243      Male\n",
       "Name: sex, Length: 244, dtype: category\n",
       "Categories (2, object): ['Female', 'Male']"
      ]
     },
     "execution_count": 51,
     "metadata": {},
     "output_type": "execute_result"
    }
   ],
   "source": [
    "tips.sex.map({'Male':'Female', 'Female':'Male'})  # pandas에서의 apply와 같은데 표를 사용하지 않기 때문에 함수형 패러다임 같음."
   ]
  },
  {
   "cell_type": "markdown",
   "id": "d46def42",
   "metadata": {},
   "source": [
    "저질 예시"
   ]
  },
  {
   "cell_type": "code",
   "execution_count": 56,
   "id": "88ee254b",
   "metadata": {},
   "outputs": [],
   "source": [
    "t = list(map(lambda x:x+1, [1,2,3,4,5]))"
   ]
  },
  {
   "cell_type": "code",
   "execution_count": 57,
   "id": "aa9f13b3",
   "metadata": {},
   "outputs": [
    {
     "data": {
      "text/plain": [
       "['__add__',\n",
       " '__class__',\n",
       " '__class_getitem__',\n",
       " '__contains__',\n",
       " '__delattr__',\n",
       " '__delitem__',\n",
       " '__dir__',\n",
       " '__doc__',\n",
       " '__eq__',\n",
       " '__format__',\n",
       " '__ge__',\n",
       " '__getattribute__',\n",
       " '__getitem__',\n",
       " '__gt__',\n",
       " '__hash__',\n",
       " '__iadd__',\n",
       " '__imul__',\n",
       " '__init__',\n",
       " '__init_subclass__',\n",
       " '__iter__',\n",
       " '__le__',\n",
       " '__len__',\n",
       " '__lt__',\n",
       " '__mul__',\n",
       " '__ne__',\n",
       " '__new__',\n",
       " '__reduce__',\n",
       " '__reduce_ex__',\n",
       " '__repr__',\n",
       " '__reversed__',\n",
       " '__rmul__',\n",
       " '__setattr__',\n",
       " '__setitem__',\n",
       " '__sizeof__',\n",
       " '__str__',\n",
       " '__subclasshook__',\n",
       " 'append',\n",
       " 'clear',\n",
       " 'copy',\n",
       " 'count',\n",
       " 'extend',\n",
       " 'index',\n",
       " 'insert',\n",
       " 'pop',\n",
       " 'remove',\n",
       " 'reverse',\n",
       " 'sort']"
      ]
     },
     "execution_count": 57,
     "metadata": {},
     "output_type": "execute_result"
    }
   ],
   "source": [
    "dir(t)"
   ]
  },
  {
   "cell_type": "code",
   "execution_count": 59,
   "id": "5f5df672",
   "metadata": {},
   "outputs": [
    {
     "data": {
      "text/plain": [
       "[2, 3, 4, 5, 6]"
      ]
     },
     "execution_count": 59,
     "metadata": {},
     "output_type": "execute_result"
    }
   ],
   "source": [
    "t"
   ]
  },
  {
   "cell_type": "code",
   "execution_count": 61,
   "id": "6f9fd9cc",
   "metadata": {},
   "outputs": [
    {
     "data": {
      "text/plain": [
       "['문', '근', '영']"
      ]
     },
     "execution_count": 61,
     "metadata": {},
     "output_type": "execute_result"
    }
   ],
   "source": [
    "list('문근영')"
   ]
  },
  {
   "cell_type": "code",
   "execution_count": null,
   "id": "e264bc3d",
   "metadata": {},
   "outputs": [],
   "source": [
    "dir('문근영')"
   ]
  },
  {
   "cell_type": "markdown",
   "id": "09a6a4df",
   "metadata": {},
   "source": [
    "### Lambda (익명 함수)\n",
    "\n",
    "함수를 정의하는 def 는 한 번만 사용할 때에 메모리 차지 측면에서 비효율적"
   ]
  },
  {
   "cell_type": "code",
   "execution_count": 62,
   "id": "8bb70e0e",
   "metadata": {},
   "outputs": [],
   "source": [
    "b = lambda y:y+1\n",
    "c = lambda x:x*x"
   ]
  },
  {
   "cell_type": "code",
   "execution_count": 64,
   "id": "312c0918",
   "metadata": {},
   "outputs": [
    {
     "data": {
      "text/plain": [
       "True"
      ]
     },
     "execution_count": 64,
     "metadata": {},
     "output_type": "execute_result"
    }
   ],
   "source": [
    "b.__name__ == c.__name__  # 익명함수라는 이름이 붙은 이유"
   ]
  },
  {
   "cell_type": "code",
   "execution_count": null,
   "id": "8d5bc2fe",
   "metadata": {},
   "outputs": [],
   "source": [
    "def t(x):\n",
    "    return x+1   # 가독성이 안 좋음"
   ]
  },
  {
   "cell_type": "code",
   "execution_count": null,
   "id": "c53053ff",
   "metadata": {},
   "outputs": [],
   "source": [
    "s = map(t, [1,2,3,4,5])"
   ]
  },
  {
   "cell_type": "code",
   "execution_count": null,
   "id": "b28d7731",
   "metadata": {},
   "outputs": [],
   "source": [
    "s = filter(lambda t:t>3, [1,2,3,4,5])  # filter : true만 반환"
   ]
  },
  {
   "cell_type": "code",
   "execution_count": null,
   "id": "86c57486",
   "metadata": {},
   "outputs": [],
   "source": [
    "is-, -able"
   ]
  },
  {
   "cell_type": "code",
   "execution_count": null,
   "id": "cb418354",
   "metadata": {},
   "outputs": [],
   "source": []
  },
  {
   "cell_type": "code",
   "execution_count": null,
   "id": "1cc798cc",
   "metadata": {},
   "outputs": [],
   "source": [
    "# predicate function : true / false 함수"
   ]
  },
  {
   "cell_type": "code",
   "execution_count": null,
   "id": "a6449ca8",
   "metadata": {},
   "outputs": [],
   "source": [
    "tf.keras.layers.Lambda"
   ]
  },
  {
   "cell_type": "markdown",
   "id": "246323dd",
   "metadata": {},
   "source": [
    "iteral한 것은 모두 sequancial data"
   ]
  },
  {
   "cell_type": "markdown",
   "id": "ebe0c000",
   "metadata": {},
   "source": [
    "### Reduce & Accumulate\n",
    "짱짱 중요\n",
    "\n",
    "Reduce : 한 번에 계산 결과 보여줌  (tensorflow에서 대부분 reduce method로 연산)\n",
    "장점\n",
    "- 분산 처리\n",
    "\n",
    "Accumulate : iterator로 next를 이용해 결과를 보여줌"
   ]
  },
  {
   "cell_type": "code",
   "execution_count": 65,
   "id": "6b3e55d1",
   "metadata": {},
   "outputs": [],
   "source": [
    "from itertools import accumulate\n",
    "from functools import reduce"
   ]
  },
  {
   "cell_type": "code",
   "execution_count": 66,
   "id": "29778ab8",
   "metadata": {},
   "outputs": [
    {
     "data": {
      "text/plain": [
       "15"
      ]
     },
     "execution_count": 66,
     "metadata": {},
     "output_type": "execute_result"
    }
   ],
   "source": [
    "reduce(lambda x,y:x+y, [1,2,3,4,5])"
   ]
  },
  {
   "cell_type": "code",
   "execution_count": 67,
   "id": "caeffdf3",
   "metadata": {},
   "outputs": [
    {
     "data": {
      "text/plain": [
       "120"
      ]
     },
     "execution_count": 67,
     "metadata": {},
     "output_type": "execute_result"
    }
   ],
   "source": [
    "reduce(lambda x,y: x*y, [1,2,3,4,5])   # factorial"
   ]
  },
  {
   "cell_type": "code",
   "execution_count": null,
   "id": "567b1f75",
   "metadata": {},
   "outputs": [],
   "source": [
    "t = accumulate([1,2,3,4,5l, lambda x,y: x+y)"
   ]
  },
  {
   "cell_type": "markdown",
   "id": "5656da1c",
   "metadata": {},
   "source": [
    "결합 법칙이 성립하지 않더라도, max로 나열 또는 mean 이용 등의 다양한 방법이 있으므로 그러한 방법으로 쪼개서 "
   ]
  },
  {
   "cell_type": "code",
   "execution_count": null,
   "id": "9bf11fdc",
   "metadata": {},
   "outputs": [],
   "source": [
    "next(t)"
   ]
  },
  {
   "cell_type": "markdown",
   "id": "d57482ee",
   "metadata": {},
   "source": [
    "numpy를 이용해 reduce, accumulate 사용하는 법"
   ]
  },
  {
   "cell_type": "code",
   "execution_count": 68,
   "id": "58f3d316",
   "metadata": {},
   "outputs": [],
   "source": [
    "import numpy as np"
   ]
  },
  {
   "cell_type": "code",
   "execution_count": 69,
   "id": "f2bd2b2d",
   "metadata": {},
   "outputs": [
    {
     "data": {
      "text/plain": [
       "array([ 1,  3,  6, 10, 15], dtype=int32)"
      ]
     },
     "execution_count": 69,
     "metadata": {},
     "output_type": "execute_result"
    }
   ],
   "source": [
    "np.add.reduce([1,2,3,4,5])\n",
    "np.add.accumulate([1,2,3,4,5])"
   ]
  },
  {
   "cell_type": "markdown",
   "id": "c88a25fd",
   "metadata": {},
   "source": [
    "비교"
   ]
  },
  {
   "cell_type": "code",
   "execution_count": 70,
   "id": "6ca43b3a",
   "metadata": {},
   "outputs": [],
   "source": [
    "def xx(a,*b):\n",
    "    return a(b)"
   ]
  },
  {
   "cell_type": "code",
   "execution_count": null,
   "id": "0c8b4780",
   "metadata": {},
   "outputs": [],
   "source": [
    "lambda f, *args : f(*args)"
   ]
  },
  {
   "cell_type": "code",
   "execution_count": null,
   "id": "8c47c95b",
   "metadata": {},
   "outputs": [],
   "source": []
  },
  {
   "cell_type": "markdown",
   "id": "42e5701c",
   "metadata": {},
   "source": [
    "Class의 인스턴스를 가로로 붙일 수 있게 하는 것이 __ @@ __\n",
    "\n",
    "callable : def, class"
   ]
  },
  {
   "cell_type": "markdown",
   "id": "a3bd18e2",
   "metadata": {},
   "source": [
    "### Closure : 내부의 함수가 외부 함수를 참조해 결과값을 내는 것.\n",
    "\n",
    "필요성\n",
    ": y 함수는 외부에서 접근이 어렵기 때문에 보안 측면에서."
   ]
  },
  {
   "cell_type": "code",
   "execution_count": 72,
   "id": "d9932415",
   "metadata": {},
   "outputs": [],
   "source": [
    "def x(m):\n",
    "    def y(n):\n",
    "        return m+n\n",
    "    return y"
   ]
  },
  {
   "cell_type": "code",
   "execution_count": 74,
   "id": "e2049f48",
   "metadata": {
    "scrolled": true
   },
   "outputs": [
    {
     "data": {
      "text/plain": [
       "7"
      ]
     },
     "execution_count": 74,
     "metadata": {},
     "output_type": "execute_result"
    }
   ],
   "source": [
    "x(3)(4)"
   ]
  },
  {
   "cell_type": "code",
   "execution_count": 75,
   "id": "1ec77b3d",
   "metadata": {},
   "outputs": [
    {
     "data": {
      "text/plain": [
       "6"
      ]
     },
     "execution_count": 75,
     "metadata": {},
     "output_type": "execute_result"
    }
   ],
   "source": [
    "x(1)(5)"
   ]
  },
  {
   "cell_type": "code",
   "execution_count": null,
   "id": "66815908",
   "metadata": {},
   "outputs": [],
   "source": [
    "class A:\n",
    "    def __init__(self, m):\n",
    "        self.m = m\n",
    "    def __call__(self):\n",
    "        return self.m + 1"
   ]
  },
  {
   "cell_type": "markdown",
   "id": "912b7835",
   "metadata": {},
   "source": [
    "아래 클래스와 함수는 같은 역할"
   ]
  },
  {
   "cell_type": "code",
   "execution_count": 76,
   "id": "f434b0f8",
   "metadata": {},
   "outputs": [],
   "source": [
    "class Adder(object):\n",
    "    def __init__(self, n):\n",
    "        self.n = n\n",
    "    def __call__(self, m):\n",
    "        return self.n + m\n",
    "add5_i = Adder(5)\n"
   ]
  },
  {
   "cell_type": "code",
   "execution_count": null,
   "id": "8a237d08",
   "metadata": {},
   "outputs": [],
   "source": [
    "def make_adder(n):\n",
    "    def adder(m):\n",
    "        return m+ n\n",
    "    return adder\n",
    "add5_f = make_adder(5)"
   ]
  },
  {
   "cell_type": "code",
   "execution_count": 77,
   "id": "6c4a71a5",
   "metadata": {},
   "outputs": [],
   "source": [
    "# python tutorial expression \n",
    "\n",
    "def make_incrementor(n):\n",
    "    return lambda x:x + n  # 반환값을 함수로 제작해서 사용하려면 f 등의 함수 이름을 지정해야 함."
   ]
  },
  {
   "cell_type": "code",
   "execution_count": 78,
   "id": "cf52c78a",
   "metadata": {},
   "outputs": [],
   "source": [
    "f = make_incrementor(42)"
   ]
  },
  {
   "cell_type": "code",
   "execution_count": 79,
   "id": "1aecdd3a",
   "metadata": {},
   "outputs": [
    {
     "data": {
      "text/plain": [
       "42"
      ]
     },
     "execution_count": 79,
     "metadata": {},
     "output_type": "execute_result"
    }
   ],
   "source": [
    "f(0)"
   ]
  },
  {
   "cell_type": "code",
   "execution_count": 80,
   "id": "ce4c7e0b",
   "metadata": {},
   "outputs": [
    {
     "data": {
      "text/plain": [
       "43"
      ]
     },
     "execution_count": 80,
     "metadata": {},
     "output_type": "execute_result"
    }
   ],
   "source": [
    "f(1)"
   ]
  },
  {
   "cell_type": "markdown",
   "id": "3a05e70f",
   "metadata": {},
   "source": [
    "### Decorator\n",
    "\n",
    "method vs function : 관점이 다른 것이지 같은 것이다."
   ]
  },
  {
   "cell_type": "code",
   "execution_count": 81,
   "id": "0b71c2d1",
   "metadata": {},
   "outputs": [],
   "source": [
    "class A:   # 첫 번째 인자(self)가 무조건 있어야 한다. 없으면 staticmethod를 사용해서 self를 생략할 수 있다.\n",
    "    @staticmethod\n",
    "    def t(self):\n",
    "        print('t')"
   ]
  },
  {
   "cell_type": "code",
   "execution_count": 82,
   "id": "858b5fb8",
   "metadata": {},
   "outputs": [],
   "source": [
    "a = A()"
   ]
  },
  {
   "cell_type": "code",
   "execution_count": 84,
   "id": "058c2092",
   "metadata": {},
   "outputs": [
    {
     "data": {
      "text/plain": [
       "<bound method A.t of <__main__.A object at 0x000002121E111C10>>"
      ]
     },
     "execution_count": 84,
     "metadata": {},
     "output_type": "execute_result"
    }
   ],
   "source": [
    "a.t "
   ]
  },
  {
   "cell_type": "code",
   "execution_count": 85,
   "id": "3eaa2cc8",
   "metadata": {},
   "outputs": [
    {
     "data": {
      "text/plain": [
       "<function __main__.A.t(self)>"
      ]
     },
     "execution_count": 85,
     "metadata": {},
     "output_type": "execute_result"
    }
   ],
   "source": [
    "A.t"
   ]
  },
  {
   "cell_type": "code",
   "execution_count": 92,
   "id": "f341b579",
   "metadata": {},
   "outputs": [
    {
     "ename": "TypeError",
     "evalue": "t() takes 1 positional argument but 2 were given",
     "output_type": "error",
     "traceback": [
      "\u001b[1;31m---------------------------------------------------------------------------\u001b[0m",
      "\u001b[1;31mTypeError\u001b[0m                                 Traceback (most recent call last)",
      "\u001b[1;32m<ipython-input-92-9d9737160ce1>\u001b[0m in \u001b[0;36m<module>\u001b[1;34m\u001b[0m\n\u001b[1;32m----> 1\u001b[1;33m \u001b[0ma\u001b[0m\u001b[1;33m.\u001b[0m\u001b[0mt\u001b[0m\u001b[1;33m(\u001b[0m\u001b[0ma\u001b[0m\u001b[1;33m)\u001b[0m\u001b[1;33m\u001b[0m\u001b[1;33m\u001b[0m\u001b[0m\n\u001b[0m",
      "\u001b[1;31mTypeError\u001b[0m: t() takes 1 positional argument but 2 were given"
     ]
    }
   ],
   "source": [
    "a.t()"
   ]
  },
  {
   "cell_type": "code",
   "execution_count": 93,
   "id": "7a326e2b",
   "metadata": {},
   "outputs": [
    {
     "name": "stdout",
     "output_type": "stream",
     "text": [
      "t\n"
     ]
    }
   ],
   "source": [
    "A.t(a)"
   ]
  },
  {
   "cell_type": "markdown",
   "id": "282e82bc",
   "metadata": {},
   "source": [
    "### Staticmethod"
   ]
  },
  {
   "cell_type": "markdown",
   "id": "60d63afd",
   "metadata": {},
   "source": [
    "상속시켜서 클래스 인자 사용하지 않아도 됨 -> 독립성 유지 가능"
   ]
  },
  {
   "cell_type": "markdown",
   "id": "ed049308",
   "metadata": {},
   "source": [
    "yield 많이 응용되는 패키지가 iterator 기반의 itertools : 무한루프에 많이 이용"
   ]
  },
  {
   "cell_type": "code",
   "execution_count": 94,
   "id": "3cddcf5b",
   "metadata": {},
   "outputs": [],
   "source": [
    "import itertools"
   ]
  },
  {
   "cell_type": "code",
   "execution_count": 95,
   "id": "148db8f6",
   "metadata": {},
   "outputs": [],
   "source": [
    "from itertools import cycle"
   ]
  },
  {
   "cell_type": "code",
   "execution_count": 108,
   "id": "a546c5c7",
   "metadata": {},
   "outputs": [],
   "source": [
    "b = cycle([1,2,3])"
   ]
  },
  {
   "cell_type": "code",
   "execution_count": 116,
   "id": "fcd4918f",
   "metadata": {},
   "outputs": [
    {
     "data": {
      "text/plain": [
       "2"
      ]
     },
     "execution_count": 116,
     "metadata": {},
     "output_type": "execute_result"
    }
   ],
   "source": [
    "next(b)"
   ]
  },
  {
   "cell_type": "code",
   "execution_count": 96,
   "id": "9e5b85f3",
   "metadata": {},
   "outputs": [],
   "source": [
    "from itertools import count"
   ]
  },
  {
   "cell_type": "code",
   "execution_count": 97,
   "id": "35fc448b",
   "metadata": {},
   "outputs": [],
   "source": [
    "b = count()"
   ]
  },
  {
   "cell_type": "code",
   "execution_count": 107,
   "id": "f58129c4",
   "metadata": {},
   "outputs": [
    {
     "data": {
      "text/plain": [
       "9"
      ]
     },
     "execution_count": 107,
     "metadata": {},
     "output_type": "execute_result"
    }
   ],
   "source": [
    "next(b)"
   ]
  },
  {
   "cell_type": "code",
   "execution_count": 117,
   "id": "2319713a",
   "metadata": {},
   "outputs": [],
   "source": [
    "from itertools import repeat"
   ]
  },
  {
   "cell_type": "code",
   "execution_count": 118,
   "id": "b8f339e7",
   "metadata": {},
   "outputs": [],
   "source": [
    "b = repeat(3,5)"
   ]
  },
  {
   "cell_type": "code",
   "execution_count": 125,
   "id": "b5572123",
   "metadata": {},
   "outputs": [
    {
     "ename": "StopIteration",
     "evalue": "",
     "output_type": "error",
     "traceback": [
      "\u001b[1;31m---------------------------------------------------------------------------\u001b[0m",
      "\u001b[1;31mStopIteration\u001b[0m                             Traceback (most recent call last)",
      "\u001b[1;32m<ipython-input-125-adb3e17b0219>\u001b[0m in \u001b[0;36m<module>\u001b[1;34m\u001b[0m\n\u001b[1;32m----> 1\u001b[1;33m \u001b[0mnext\u001b[0m\u001b[1;33m(\u001b[0m\u001b[0mb\u001b[0m\u001b[1;33m)\u001b[0m\u001b[1;33m\u001b[0m\u001b[1;33m\u001b[0m\u001b[0m\n\u001b[0m",
      "\u001b[1;31mStopIteration\u001b[0m: "
     ]
    }
   ],
   "source": [
    "next(b)  # 5번 반복하면 종료"
   ]
  },
  {
   "cell_type": "markdown",
   "id": "a0c99ee2",
   "metadata": {},
   "source": [
    "itertools, functools, operator"
   ]
  },
  {
   "cell_type": "markdown",
   "id": "9995aa55",
   "metadata": {},
   "source": [
    "## 06/29(수)\n",
    "\n",
    "파이썬은 기본적으로 encapsulation을 지원하지 않는다."
   ]
  },
  {
   "cell_type": "markdown",
   "id": "5d13f559",
   "metadata": {},
   "source": [
    "객체 지향의 4가지 특성\n",
    "- 추상화(abstraction) : 코드를 특정한 목적으로 일반화하여 기존 코드 '위에 올라가는' 코드의 계층 (abc)\n",
    "\n",
    "- 캡슐화(encapsulation) : 파이썬 - 모두 public으로 만들어버림."
   ]
  },
  {
   "cell_type": "code",
   "execution_count": null,
   "id": "336fdf9a",
   "metadata": {},
   "outputs": [],
   "source": [
    "class A:\n",
    "    public\n",
    "    private\n",
    "    protected"
   ]
  },
  {
   "cell_type": "code",
   "execution_count": 1,
   "id": "0e082215",
   "metadata": {},
   "outputs": [],
   "source": [
    "class A:\n",
    "    __x = 1  # 인스턴스 이름 앞에 __를 붙이면 내부적으로 \n",
    "    y = 1"
   ]
  },
  {
   "cell_type": "code",
   "execution_count": 2,
   "id": "42c4ee3e",
   "metadata": {
    "scrolled": true
   },
   "outputs": [
    {
     "data": {
      "text/plain": [
       "['_A__x',\n",
       " '__class__',\n",
       " '__delattr__',\n",
       " '__dict__',\n",
       " '__dir__',\n",
       " '__doc__',\n",
       " '__eq__',\n",
       " '__format__',\n",
       " '__ge__',\n",
       " '__getattribute__',\n",
       " '__gt__',\n",
       " '__hash__',\n",
       " '__init__',\n",
       " '__init_subclass__',\n",
       " '__le__',\n",
       " '__lt__',\n",
       " '__module__',\n",
       " '__ne__',\n",
       " '__new__',\n",
       " '__reduce__',\n",
       " '__reduce_ex__',\n",
       " '__repr__',\n",
       " '__setattr__',\n",
       " '__sizeof__',\n",
       " '__str__',\n",
       " '__subclasshook__',\n",
       " '__weakref__',\n",
       " 'y']"
      ]
     },
     "execution_count": 2,
     "metadata": {},
     "output_type": "execute_result"
    }
   ],
   "source": [
    "dir(A)"
   ]
  },
  {
   "cell_type": "code",
   "execution_count": 3,
   "id": "ecedc466",
   "metadata": {},
   "outputs": [
    {
     "data": {
      "text/plain": [
       "1"
      ]
     },
     "execution_count": 3,
     "metadata": {},
     "output_type": "execute_result"
    }
   ],
   "source": [
    "A._A__x  # mangling"
   ]
  },
  {
   "cell_type": "code",
   "execution_count": 4,
   "id": "c898cf43",
   "metadata": {},
   "outputs": [],
   "source": [
    "from sklearn.pipeline import Pipeline\n",
    "from sklearn.neighbors import KNeighborsClassifier\n",
    "from sklearn.preprocessing import StandardScaler"
   ]
  },
  {
   "cell_type": "code",
   "execution_count": 5,
   "id": "04a558ae",
   "metadata": {},
   "outputs": [],
   "source": [
    "pipe = Pipeline([('std', StandardScaler()), ('knn', KNeighborsClassifier())])"
   ]
  },
  {
   "cell_type": "code",
   "execution_count": 6,
   "id": "a134fbbc",
   "metadata": {},
   "outputs": [
    {
     "data": {
      "text/plain": [
       "{'memory': None,\n",
       " 'steps': [('std', StandardScaler()), ('knn', KNeighborsClassifier())],\n",
       " 'verbose': False,\n",
       " 'std': StandardScaler(),\n",
       " 'knn': KNeighborsClassifier(),\n",
       " 'std__copy': True,\n",
       " 'std__with_mean': True,\n",
       " 'std__with_std': True,\n",
       " 'knn__algorithm': 'auto',\n",
       " 'knn__leaf_size': 30,\n",
       " 'knn__metric': 'minkowski',\n",
       " 'knn__metric_params': None,\n",
       " 'knn__n_jobs': None,\n",
       " 'knn__n_neighbors': 5,\n",
       " 'knn__p': 2,\n",
       " 'knn__weights': 'uniform'}"
      ]
     },
     "execution_count": 6,
     "metadata": {},
     "output_type": "execute_result"
    }
   ],
   "source": [
    "pipe.get_params()  # hyperparameter를 조정해주기 위해 사용되는 "
   ]
  },
  {
   "cell_type": "code",
   "execution_count": null,
   "id": "24d66ca7",
   "metadata": {},
   "outputs": [],
   "source": [
    "consenting adults  # 괜찮다고 생각하고 권한 부여"
   ]
  },
  {
   "cell_type": "code",
   "execution_count": null,
   "id": "0d968df5",
   "metadata": {},
   "outputs": [],
   "source": [
    "import tensorflow as tf"
   ]
  },
  {
   "cell_type": "code",
   "execution_count": null,
   "id": "ec0cea07",
   "metadata": {},
   "outputs": [],
   "source": [
    "model = tf.keras.Sequential()"
   ]
  },
  {
   "cell_type": "code",
   "execution_count": null,
   "id": "8032e281",
   "metadata": {},
   "outputs": [],
   "source": [
    "model.a = 1"
   ]
  },
  {
   "cell_type": "code",
   "execution_count": null,
   "id": "8b49c115",
   "metadata": {},
   "outputs": [],
   "source": [
    "model.add(tf.keras.layers.Dense(model.a))  # 파이썬은 기본적으로 접근 제한을 하지 않기 때문에 모델 수정 가능."
   ]
  },
  {
   "cell_type": "markdown",
   "id": "c4cc5db9",
   "metadata": {},
   "source": [
    "함수로는 접근을 제한해 두었기 때문에 class가 더욱 유연"
   ]
  },
  {
   "cell_type": "code",
   "execution_count": null,
   "id": "6fbed131",
   "metadata": {},
   "outputs": [],
   "source": [
    "model.layers = [tf.keras.layers.Dense(5)]  # 얘는 오류 발생"
   ]
  },
  {
   "cell_type": "code",
   "execution_count": null,
   "id": "bfaea116",
   "metadata": {},
   "outputs": [],
   "source": []
  },
  {
   "cell_type": "code",
   "execution_count": null,
   "id": "2e21355e",
   "metadata": {},
   "outputs": [],
   "source": [
    "from sklearn.naive_bayes import BernoulliNB, CategoricalNB, GaussianNB, ComplementNB, MultinomialNB"
   ]
  },
  {
   "cell_type": "markdown",
   "id": "a46bb593",
   "metadata": {},
   "source": [
    "다섯 개 모델을 따로 만들까? 같이 만들까?\n",
    "\n",
    "유사한 점을 묶어내면 개발자들도 편하고, 사용자들도 사용하기에 좋다.\n",
    "\n",
    "효환성의 문제를 해결해 주는 상속.\n",
    "\n",
    "단, 막 사용하지 못하게 규약을 지켜야 함."
   ]
  },
  {
   "cell_type": "code",
   "execution_count": null,
   "id": "ebcf16da",
   "metadata": {},
   "outputs": [],
   "source": [
    "# abstraction\n",
    "from sklearn.naive_bayes import abstractmethod, ABCMeta"
   ]
  },
  {
   "cell_type": "code",
   "execution_count": null,
   "id": "9b9c753c",
   "metadata": {},
   "outputs": [],
   "source": []
  },
  {
   "cell_type": "markdown",
   "id": "a4dc6346",
   "metadata": {},
   "source": [
    "**Functional Paradigm을 배우는 이유**\n",
    "\n",
    "딥러닝 배우기 위해서\n",
    "\n",
    "데이터 처리 잘 하기 위해서\n",
    "\n",
    "python은 not pure하므로 객체 지향 프로그래밍(OOP)이 쓰인다."
   ]
  },
  {
   "cell_type": "markdown",
   "id": "e21eb83b",
   "metadata": {},
   "source": [
    "### Abstractmethod"
   ]
  },
  {
   "cell_type": "code",
   "execution_count": null,
   "id": "09864b73",
   "metadata": {},
   "outputs": [],
   "source": [
    "abstract class"
   ]
  },
  {
   "cell_type": "code",
   "execution_count": null,
   "id": "b81a529a",
   "metadata": {},
   "outputs": [],
   "source": [
    "from collections.abc import Sequence"
   ]
  },
  {
   "cell_type": "code",
   "execution_count": 27,
   "id": "b0762e90",
   "metadata": {},
   "outputs": [],
   "source": [
    "# duck-typing : __getitem__, __len__ 이 있어야 sequence 타입\n",
    "class ExpandingSequence:\n",
    "    def __init__(self, it):\n",
    "        self.it = it\n",
    "        self._cache = []\n",
    "    def __getitem__(self, index):\n",
    "        while len(self._cache) <= index:\n",
    "            self._cache.append(next(self.it))\n",
    "        return self._cache[index]\n",
    "    def __len__(self):\n",
    "        return len(self._cache)"
   ]
  },
  {
   "cell_type": "code",
   "execution_count": null,
   "id": "e8213985",
   "metadata": {},
   "outputs": [],
   "source": []
  },
  {
   "cell_type": "code",
   "execution_count": 28,
   "id": "d4abcfb6",
   "metadata": {},
   "outputs": [],
   "source": [
    "a = ExpandingSequence(iter([1,2,3]))"
   ]
  },
  {
   "cell_type": "markdown",
   "id": "96fab80b",
   "metadata": {},
   "source": [
    "**abc를 사용하면 클래스 상속처럼 보이지만 추상화**\n",
    "\n",
    "python에서는 inheritance 문법을 사용해서 상속을 구현\n",
    "\n",
    "추상화의 장점 : 규약이 정해져 있기 때문에 규약을 지키지 않으면 실행이 안됨.\n",
    "\n",
    "**@abstractmethod를 가지는 abstract class(ABCMeta, ABC, abc 등)를 상속하는 것이 추상화,\n",
    "다른 클래스가 들어가면 상속하는 것이라고 생각**\n",
    "\n",
    "즁요! @abstractmethod(decorater)을 사용해야 특정 규약을 지켜야 한다는 가이드라인이 제시됨.\n",
    "\n",
    "+ 추상화가 아닌데 @abstractmethod를 사용하면 오류 발생하지 않고 기능만 안 함.\n",
    "\n",
    "\n",
    "+ 개발자 입장에서 abstract class를 만들 때 오류를 발생시키지 않기 위해 @abstractmethod를 사용하는 것.\n",
    "그래서 사용자는 필요 x"
   ]
  },
  {
   "cell_type": "code",
   "execution_count": 29,
   "id": "e99c0978",
   "metadata": {},
   "outputs": [
    {
     "ename": "NameError",
     "evalue": "name 'Sequence' is not defined",
     "output_type": "error",
     "traceback": [
      "\u001b[1;31m---------------------------------------------------------------------------\u001b[0m",
      "\u001b[1;31mNameError\u001b[0m                                 Traceback (most recent call last)",
      "\u001b[1;32m<ipython-input-29-3a6c62c5f2e6>\u001b[0m in \u001b[0;36m<module>\u001b[1;34m\u001b[0m\n\u001b[1;32m----> 1\u001b[1;33m \u001b[1;32mclass\u001b[0m \u001b[0mExpandingSequence2\u001b[0m\u001b[1;33m(\u001b[0m\u001b[0mSequence\u001b[0m\u001b[1;33m)\u001b[0m\u001b[1;33m:\u001b[0m  \u001b[1;31m# Class inheritance(클래스 상속) 문법을 사용해서 ((Sequence) 추가만으로) 추상화 구현\u001b[0m\u001b[1;33m\u001b[0m\u001b[1;33m\u001b[0m\u001b[0m\n\u001b[0m\u001b[0;32m      2\u001b[0m     \u001b[1;32mdef\u001b[0m \u001b[0m__init__\u001b[0m\u001b[1;33m(\u001b[0m\u001b[0mself\u001b[0m\u001b[1;33m,\u001b[0m \u001b[0mit\u001b[0m\u001b[1;33m)\u001b[0m\u001b[1;33m:\u001b[0m\u001b[1;33m\u001b[0m\u001b[1;33m\u001b[0m\u001b[0m\n\u001b[0;32m      3\u001b[0m         \u001b[0mself\u001b[0m\u001b[1;33m.\u001b[0m\u001b[0mit\u001b[0m \u001b[1;33m=\u001b[0m \u001b[0mit\u001b[0m\u001b[1;33m\u001b[0m\u001b[1;33m\u001b[0m\u001b[0m\n\u001b[0;32m      4\u001b[0m         \u001b[0mself\u001b[0m\u001b[1;33m.\u001b[0m\u001b[0m_cache\u001b[0m \u001b[1;33m=\u001b[0m \u001b[1;33m[\u001b[0m\u001b[1;33m]\u001b[0m\u001b[1;33m\u001b[0m\u001b[1;33m\u001b[0m\u001b[0m\n\u001b[0;32m      5\u001b[0m     \u001b[1;32mdef\u001b[0m \u001b[0m__getitem__\u001b[0m\u001b[1;33m(\u001b[0m\u001b[0mself\u001b[0m\u001b[1;33m,\u001b[0m \u001b[0mindex\u001b[0m\u001b[1;33m)\u001b[0m\u001b[1;33m:\u001b[0m\u001b[1;33m\u001b[0m\u001b[1;33m\u001b[0m\u001b[0m\n",
      "\u001b[1;31mNameError\u001b[0m: name 'Sequence' is not defined"
     ]
    }
   ],
   "source": [
    "class ExpandingSequence2(Sequence):  # Class inheritance(클래스 상속) 문법을 사용해서 ((Sequence) 추가만으로) 추상화 구현\n",
    "    def __init__(self, it):\n",
    "        self.it = it\n",
    "        self._cache = []\n",
    "    def __getitem__(self, index):\n",
    "        while len(self._cache) <= index:\n",
    "            self._cache.append(next(self.it))\n",
    "        return self._cache[index]\n",
    "    def __len__(self):\n",
    "        return len(self._cache)"
   ]
  },
  {
   "cell_type": "code",
   "execution_count": null,
   "id": "4ff17d77",
   "metadata": {},
   "outputs": [],
   "source": [
    "a2 = ExpandingSequence2(iter([1,2,3]))"
   ]
  },
  {
   "cell_type": "code",
   "execution_count": 13,
   "id": "be6d320c",
   "metadata": {},
   "outputs": [],
   "source": [
    "import tensorflow as tf\n",
    "import inspect"
   ]
  },
  {
   "cell_type": "code",
   "execution_count": 14,
   "id": "a3c7b075",
   "metadata": {},
   "outputs": [
    {
     "name": "stdout",
     "output_type": "stream",
     "text": [
      "@keras_export('keras.utils.Sequence')\n",
      "class Sequence(object):\n",
      "  \"\"\"Base object for fitting to a sequence of data, such as a dataset.\n",
      "\n",
      "  Every `Sequence` must implement the `__getitem__` and the `__len__` methods.\n",
      "  If you want to modify your dataset between epochs you may implement\n",
      "  `on_epoch_end`.\n",
      "  The method `__getitem__` should return a complete batch.\n",
      "\n",
      "  Notes:\n",
      "\n",
      "  `Sequence` are a safer way to do multiprocessing. This structure guarantees\n",
      "  that the network will only train once\n",
      "   on each sample per epoch which is not the case with generators.\n",
      "\n",
      "  Examples:\n",
      "\n",
      "  ```python\n",
      "  from skimage.io import imread\n",
      "  from skimage.transform import resize\n",
      "  import numpy as np\n",
      "  import math\n",
      "\n",
      "  # Here, `x_set` is list of path to the images\n",
      "  # and `y_set` are the associated classes.\n",
      "\n",
      "  class CIFAR10Sequence(Sequence):\n",
      "\n",
      "      def __init__(self, x_set, y_set, batch_size):\n",
      "          self.x, self.y = x_set, y_set\n",
      "          self.batch_size = batch_size\n",
      "\n",
      "      def __len__(self):\n",
      "          return math.ceil(len(self.x) / self.batch_size)\n",
      "\n",
      "      def __getitem__(self, idx):\n",
      "          batch_x = self.x[idx * self.batch_size:(idx + 1) *\n",
      "          self.batch_size]\n",
      "          batch_y = self.y[idx * self.batch_size:(idx + 1) *\n",
      "          self.batch_size]\n",
      "\n",
      "          return np.array([\n",
      "              resize(imread(file_name), (200, 200))\n",
      "                 for file_name in batch_x]), np.array(batch_y)\n",
      "  ```\n",
      "  \"\"\"\n",
      "\n",
      "  @abstractmethod\n",
      "  def __getitem__(self, index):\n",
      "    \"\"\"Gets batch at position `index`.\n",
      "\n",
      "    Args:\n",
      "        index: position of the batch in the Sequence.\n",
      "\n",
      "    Returns:\n",
      "        A batch\n",
      "    \"\"\"\n",
      "    raise NotImplementedError\n",
      "\n",
      "  @abstractmethod\n",
      "  def __len__(self):\n",
      "    \"\"\"Number of batch in the Sequence.\n",
      "\n",
      "    Returns:\n",
      "        The number of batches in the Sequence.\n",
      "    \"\"\"\n",
      "    raise NotImplementedError\n",
      "\n",
      "  def on_epoch_end(self):\n",
      "    \"\"\"Method called at the end of every epoch.\n",
      "    \"\"\"\n",
      "    pass\n",
      "\n",
      "  def __iter__(self):\n",
      "    \"\"\"Create a generator that iterate over the Sequence.\"\"\"\n",
      "    for item in (self[i] for i in range(len(self))):\n",
      "      yield item\n",
      "\n"
     ]
    }
   ],
   "source": [
    "print(inspect.getsource(tf.keras.utils.Sequence))  # abc 방식 사용 안 하고 duck-typing구현  \n",
    "                                                    # @abstractmethod 방식 사용해서 추상화 이용"
   ]
  },
  {
   "cell_type": "code",
   "execution_count": 23,
   "id": "a1627216",
   "metadata": {},
   "outputs": [],
   "source": [
    "from abc import abstractmethod, ABCMeta, ABC"
   ]
  },
  {
   "cell_type": "code",
   "execution_count": 24,
   "id": "c59a5b0d",
   "metadata": {},
   "outputs": [],
   "source": [
    "class ExpandingSequence3(metaclass=ABCMeta):  # Class inheritance(클래스 상속) 문법을 사용해서 ((Sequence) 추가만으로) 추상화 구현\n",
    "    #def __init__(self, it):\n",
    "    #    self.it = it\n",
    "    #    self._cache = []\n",
    "        \n",
    "    @abstractmethod    # 개발자 입장(tensorflow, pytorch 만드는 사람) -> 사용하는 사람에게 class를 상속해서 사용, 활용하게끔 제공\n",
    "    def __getitem__(self, index):\n",
    "        pass\n",
    "       # while len(self._cache) <= index:\n",
    "       #     self._cache.append(next(self.it))\n",
    "       # return self._cache[index]\n",
    "    def __len__(self):\n",
    "        pass\n",
    "       # return len(self._cache)"
   ]
  },
  {
   "cell_type": "code",
   "execution_count": 25,
   "id": "02b44b21",
   "metadata": {},
   "outputs": [],
   "source": [
    "class ExpandingSequence4(ExpandingSequence3):\n",
    "    pass\n",
    "    #def __init__(self, it):\n",
    "    #    self.it = it\n",
    "    #    self._cache = []\n",
    "    "
   ]
  },
  {
   "cell_type": "code",
   "execution_count": 26,
   "id": "a5186c3d",
   "metadata": {},
   "outputs": [
    {
     "ename": "TypeError",
     "evalue": "Can't instantiate abstract class ExpandingSequence4 with abstract method __getitem__",
     "output_type": "error",
     "traceback": [
      "\u001b[1;31m---------------------------------------------------------------------------\u001b[0m",
      "\u001b[1;31mTypeError\u001b[0m                                 Traceback (most recent call last)",
      "\u001b[1;32m<ipython-input-26-fd08d5428a49>\u001b[0m in \u001b[0;36m<module>\u001b[1;34m\u001b[0m\n\u001b[1;32m----> 1\u001b[1;33m \u001b[0ma4\u001b[0m \u001b[1;33m=\u001b[0m \u001b[0mExpandingSequence4\u001b[0m\u001b[1;33m(\u001b[0m\u001b[1;33m)\u001b[0m\u001b[1;33m\u001b[0m\u001b[1;33m\u001b[0m\u001b[0m\n\u001b[0m",
      "\u001b[1;31mTypeError\u001b[0m: Can't instantiate abstract class ExpandingSequence4 with abstract method __getitem__"
     ]
    }
   ],
   "source": [
    "a4 = ExpandingSequence4()"
   ]
  },
  {
   "cell_type": "markdown",
   "id": "5feb8cae",
   "metadata": {},
   "source": [
    "example) https://keras.io/examples/vision/oxford_pets_image_segmentation/"
   ]
  },
  {
   "cell_type": "markdown",
   "id": "bff9d7dd",
   "metadata": {},
   "source": [
    "pytorch 예시"
   ]
  },
  {
   "cell_type": "code",
   "execution_count": 30,
   "id": "c5ec0b54",
   "metadata": {},
   "outputs": [],
   "source": [
    "from torch.utils.data import Dataset"
   ]
  },
  {
   "cell_type": "code",
   "execution_count": 31,
   "id": "9b061cbb",
   "metadata": {},
   "outputs": [
    {
     "name": "stdout",
     "output_type": "stream",
     "text": [
      "class Dataset(Generic[T_co]):\n",
      "    r\"\"\"An abstract class representing a :class:`Dataset`.\n",
      "\n",
      "    All datasets that represent a map from keys to data samples should subclass\n",
      "    it. All subclasses should overwrite :meth:`__getitem__`, supporting fetching a\n",
      "    data sample for a given key. Subclasses could also optionally overwrite\n",
      "    :meth:`__len__`, which is expected to return the size of the dataset by many\n",
      "    :class:`~torch.utils.data.Sampler` implementations and the default options\n",
      "    of :class:`~torch.utils.data.DataLoader`.\n",
      "\n",
      "    .. note::\n",
      "      :class:`~torch.utils.data.DataLoader` by default constructs a index\n",
      "      sampler that yields integral indices.  To make it work with a map-style\n",
      "      dataset with non-integral indices/keys, a custom sampler must be provided.\n",
      "    \"\"\"\n",
      "\n",
      "    def __getitem__(self, index) -> T_co:\n",
      "        raise NotImplementedError\n",
      "\n",
      "    def __add__(self, other: 'Dataset[T_co]') -> 'ConcatDataset[T_co]':\n",
      "        return ConcatDataset([self, other])\n",
      "\n",
      "    # No `def __len__(self)` default?\n",
      "    # See NOTE [ Lack of Default `__len__` in Python Abstract Base Classes ]\n",
      "    # in pytorch/torch/utils/data/sampler.py\n",
      "\n"
     ]
    }
   ],
   "source": [
    "print(inspect.getsource(Dataset))  # abc : abstract base class의 줄임말 "
   ]
  },
  {
   "cell_type": "code",
   "execution_count": null,
   "id": "22be66ff",
   "metadata": {},
   "outputs": [],
   "source": []
  },
  {
   "cell_type": "code",
   "execution_count": null,
   "id": "3465f6af",
   "metadata": {},
   "outputs": [],
   "source": []
  },
  {
   "cell_type": "markdown",
   "id": "d7081272",
   "metadata": {},
   "source": [
    "### Assert / Raise\n",
    "python : script 형식"
   ]
  },
  {
   "cell_type": "markdown",
   "id": "c77cc997",
   "metadata": {},
   "source": [
    "error가 발생하면 이후 실행 중단\n",
    "\n",
    "- 중단시키면 안 되는 경우\n",
    "- 무조건 중단해야 하는 경우 (assert, raise 사용)\n",
    "\n",
    "assert의 장점\n",
    "- 단순하다\n",
    "- print와 달리 특정 조건에 맞으면 통과시키는 형식이기 때문에 코드가 깔끔하다\n",
    "\n",
    "raise\n",
    ": pytorch에서 자주 사용"
   ]
  },
  {
   "cell_type": "markdown",
   "id": "23c3a21e",
   "metadata": {},
   "source": [
    "#### Assert"
   ]
  },
  {
   "cell_type": "code",
   "execution_count": 33,
   "id": "87f6c8c7",
   "metadata": {},
   "outputs": [],
   "source": [
    "a = 2"
   ]
  },
  {
   "cell_type": "code",
   "execution_count": null,
   "id": "018d4cf7",
   "metadata": {},
   "outputs": [],
   "source": [
    "assert a==1 # a는 1이어야 한다고 강제 "
   ]
  },
  {
   "cell_type": "markdown",
   "id": "0ed3fa75",
   "metadata": {},
   "source": []
  },
  {
   "cell_type": "markdown",
   "id": "97a7356f",
   "metadata": {},
   "source": [
    "#### Raise"
   ]
  },
  {
   "cell_type": "code",
   "execution_count": 34,
   "id": "ece9f975",
   "metadata": {},
   "outputs": [],
   "source": [
    "class ExpandingSequence6:\n",
    "    def __getitem__(self, index):\n",
    "        raise NotImplementedError  # 실행시킬 때 error 발생\n",
    "    def __len__(self):\n",
    "        pass"
   ]
  },
  {
   "cell_type": "code",
   "execution_count": 35,
   "id": "cfb54bb1",
   "metadata": {},
   "outputs": [],
   "source": [
    "class ExpandingSequence7(ExpandingSequence6):\n",
    "    pass"
   ]
  },
  {
   "cell_type": "code",
   "execution_count": 36,
   "id": "c27a1fea",
   "metadata": {},
   "outputs": [],
   "source": [
    "x = ExpandingSequence7()"
   ]
  },
  {
   "cell_type": "code",
   "execution_count": 37,
   "id": "39721763",
   "metadata": {
    "scrolled": false
   },
   "outputs": [
    {
     "ename": "NotImplementedError",
     "evalue": "",
     "output_type": "error",
     "traceback": [
      "\u001b[1;31m---------------------------------------------------------------------------\u001b[0m",
      "\u001b[1;31mNotImplementedError\u001b[0m                       Traceback (most recent call last)",
      "\u001b[1;32m<ipython-input-37-2f755f117ac9>\u001b[0m in \u001b[0;36m<module>\u001b[1;34m\u001b[0m\n\u001b[1;32m----> 1\u001b[1;33m \u001b[0mx\u001b[0m\u001b[1;33m[\u001b[0m\u001b[1;36m0\u001b[0m\u001b[1;33m]\u001b[0m\u001b[1;33m\u001b[0m\u001b[1;33m\u001b[0m\u001b[0m\n\u001b[0m",
      "\u001b[1;32m<ipython-input-34-7006cdca0754>\u001b[0m in \u001b[0;36m__getitem__\u001b[1;34m(self, index)\u001b[0m\n\u001b[0;32m      1\u001b[0m \u001b[1;32mclass\u001b[0m \u001b[0mExpandingSequence6\u001b[0m\u001b[1;33m:\u001b[0m\u001b[1;33m\u001b[0m\u001b[1;33m\u001b[0m\u001b[0m\n\u001b[0;32m      2\u001b[0m     \u001b[1;32mdef\u001b[0m \u001b[0m__getitem__\u001b[0m\u001b[1;33m(\u001b[0m\u001b[0mself\u001b[0m\u001b[1;33m,\u001b[0m \u001b[0mindex\u001b[0m\u001b[1;33m)\u001b[0m\u001b[1;33m:\u001b[0m\u001b[1;33m\u001b[0m\u001b[1;33m\u001b[0m\u001b[0m\n\u001b[1;32m----> 3\u001b[1;33m         \u001b[1;32mraise\u001b[0m \u001b[0mNotImplementedError\u001b[0m\u001b[1;33m\u001b[0m\u001b[1;33m\u001b[0m\u001b[0m\n\u001b[0m\u001b[0;32m      4\u001b[0m     \u001b[1;32mdef\u001b[0m \u001b[0m__len__\u001b[0m\u001b[1;33m(\u001b[0m\u001b[0mself\u001b[0m\u001b[1;33m)\u001b[0m\u001b[1;33m:\u001b[0m\u001b[1;33m\u001b[0m\u001b[1;33m\u001b[0m\u001b[0m\n\u001b[0;32m      5\u001b[0m         \u001b[1;32mpass\u001b[0m\u001b[1;33m\u001b[0m\u001b[1;33m\u001b[0m\u001b[0m\n",
      "\u001b[1;31mNotImplementedError\u001b[0m: "
     ]
    }
   ],
   "source": [
    "x[0]"
   ]
  },
  {
   "cell_type": "markdown",
   "id": "24f77785",
   "metadata": {},
   "source": [
    "1. Sequence : indexing/slicing 가능\n",
    "2. Iterator/Generator : indexing/slicing 불가능, lazy(next)\n",
    "\n",
    "금요일 tensorflow 예시로 1+2의 기법을 배울 예정"
   ]
  },
  {
   "cell_type": "markdown",
   "id": "7a7fb096",
   "metadata": {},
   "source": [
    "#### + Inheritance\n",
    "- 단일 상속(java)\n",
    "- 다중 상속(python) : 복잡.\n",
    "-> 해결책 : mro / super"
   ]
  },
  {
   "cell_type": "code",
   "execution_count": 38,
   "id": "f3d7c5a5",
   "metadata": {},
   "outputs": [
    {
     "data": {
      "text/plain": [
       "[keras.engine.sequential.Sequential,\n",
       " keras.engine.functional.Functional,\n",
       " keras.engine.training.Model,\n",
       " keras.engine.base_layer.Layer,\n",
       " tensorflow.python.module.module.Module,\n",
       " tensorflow.python.training.tracking.tracking.AutoTrackable,\n",
       " tensorflow.python.training.tracking.base.Trackable,\n",
       " keras.utils.version_utils.LayerVersionSelector,\n",
       " keras.utils.version_utils.ModelVersionSelector,\n",
       " object]"
      ]
     },
     "execution_count": 38,
     "metadata": {},
     "output_type": "execute_result"
    }
   ],
   "source": [
    "tf.keras.models.Sequential.mro()"
   ]
  },
  {
   "cell_type": "code",
   "execution_count": 39,
   "id": "3e9f2375",
   "metadata": {},
   "outputs": [],
   "source": [
    "import tensorflow as tf"
   ]
  },
  {
   "cell_type": "markdown",
   "id": "feb3f681",
   "metadata": {},
   "source": [
    "#### High-order function\n",
    ": ㅁ"
   ]
  },
  {
   "cell_type": "code",
   "execution_count": null,
   "id": "7e272603",
   "metadata": {},
   "outputs": [],
   "source": []
  },
  {
   "cell_type": "code",
   "execution_count": null,
   "id": "fbbaff7d",
   "metadata": {},
   "outputs": [],
   "source": []
  },
  {
   "cell_type": "markdown",
   "id": "a3a97b3c",
   "metadata": {},
   "source": [
    "### Scope ( LEGB rule)"
   ]
  },
  {
   "cell_type": "code",
   "execution_count": 40,
   "id": "888553bf",
   "metadata": {},
   "outputs": [],
   "source": [
    "a = 1"
   ]
  },
  {
   "cell_type": "code",
   "execution_count": 41,
   "id": "9bf16426",
   "metadata": {},
   "outputs": [],
   "source": [
    "def s():\n",
    "    return a"
   ]
  },
  {
   "cell_type": "code",
   "execution_count": 42,
   "id": "f9ccf344",
   "metadata": {},
   "outputs": [
    {
     "data": {
      "text/plain": [
       "1"
      ]
     },
     "execution_count": 42,
     "metadata": {},
     "output_type": "execute_result"
    }
   ],
   "source": [
    "s()"
   ]
  },
  {
   "cell_type": "code",
   "execution_count": 47,
   "id": "de2f3d2a",
   "metadata": {},
   "outputs": [],
   "source": [
    "a = 1 # global\n",
    "def t():\n",
    "    a = 2  # enclosing 겹쳐서 써야 한다.\n",
    "    def y():\n",
    "        a = 3\n",
    "        return a  # local\n",
    "    return y"
   ]
  },
  {
   "cell_type": "code",
   "execution_count": 48,
   "id": "549c358d",
   "metadata": {
    "scrolled": true
   },
   "outputs": [
    {
     "data": {
      "text/plain": [
       "2"
      ]
     },
     "execution_count": 48,
     "metadata": {},
     "output_type": "execute_result"
    }
   ],
   "source": [
    "t()()"
   ]
  },
  {
   "cell_type": "code",
   "execution_count": 53,
   "id": "1c08cd5c",
   "metadata": {},
   "outputs": [],
   "source": [
    "a = 1  # global\n",
    "def t():\n",
    "    def y():\n",
    "        a = a + 1\n",
    "        return a  # local\n",
    "    return y"
   ]
  },
  {
   "cell_type": "code",
   "execution_count": 54,
   "id": "744ca871",
   "metadata": {
    "scrolled": true
   },
   "outputs": [
    {
     "ename": "UnboundLocalError",
     "evalue": "local variable 'a' referenced before assignment",
     "output_type": "error",
     "traceback": [
      "\u001b[1;31m---------------------------------------------------------------------------\u001b[0m",
      "\u001b[1;31mUnboundLocalError\u001b[0m                         Traceback (most recent call last)",
      "\u001b[1;32m<ipython-input-54-18ba9fb2e056>\u001b[0m in \u001b[0;36m<module>\u001b[1;34m\u001b[0m\n\u001b[1;32m----> 1\u001b[1;33m \u001b[0mt\u001b[0m\u001b[1;33m(\u001b[0m\u001b[1;33m)\u001b[0m\u001b[1;33m(\u001b[0m\u001b[1;33m)\u001b[0m\u001b[1;33m\u001b[0m\u001b[1;33m\u001b[0m\u001b[0m\n\u001b[0m",
      "\u001b[1;32m<ipython-input-53-9bf90e93f1d7>\u001b[0m in \u001b[0;36my\u001b[1;34m()\u001b[0m\n\u001b[0;32m      2\u001b[0m \u001b[1;32mdef\u001b[0m \u001b[0mt\u001b[0m\u001b[1;33m(\u001b[0m\u001b[1;33m)\u001b[0m\u001b[1;33m:\u001b[0m\u001b[1;33m\u001b[0m\u001b[1;33m\u001b[0m\u001b[0m\n\u001b[0;32m      3\u001b[0m     \u001b[1;32mdef\u001b[0m \u001b[0my\u001b[0m\u001b[1;33m(\u001b[0m\u001b[1;33m)\u001b[0m\u001b[1;33m:\u001b[0m\u001b[1;33m\u001b[0m\u001b[1;33m\u001b[0m\u001b[0m\n\u001b[1;32m----> 4\u001b[1;33m         \u001b[0ma\u001b[0m \u001b[1;33m=\u001b[0m \u001b[0ma\u001b[0m \u001b[1;33m+\u001b[0m \u001b[1;36m1\u001b[0m\u001b[1;33m\u001b[0m\u001b[1;33m\u001b[0m\u001b[0m\n\u001b[0m\u001b[0;32m      5\u001b[0m         \u001b[1;32mreturn\u001b[0m \u001b[0ma\u001b[0m  \u001b[1;31m# local\u001b[0m\u001b[1;33m\u001b[0m\u001b[1;33m\u001b[0m\u001b[0m\n\u001b[0;32m      6\u001b[0m     \u001b[1;32mreturn\u001b[0m \u001b[0my\u001b[0m\u001b[1;33m\u001b[0m\u001b[1;33m\u001b[0m\u001b[0m\n",
      "\u001b[1;31mUnboundLocalError\u001b[0m: local variable 'a' referenced before assignment"
     ]
    }
   ],
   "source": [
    "t()()  # 오류가 난다.\n",
    "# 왜? 4번째 줄의 우변에서 a가 local a를 갖기 때문. global a를 가져와야 하기 때문에 강제로 binding 시켜 줌"
   ]
  },
  {
   "cell_type": "code",
   "execution_count": 56,
   "id": "fa199fd5",
   "metadata": {},
   "outputs": [],
   "source": [
    "a = 1  # global\n",
    "def t():\n",
    "    def y():\n",
    "        global a\n",
    "        a = a + 1\n",
    "        return a  # local\n",
    "    return y"
   ]
  },
  {
   "cell_type": "code",
   "execution_count": 57,
   "id": "f50ee073",
   "metadata": {},
   "outputs": [
    {
     "data": {
      "text/plain": [
       "2"
      ]
     },
     "execution_count": 57,
     "metadata": {},
     "output_type": "execute_result"
    }
   ],
   "source": [
    "t()()"
   ]
  },
  {
   "cell_type": "code",
   "execution_count": 58,
   "id": "1c64b95d",
   "metadata": {},
   "outputs": [
    {
     "data": {
      "text/plain": [
       "2"
      ]
     },
     "execution_count": 58,
     "metadata": {},
     "output_type": "execute_result"
    }
   ],
   "source": [
    "a  # binding이 되어야 하는데 안 되어 a의 값이 바뀌어버리는 현상 발생"
   ]
  },
  {
   "cell_type": "code",
   "execution_count": 62,
   "id": "a862af2e",
   "metadata": {},
   "outputs": [],
   "source": [
    "# 해결법\n",
    "a = 2  # global\n",
    "def t():\n",
    "    a = 2\n",
    "    def y():\n",
    "        nonlocal a\n",
    "        a = a + 1\n",
    "        return a  # local\n",
    "    return y"
   ]
  },
  {
   "cell_type": "code",
   "execution_count": 63,
   "id": "2c436b96",
   "metadata": {},
   "outputs": [
    {
     "data": {
      "text/plain": [
       "3"
      ]
     },
     "execution_count": 63,
     "metadata": {},
     "output_type": "execute_result"
    }
   ],
   "source": [
    "t()()"
   ]
  },
  {
   "cell_type": "code",
   "execution_count": 64,
   "id": "b029d8a8",
   "metadata": {},
   "outputs": [
    {
     "data": {
      "text/plain": [
       "2"
      ]
     },
     "execution_count": 64,
     "metadata": {},
     "output_type": "execute_result"
    }
   ],
   "source": [
    "a"
   ]
  },
  {
   "cell_type": "code",
   "execution_count": null,
   "id": "cf053d5a",
   "metadata": {},
   "outputs": [],
   "source": []
  },
  {
   "cell_type": "markdown",
   "id": "2b2dc51f",
   "metadata": {},
   "source": [
    "### Decorator\n",
    "\n",
    "Decorator(파이썬 전용 용어) <= function closure (파이썬 전용 용어가 아님.)\n",
    "\n",
    "함수가 들어간 closure를 decorator라고 한다."
   ]
  },
  {
   "cell_type": "code",
   "execution_count": 98,
   "id": "423a6011",
   "metadata": {},
   "outputs": [],
   "source": [
    "from functools import wraps"
   ]
  },
  {
   "cell_type": "code",
   "execution_count": 99,
   "id": "5f4dcdbd",
   "metadata": {},
   "outputs": [],
   "source": [
    "def x(func):\n",
    "    @wraps(func)   # 기능적 변경은 없는데 디버깅 할 때 z 관점에서 이름을 알려준다.\n",
    "                # 사용자에게 굳이 내부적인 구조를 보여주기 싫을 때 사용.\n",
    "    def y():\n",
    "        print('------')\n",
    "        func()\n",
    "        print('-------')\n",
    "        #\n",
    "        return None\n",
    "    return y"
   ]
  },
  {
   "cell_type": "code",
   "execution_count": 100,
   "id": "f8acdf4a",
   "metadata": {},
   "outputs": [],
   "source": [
    "@x\n",
    "def z():\n",
    "    print(1)"
   ]
  },
  {
   "cell_type": "code",
   "execution_count": 101,
   "id": "82b1217a",
   "metadata": {},
   "outputs": [
    {
     "data": {
      "text/plain": [
       "<function __main__.z()>"
      ]
     },
     "execution_count": 101,
     "metadata": {},
     "output_type": "execute_result"
    }
   ],
   "source": [
    "z"
   ]
  },
  {
   "cell_type": "code",
   "execution_count": 76,
   "id": "34dcae73",
   "metadata": {},
   "outputs": [],
   "source": [
    "def zz():\n",
    "    print(1)"
   ]
  },
  {
   "cell_type": "code",
   "execution_count": 77,
   "id": "a8f93dad",
   "metadata": {},
   "outputs": [
    {
     "name": "stdout",
     "output_type": "stream",
     "text": [
      "------\n",
      "1\n",
      "-------\n"
     ]
    }
   ],
   "source": [
    "x(zz)()"
   ]
  },
  {
   "cell_type": "code",
   "execution_count": 79,
   "id": "bd604abc",
   "metadata": {},
   "outputs": [
    {
     "name": "stdout",
     "output_type": "stream",
     "text": [
      "------\n",
      "------\n",
      "1\n",
      "-------\n",
      "-------\n"
     ]
    }
   ],
   "source": [
    "x(z)()  # z()는 이미 x에 들어가 있는 것이기 때문에 두 번 실행되는 것."
   ]
  },
  {
   "cell_type": "code",
   "execution_count": 160,
   "id": "dceee8d0",
   "metadata": {},
   "outputs": [],
   "source": [
    "def x(func):\n",
    "    def y(*args, **kwargs):\n",
    "        print('------')\n",
    "        func(*args, **kwargs)\n",
    "        print('-------')\n",
    "        #\n",
    "        return None\n",
    "    return y"
   ]
  },
  {
   "cell_type": "code",
   "execution_count": 84,
   "id": "8f60442c",
   "metadata": {},
   "outputs": [],
   "source": [
    "\n",
    "\n",
    "@x\n",
    "def z():\n",
    "\n",
    "    print(1)"
   ]
  },
  {
   "cell_type": "code",
   "execution_count": 157,
   "id": "1f3b8a86",
   "metadata": {},
   "outputs": [],
   "source": [
    "# x(kk)()\n",
    "\n",
    "@x\n",
    "def kk(a):\n",
    "    print(a)"
   ]
  },
  {
   "cell_type": "code",
   "execution_count": 158,
   "id": "35a1c1d0",
   "metadata": {
    "scrolled": true
   },
   "outputs": [
    {
     "ename": "TypeError",
     "evalue": "y() takes 0 positional arguments but 1 was given",
     "output_type": "error",
     "traceback": [
      "\u001b[1;31m---------------------------------------------------------------------------\u001b[0m",
      "\u001b[1;31mTypeError\u001b[0m                                 Traceback (most recent call last)",
      "\u001b[1;32m<ipython-input-158-6a1adf505704>\u001b[0m in \u001b[0;36m<module>\u001b[1;34m\u001b[0m\n\u001b[1;32m----> 1\u001b[1;33m \u001b[0mkk\u001b[0m\u001b[1;33m(\u001b[0m\u001b[1;36m3\u001b[0m\u001b[1;33m)\u001b[0m\u001b[1;33m\u001b[0m\u001b[1;33m\u001b[0m\u001b[0m\n\u001b[0m",
      "\u001b[1;31mTypeError\u001b[0m: y() takes 0 positional arguments but 1 was given"
     ]
    }
   ],
   "source": [
    "kk(3)"
   ]
  },
  {
   "cell_type": "code",
   "execution_count": 161,
   "id": "7c7cd6d6",
   "metadata": {},
   "outputs": [
    {
     "ename": "NameError",
     "evalue": "name 'y' is not defined",
     "output_type": "error",
     "traceback": [
      "\u001b[1;31m---------------------------------------------------------------------------\u001b[0m",
      "\u001b[1;31mNameError\u001b[0m                                 Traceback (most recent call last)",
      "\u001b[1;32m<ipython-input-161-0fec8c16169e>\u001b[0m in \u001b[0;36m<module>\u001b[1;34m\u001b[0m\n\u001b[0;32m      1\u001b[0m \u001b[1;31m# 스택 영역 이해하기 위한 심화\u001b[0m\u001b[1;33m\u001b[0m\u001b[1;33m\u001b[0m\u001b[1;33m\u001b[0m\u001b[0m\n\u001b[1;32m----> 2\u001b[1;33m \u001b[1;33m@\u001b[0m\u001b[0my\u001b[0m\u001b[1;33m\u001b[0m\u001b[1;33m\u001b[0m\u001b[0m\n\u001b[0m\u001b[0;32m      3\u001b[0m \u001b[1;33m@\u001b[0m\u001b[0mx\u001b[0m\u001b[1;33m\u001b[0m\u001b[1;33m\u001b[0m\u001b[0m\n\u001b[0;32m      4\u001b[0m \u001b[1;32mdef\u001b[0m \u001b[0mkk\u001b[0m\u001b[1;33m(\u001b[0m\u001b[0ma\u001b[0m\u001b[1;33m)\u001b[0m\u001b[1;33m:\u001b[0m\u001b[1;33m\u001b[0m\u001b[1;33m\u001b[0m\u001b[0m\n\u001b[0;32m      5\u001b[0m     \u001b[0mprint\u001b[0m\u001b[1;33m(\u001b[0m\u001b[0ma\u001b[0m\u001b[1;33m)\u001b[0m\u001b[1;33m\u001b[0m\u001b[1;33m\u001b[0m\u001b[0m\n",
      "\u001b[1;31mNameError\u001b[0m: name 'y' is not defined"
     ]
    }
   ],
   "source": [
    "# 스택 영역 이해하기 위한 심화\n",
    "@y\n",
    "@x\n",
    "def kk(a):\n",
    "    print(a)"
   ]
  },
  {
   "cell_type": "code",
   "execution_count": null,
   "id": "dea7c5e7",
   "metadata": {},
   "outputs": [],
   "source": [
    "kk = y(x(kk)) # 같은 의미"
   ]
  },
  {
   "cell_type": "code",
   "execution_count": 108,
   "id": "5d723ec5",
   "metadata": {},
   "outputs": [],
   "source": [
    "def zz(n=1):  \n",
    "    def xx(func):\n",
    "        @wraps(func)\n",
    "        def yy(*args, **kwargs):\n",
    "            print('-------')\n",
    "            func(*args, **kwargs)\n",
    "            print(n)\n",
    "            print('--------')\n",
    "            return None\n",
    "        return yy\n",
    "    return xx"
   ]
  },
  {
   "cell_type": "code",
   "execution_count": 124,
   "id": "c99ab580",
   "metadata": {},
   "outputs": [],
   "source": [
    "@zz(5)\n",
    "def z():\n",
    "    return None"
   ]
  },
  {
   "cell_type": "code",
   "execution_count": 125,
   "id": "c965932a",
   "metadata": {},
   "outputs": [
    {
     "name": "stdout",
     "output_type": "stream",
     "text": [
      "-------\n",
      "5\n",
      "--------\n"
     ]
    }
   ],
   "source": [
    "z()"
   ]
  },
  {
   "cell_type": "code",
   "execution_count": 126,
   "id": "f2e6bda3",
   "metadata": {},
   "outputs": [],
   "source": [
    "@zz(5)\n",
    "def z():\n",
    "    print(1)"
   ]
  },
  {
   "cell_type": "code",
   "execution_count": 127,
   "id": "117d9728",
   "metadata": {},
   "outputs": [
    {
     "name": "stdout",
     "output_type": "stream",
     "text": [
      "-------\n",
      "1\n",
      "5\n",
      "--------\n"
     ]
    }
   ],
   "source": [
    "z()"
   ]
  },
  {
   "cell_type": "code",
   "execution_count": 115,
   "id": "4a0a956d",
   "metadata": {},
   "outputs": [],
   "source": [
    "@zz()   # keyword 지정해두지 않으면 오류 발생\n",
    "def z():\n",
    "    print(1)"
   ]
  },
  {
   "cell_type": "code",
   "execution_count": 116,
   "id": "3b3d2c35",
   "metadata": {},
   "outputs": [
    {
     "name": "stdout",
     "output_type": "stream",
     "text": [
      "-------\n",
      "1\n",
      "1\n",
      "--------\n"
     ]
    }
   ],
   "source": [
    "z()"
   ]
  },
  {
   "cell_type": "code",
   "execution_count": 130,
   "id": "f09fdf2e",
   "metadata": {},
   "outputs": [],
   "source": [
    "@zz(n=2)   # 괄호를 안 붙이면 왜 안 되지?\n",
    "def z():\n",
    "    print(1)"
   ]
  },
  {
   "cell_type": "code",
   "execution_count": null,
   "id": "49e4d759",
   "metadata": {},
   "outputs": [],
   "source": [
    "def xx(func=None, n=1):\n",
    "        @wraps(func)\n",
    "        def yy(*args, **kwargs):\n",
    "            print('-------')\n",
    "            func(*args, **kwargs)\n",
    "            print(n)\n",
    "            print('--------')\n",
    "            return None\n",
    "        return yy"
   ]
  },
  {
   "cell_type": "markdown",
   "id": "80c14af7",
   "metadata": {},
   "source": [
    "### Partial technique\n",
    ": 남들이 만든 코드를 이용하는 기술\n",
    "\n",
    "모델의 default 값 변경시키는 데에 활용\n",
    "tf.keras.loss에 가장 많이 활용\n",
    "\n",
    "**자기 자신을 이용한 partial을 사용하면 괄호를 생략해도 되도록. 오류 줄이는 효과**"
   ]
  },
  {
   "cell_type": "code",
   "execution_count": 132,
   "id": "c5d21347",
   "metadata": {},
   "outputs": [],
   "source": [
    "from functools import partial"
   ]
  },
  {
   "cell_type": "code",
   "execution_count": 142,
   "id": "35f8da88",
   "metadata": {},
   "outputs": [],
   "source": [
    "## 책에 없음\n",
    "\n",
    "def xx(func=None, n=1):\n",
    "        if func == None:\n",
    "            return partial(xx, n=n)  # 자기 자신을 이용한 partial을 사용하면 괄호를 생략해도 되도록\n",
    "        @wraps(func)\n",
    "        def yy(*args, **kwargs):\n",
    "            print('-------')\n",
    "            func(*args, **kwargs)\n",
    "            print(n)\n",
    "            print('--------')\n",
    "            return None\n",
    "        return yy"
   ]
  },
  {
   "cell_type": "code",
   "execution_count": 143,
   "id": "fc909bb4",
   "metadata": {},
   "outputs": [],
   "source": [
    "@xx(n=2)   # 괄호를 안 붙이면 왜 안 되지?\n",
    "def z():\n",
    "    print(1)"
   ]
  },
  {
   "cell_type": "code",
   "execution_count": 144,
   "id": "bc54de20",
   "metadata": {
    "scrolled": true
   },
   "outputs": [
    {
     "name": "stdout",
     "output_type": "stream",
     "text": [
      "-------\n",
      "1\n",
      "2\n",
      "--------\n"
     ]
    }
   ],
   "source": [
    "z()  # 함수를 호출. 데코레이터에 들어가 동작"
   ]
  },
  {
   "cell_type": "code",
   "execution_count": null,
   "id": "73876148",
   "metadata": {},
   "outputs": [],
   "source": [
    "xx() # 데코레이터 호출"
   ]
  },
  {
   "cell_type": "code",
   "execution_count": 146,
   "id": "af9d1eae",
   "metadata": {},
   "outputs": [],
   "source": [
    "@xx\n",
    "def z():\n",
    "    print(1)"
   ]
  },
  {
   "cell_type": "code",
   "execution_count": 147,
   "id": "1593e3cc",
   "metadata": {},
   "outputs": [
    {
     "name": "stdout",
     "output_type": "stream",
     "text": [
      "-------\n",
      "1\n",
      "1\n",
      "--------\n"
     ]
    }
   ],
   "source": [
    "z()"
   ]
  },
  {
   "cell_type": "code",
   "execution_count": 148,
   "id": "1e086633",
   "metadata": {},
   "outputs": [],
   "source": [
    "def t(x=1):\n",
    "    print(x)"
   ]
  },
  {
   "cell_type": "code",
   "execution_count": 149,
   "id": "c3242853",
   "metadata": {},
   "outputs": [
    {
     "data": {
      "text/plain": [
       "functools.partial(<function t at 0x000001FAF68FA550>, x=2)"
      ]
     },
     "execution_count": 149,
     "metadata": {},
     "output_type": "execute_result"
    }
   ],
   "source": [
    "partial(t, x=2)"
   ]
  },
  {
   "cell_type": "code",
   "execution_count": null,
   "id": "5c9df738",
   "metadata": {},
   "outputs": [],
   "source": []
  },
  {
   "cell_type": "code",
   "execution_count": 152,
   "id": "738d8f6f",
   "metadata": {},
   "outputs": [],
   "source": [
    "def decorator1(fn):\n",
    "    print(\"decorator1\")\n",
    "    def inner1(*args, **kwargs):\n",
    "        print(\"inner1\")\n",
    "        return fn(*args, **kwargs)\n",
    "    return inner1\n",
    "\n",
    "def decorator2(fn):\n",
    "    print(\"decorator2\")\n",
    "    def inner2(*args, **kwargs):\n",
    "        print(\"inner2\")\n",
    "        return fn(*args, **kwargs)\n",
    "    return inner2"
   ]
  },
  {
   "cell_type": "code",
   "execution_count": 154,
   "id": "0e40755e",
   "metadata": {},
   "outputs": [
    {
     "name": "stdout",
     "output_type": "stream",
     "text": [
      "decorator2\n",
      "decorator1\n"
     ]
    }
   ],
   "source": [
    "# decorator 만들면 두 번째부터는 캐시로 바뀌기 때문에 메모리가 힙 영역으로 올라가서 출력이 되지 않는다.\n",
    "@decorator1\n",
    "@decorator2\n",
    "def foo():\n",
    " print(\"foo\") \n"
   ]
  },
  {
   "cell_type": "code",
   "execution_count": 156,
   "id": "738ffee0",
   "metadata": {},
   "outputs": [
    {
     "name": "stdout",
     "output_type": "stream",
     "text": [
      "inner1\n",
      "inner2\n",
      "foo\n"
     ]
    }
   ],
   "source": [
    "foo()\n",
    "# 스택 영역에 들어간 순서의 역으로 실행되는 형식이기 때문에 2, 1 순으로 쌓여있으면 1, 2 순으로 나온다."
   ]
  },
  {
   "cell_type": "markdown",
   "id": "5560e75c",
   "metadata": {},
   "source": [
    "### Delegate(위임)\n",
    ": instance variable에 존재하지 않으면 class variable을 이용해 값을 출력하는 기법. 상속이 파이썬에서는 위임으로 작용한다.\n",
    "\n",
    "object c.f) C++, java\n",
    "\n",
    "객체지향의 기본\n",
    ": 클래스를 사용하는 것이 아니라 클래스에서 **생성**된 객체(인스턴스)를 사용\n",
    "\n",
    "파이썬은 클래스의 클래스 (메타클래스)가 존재하기 때문에 클래스가 메타클래스 입장에서 객체(인스턴스)\n",
    "(그렇기 때문에 클래스를 인스턴스로서 클래스를 사용할 수 있는 경우가 있음.)\n",
    "https://docs.python.org/3/glossary.html\n",
    "\n",
    "PEP 8에서 첫 번째 인스턴스에는 self, 클래스 인스턴스에는 cls 적기를 권장"
   ]
  },
  {
   "cell_type": "code",
   "execution_count": 12,
   "id": "55904bbe",
   "metadata": {},
   "outputs": [],
   "source": [
    "class A:\n",
    "    a = 1  # class variable = attribute\n",
    "    def __init__(self, x):  # instance method. PEP 8에서 첫 번째 self로 적으라고 권장.\n",
    "        self.x = x  # instance variable"
   ]
  },
  {
   "cell_type": "markdown",
   "id": "7bf165c4",
   "metadata": {},
   "source": [
    "callable한 데이터\n",
    "1. function\n",
    "2. class\n",
    "3. class __ call __"
   ]
  },
  {
   "cell_type": "code",
   "execution_count": 13,
   "id": "58bdf5a8",
   "metadata": {},
   "outputs": [
    {
     "data": {
      "text/plain": [
       "1"
      ]
     },
     "execution_count": 13,
     "metadata": {},
     "output_type": "execute_result"
    }
   ],
   "source": [
    "A.a"
   ]
  },
  {
   "cell_type": "code",
   "execution_count": 14,
   "id": "d6ac1b92",
   "metadata": {},
   "outputs": [],
   "source": [
    "a = A(3)"
   ]
  },
  {
   "cell_type": "code",
   "execution_count": 15,
   "id": "ab5a41b7",
   "metadata": {},
   "outputs": [
    {
     "data": {
      "text/plain": [
       "3"
      ]
     },
     "execution_count": 15,
     "metadata": {},
     "output_type": "execute_result"
    }
   ],
   "source": [
    "a.x"
   ]
  },
  {
   "cell_type": "code",
   "execution_count": 16,
   "id": "6b0f7db2",
   "metadata": {},
   "outputs": [
    {
     "data": {
      "text/plain": [
       "{'x': 3}"
      ]
     },
     "execution_count": 16,
     "metadata": {},
     "output_type": "execute_result"
    }
   ],
   "source": [
    "vars(a)  # 객체의 딕셔너리 속성 반환해주는 함수"
   ]
  },
  {
   "cell_type": "code",
   "execution_count": 17,
   "id": "5fcc3efd",
   "metadata": {},
   "outputs": [
    {
     "data": {
      "text/plain": [
       "{'x': 3}"
      ]
     },
     "execution_count": 17,
     "metadata": {},
     "output_type": "execute_result"
    }
   ],
   "source": [
    "a.__dict__"
   ]
  },
  {
   "cell_type": "code",
   "execution_count": 163,
   "id": "638ab0c5",
   "metadata": {},
   "outputs": [
    {
     "data": {
      "text/plain": [
       "['__class__',\n",
       " '__delattr__',\n",
       " '__dict__',\n",
       " '__dir__',\n",
       " '__doc__',\n",
       " '__eq__',\n",
       " '__format__',\n",
       " '__ge__',\n",
       " '__getattribute__',\n",
       " '__gt__',\n",
       " '__hash__',\n",
       " '__init__',\n",
       " '__init_subclass__',\n",
       " '__le__',\n",
       " '__lt__',\n",
       " '__module__',\n",
       " '__ne__',\n",
       " '__new__',\n",
       " '__reduce__',\n",
       " '__reduce_ex__',\n",
       " '__repr__',\n",
       " '__setattr__',\n",
       " '__sizeof__',\n",
       " '__str__',\n",
       " '__subclasshook__',\n",
       " '__weakref__',\n",
       " 'a']"
      ]
     },
     "execution_count": 163,
     "metadata": {},
     "output_type": "execute_result"
    }
   ],
   "source": [
    "dir(A)"
   ]
  },
  {
   "cell_type": "code",
   "execution_count": null,
   "id": "665ea96e",
   "metadata": {},
   "outputs": [],
   "source": [
    "a = int(1)  # 기본 방식"
   ]
  },
  {
   "cell_type": "code",
   "execution_count": null,
   "id": "6705cd2f",
   "metadata": {},
   "outputs": [],
   "source": [
    "a      # 리터럴 방식"
   ]
  },
  {
   "cell_type": "code",
   "execution_count": 7,
   "id": "14d45a04",
   "metadata": {},
   "outputs": [],
   "source": [
    "class B:\n",
    "    def __new__(cls):  # 객체(인스턴스) 생성\n",
    "        print('new')\n",
    "        return object.__new__(cls)  \n",
    "    def __init__(self):   # 객체(인스턴스) 초기화. 생성하는 것으로 배웠겠지만 아니다.\n",
    "        print('init')\n",
    "        # return 값이 있으면 안 된다. return None으로 초기화되어 있으므로 적지 않으면 된다."
   ]
  },
  {
   "cell_type": "code",
   "execution_count": 21,
   "id": "ff63eeea",
   "metadata": {
    "scrolled": true
   },
   "outputs": [
    {
     "name": "stdout",
     "output_type": "stream",
     "text": [
      "new\n",
      "init\n"
     ]
    }
   ],
   "source": [
    "b = B()"
   ]
  },
  {
   "cell_type": "code",
   "execution_count": 5,
   "id": "eeedb38d",
   "metadata": {},
   "outputs": [],
   "source": [
    "a = A()"
   ]
  },
  {
   "cell_type": "code",
   "execution_count": 6,
   "id": "06c39591",
   "metadata": {},
   "outputs": [],
   "source": [
    "A.__init__(a)  # 같은 방법"
   ]
  },
  {
   "cell_type": "code",
   "execution_count": 19,
   "id": "c6927707",
   "metadata": {},
   "outputs": [],
   "source": [
    "a.a = 7"
   ]
  },
  {
   "cell_type": "code",
   "execution_count": 28,
   "id": "763c7206",
   "metadata": {},
   "outputs": [],
   "source": [
    "b = A(3)"
   ]
  },
  {
   "cell_type": "code",
   "execution_count": 29,
   "id": "ee80011a",
   "metadata": {},
   "outputs": [],
   "source": [
    "b.b = 8"
   ]
  },
  {
   "cell_type": "code",
   "execution_count": 30,
   "id": "7c1556a9",
   "metadata": {},
   "outputs": [
    {
     "data": {
      "text/plain": [
       "{'x': 3, 'b': 8}"
      ]
     },
     "execution_count": 30,
     "metadata": {},
     "output_type": "execute_result"
    }
   ],
   "source": [
    "vars(b)"
   ]
  },
  {
   "cell_type": "code",
   "execution_count": 32,
   "id": "a4c7c9e1",
   "metadata": {},
   "outputs": [
    {
     "data": {
      "text/plain": [
       "1"
      ]
     },
     "execution_count": 32,
     "metadata": {},
     "output_type": "execute_result"
    }
   ],
   "source": [
    "b.a  # delegation 원리. 인스턴스 변수가 존재하지 않을 때 클래스 변수에서 뽑아오는 것."
   ]
  },
  {
   "cell_type": "code",
   "execution_count": null,
   "id": "7d82e6ba",
   "metadata": {},
   "outputs": [],
   "source": []
  },
  {
   "cell_type": "code",
   "execution_count": null,
   "id": "04207d6b",
   "metadata": {},
   "outputs": [],
   "source": []
  },
  {
   "cell_type": "markdown",
   "id": "761bf51f",
   "metadata": {},
   "source": [
    "## 6/30(목)"
   ]
  },
  {
   "cell_type": "markdown",
   "id": "35c90b2e",
   "metadata": {},
   "source": [
    "delegation review\n",
    "\n",
    "#상속 관계를 맺으면 내가 할 수 없는 것을 부모한테 위임\n",
    "\n",
    "(다른 프로그래민 언어에서는 상속 시 부모의 내용을 위임하지 않고 복사하는 언어도 있음. 다중 상속 지양하라는 이야기도 있음.)\n",
    "\n",
    "다중 상속 : 부모가 여럿\n",
    "\n",
    "상속 : 부모의 인스턴스의 행동을 물려 받는 것.\n",
    "\n",
    "메타클래스 : 부모의 클래스를 물려받는 것.\n",
    "\n",
    "mro(method resolution order) : 위임받은 순서를 알 수 있어 뿌리를 알 수 있다."
   ]
  },
  {
   "cell_type": "code",
   "execution_count": 5,
   "id": "d4e315c3",
   "metadata": {},
   "outputs": [],
   "source": [
    "class A:     # 기본꼴 : class A(object, metaclass=type) 부모 : object. 상속하는 class : type\n",
    "    a = 1\n",
    "    def a(self):\n",
    "        print('a')\n",
    "        \n",
    "        \n",
    "        "
   ]
  },
  {
   "cell_type": "code",
   "execution_count": 6,
   "id": "d50f810e",
   "metadata": {},
   "outputs": [],
   "source": [
    "class B(A):\n",
    "    pass"
   ]
  },
  {
   "cell_type": "code",
   "execution_count": 11,
   "id": "0f11a667",
   "metadata": {},
   "outputs": [
    {
     "data": {
      "text/plain": [
       "2"
      ]
     },
     "execution_count": 11,
     "metadata": {},
     "output_type": "execute_result"
    }
   ],
   "source": [
    "B.a     # 재할당 했으므로 "
   ]
  },
  {
   "cell_type": "code",
   "execution_count": 9,
   "id": "0a989276",
   "metadata": {},
   "outputs": [],
   "source": [
    "class B:\n",
    "    a = 2"
   ]
  },
  {
   "cell_type": "code",
   "execution_count": 10,
   "id": "ff244742",
   "metadata": {},
   "outputs": [],
   "source": [
    "class C(A,B):\n",
    "    pass"
   ]
  },
  {
   "cell_type": "markdown",
   "id": "b1a7ab99",
   "metadata": {},
   "source": [
    "#### mro 정말 중요"
   ]
  },
  {
   "cell_type": "code",
   "execution_count": 12,
   "id": "b3d96b78",
   "metadata": {},
   "outputs": [
    {
     "data": {
      "text/plain": [
       "[__main__.C, __main__.A, __main__.B, object]"
      ]
     },
     "execution_count": 12,
     "metadata": {},
     "output_type": "execute_result"
    }
   ],
   "source": [
    "C.mro()  # method resolution order 어떤 구조, 어떤 순서로 되어 있는지 알 수 있다."
   ]
  },
  {
   "cell_type": "code",
   "execution_count": 23,
   "id": "0ef21b58",
   "metadata": {},
   "outputs": [
    {
     "data": {
      "text/plain": [
       "(__main__.C, __main__.A, __main__.B, object)"
      ]
     },
     "execution_count": 23,
     "metadata": {},
     "output_type": "execute_result"
    }
   ],
   "source": [
    "C.__mro__"
   ]
  },
  {
   "cell_type": "code",
   "execution_count": 25,
   "id": "f11b12d3",
   "metadata": {},
   "outputs": [
    {
     "data": {
      "text/plain": [
       "['__abstractmethods__',\n",
       " '__base__',\n",
       " '__bases__',\n",
       " '__basicsize__',\n",
       " '__call__',\n",
       " '__class__',\n",
       " '__delattr__',\n",
       " '__dict__',\n",
       " '__dictoffset__',\n",
       " '__dir__',\n",
       " '__doc__',\n",
       " '__eq__',\n",
       " '__flags__',\n",
       " '__format__',\n",
       " '__ge__',\n",
       " '__getattribute__',\n",
       " '__gt__',\n",
       " '__hash__',\n",
       " '__init__',\n",
       " '__init_subclass__',\n",
       " '__instancecheck__',\n",
       " '__itemsize__',\n",
       " '__le__',\n",
       " '__lt__',\n",
       " '__module__',\n",
       " '__mro__',\n",
       " '__name__',\n",
       " '__ne__',\n",
       " '__new__',\n",
       " '__prepare__',\n",
       " '__qualname__',\n",
       " '__reduce__',\n",
       " '__reduce_ex__',\n",
       " '__repr__',\n",
       " '__setattr__',\n",
       " '__sizeof__',\n",
       " '__str__',\n",
       " '__subclasscheck__',\n",
       " '__subclasses__',\n",
       " '__subclasshook__',\n",
       " '__text_signature__',\n",
       " '__weakrefoffset__',\n",
       " 'mro']"
      ]
     },
     "execution_count": 25,
     "metadata": {},
     "output_type": "execute_result"
    }
   ],
   "source": [
    "dir(C.__class__)  # 메타클래스의 mro도 볼 수 있다."
   ]
  },
  {
   "cell_type": "code",
   "execution_count": 24,
   "id": "c67bb7c1",
   "metadata": {},
   "outputs": [
    {
     "data": {
      "text/plain": [
       "['__abstractmethods__',\n",
       " '__base__',\n",
       " '__bases__',\n",
       " '__basicsize__',\n",
       " '__call__',\n",
       " '__class__',\n",
       " '__delattr__',\n",
       " '__dict__',\n",
       " '__dictoffset__',\n",
       " '__dir__',\n",
       " '__doc__',\n",
       " '__eq__',\n",
       " '__flags__',\n",
       " '__format__',\n",
       " '__ge__',\n",
       " '__getattribute__',\n",
       " '__gt__',\n",
       " '__hash__',\n",
       " '__init__',\n",
       " '__init_subclass__',\n",
       " '__instancecheck__',\n",
       " '__itemsize__',\n",
       " '__le__',\n",
       " '__lt__',\n",
       " '__module__',\n",
       " '__mro__',\n",
       " '__name__',\n",
       " '__ne__',\n",
       " '__new__',\n",
       " '__prepare__',\n",
       " '__qualname__',\n",
       " '__reduce__',\n",
       " '__reduce_ex__',\n",
       " '__repr__',\n",
       " '__setattr__',\n",
       " '__sizeof__',\n",
       " '__str__',\n",
       " '__subclasscheck__',\n",
       " '__subclasses__',\n",
       " '__subclasshook__',\n",
       " '__text_signature__',\n",
       " '__weakrefoffset__',\n",
       " 'mro']"
      ]
     },
     "execution_count": 24,
     "metadata": {},
     "output_type": "execute_result"
    }
   ],
   "source": [
    "dir(C)"
   ]
  },
  {
   "cell_type": "code",
   "execution_count": 36,
   "id": "a6902499",
   "metadata": {},
   "outputs": [
    {
     "data": {
      "text/plain": [
       "['__abstractmethods__',\n",
       " '__base__',\n",
       " '__bases__',\n",
       " '__basicsize__',\n",
       " '__call__',\n",
       " '__class__',\n",
       " '__delattr__',\n",
       " '__dict__',\n",
       " '__dictoffset__',\n",
       " '__dir__',\n",
       " '__doc__',\n",
       " '__eq__',\n",
       " '__flags__',\n",
       " '__format__',\n",
       " '__ge__',\n",
       " '__getattribute__',\n",
       " '__gt__',\n",
       " '__hash__',\n",
       " '__init__',\n",
       " '__init_subclass__',\n",
       " '__instancecheck__',\n",
       " '__itemsize__',\n",
       " '__le__',\n",
       " '__lt__',\n",
       " '__module__',\n",
       " '__mro__',\n",
       " '__name__',\n",
       " '__ne__',\n",
       " '__new__',\n",
       " '__prepare__',\n",
       " '__qualname__',\n",
       " '__reduce__',\n",
       " '__reduce_ex__',\n",
       " '__repr__',\n",
       " '__setattr__',\n",
       " '__sizeof__',\n",
       " '__str__',\n",
       " '__subclasscheck__',\n",
       " '__subclasses__',\n",
       " '__subclasshook__',\n",
       " '__text_signature__',\n",
       " '__weakrefoffset__',\n",
       " 'mro']"
      ]
     },
     "execution_count": 36,
     "metadata": {},
     "output_type": "execute_result"
    }
   ],
   "source": [
    "dir(type(C))  # C.__class__ 또는 type(C)를 통해 메타클래스를 확인할 수 있는데, 메타클래스에 dir()를 취해보니 mro가 있다."
   ]
  },
  {
   "cell_type": "code",
   "execution_count": 28,
   "id": "d1e65701",
   "metadata": {},
   "outputs": [],
   "source": [
    "a = int(1)"
   ]
  },
  {
   "cell_type": "code",
   "execution_count": 29,
   "id": "8b0d8b25",
   "metadata": {},
   "outputs": [
    {
     "data": {
      "text/plain": [
       "['__abs__',\n",
       " '__add__',\n",
       " '__and__',\n",
       " '__bool__',\n",
       " '__ceil__',\n",
       " '__class__',\n",
       " '__delattr__',\n",
       " '__dir__',\n",
       " '__divmod__',\n",
       " '__doc__',\n",
       " '__eq__',\n",
       " '__float__',\n",
       " '__floor__',\n",
       " '__floordiv__',\n",
       " '__format__',\n",
       " '__ge__',\n",
       " '__getattribute__',\n",
       " '__getnewargs__',\n",
       " '__gt__',\n",
       " '__hash__',\n",
       " '__index__',\n",
       " '__init__',\n",
       " '__init_subclass__',\n",
       " '__int__',\n",
       " '__invert__',\n",
       " '__le__',\n",
       " '__lshift__',\n",
       " '__lt__',\n",
       " '__mod__',\n",
       " '__mul__',\n",
       " '__ne__',\n",
       " '__neg__',\n",
       " '__new__',\n",
       " '__or__',\n",
       " '__pos__',\n",
       " '__pow__',\n",
       " '__radd__',\n",
       " '__rand__',\n",
       " '__rdivmod__',\n",
       " '__reduce__',\n",
       " '__reduce_ex__',\n",
       " '__repr__',\n",
       " '__rfloordiv__',\n",
       " '__rlshift__',\n",
       " '__rmod__',\n",
       " '__rmul__',\n",
       " '__ror__',\n",
       " '__round__',\n",
       " '__rpow__',\n",
       " '__rrshift__',\n",
       " '__rshift__',\n",
       " '__rsub__',\n",
       " '__rtruediv__',\n",
       " '__rxor__',\n",
       " '__setattr__',\n",
       " '__sizeof__',\n",
       " '__str__',\n",
       " '__sub__',\n",
       " '__subclasshook__',\n",
       " '__truediv__',\n",
       " '__trunc__',\n",
       " '__xor__',\n",
       " 'as_integer_ratio',\n",
       " 'bit_length',\n",
       " 'conjugate',\n",
       " 'denominator',\n",
       " 'from_bytes',\n",
       " 'imag',\n",
       " 'numerator',\n",
       " 'real',\n",
       " 'to_bytes']"
      ]
     },
     "execution_count": 29,
     "metadata": {},
     "output_type": "execute_result"
    }
   ],
   "source": [
    "dir(a)"
   ]
  },
  {
   "cell_type": "code",
   "execution_count": 30,
   "id": "c2d4e8b8",
   "metadata": {},
   "outputs": [
    {
     "data": {
      "text/plain": [
       "1431543900464"
      ]
     },
     "execution_count": 30,
     "metadata": {},
     "output_type": "execute_result"
    }
   ],
   "source": [
    "id(a)"
   ]
  },
  {
   "cell_type": "code",
   "execution_count": 31,
   "id": "92890a5b",
   "metadata": {},
   "outputs": [],
   "source": [
    "c = a.__class__(4)"
   ]
  },
  {
   "cell_type": "code",
   "execution_count": 34,
   "id": "0dee5b6f",
   "metadata": {},
   "outputs": [
    {
     "data": {
      "text/plain": [
       "int"
      ]
     },
     "execution_count": 34,
     "metadata": {},
     "output_type": "execute_result"
    }
   ],
   "source": [
    "a.__class__"
   ]
  },
  {
   "cell_type": "code",
   "execution_count": 18,
   "id": "80ca3b42",
   "metadata": {},
   "outputs": [
    {
     "data": {
      "text/plain": [
       "int"
      ]
     },
     "execution_count": 18,
     "metadata": {},
     "output_type": "execute_result"
    }
   ],
   "source": [
    "type(a)  # type : instance를 class로"
   ]
  },
  {
   "cell_type": "code",
   "execution_count": 20,
   "id": "f26f0db2",
   "metadata": {},
   "outputs": [],
   "source": [
    "b = type(a)(3)"
   ]
  },
  {
   "cell_type": "code",
   "execution_count": 21,
   "id": "1ddb57d0",
   "metadata": {},
   "outputs": [
    {
     "data": {
      "text/plain": [
       "int"
      ]
     },
     "execution_count": 21,
     "metadata": {},
     "output_type": "execute_result"
    }
   ],
   "source": [
    "type(b)"
   ]
  },
  {
   "cell_type": "code",
   "execution_count": 22,
   "id": "532b4c13",
   "metadata": {},
   "outputs": [
    {
     "data": {
      "text/plain": [
       "type"
      ]
     },
     "execution_count": 22,
     "metadata": {},
     "output_type": "execute_result"
    }
   ],
   "source": [
    "type(int)  # class를 type > type : metaclass"
   ]
  },
  {
   "cell_type": "code",
   "execution_count": 35,
   "id": "f1e85b33",
   "metadata": {},
   "outputs": [
    {
     "data": {
      "text/plain": [
       "type"
      ]
     },
     "execution_count": 35,
     "metadata": {},
     "output_type": "execute_result"
    }
   ],
   "source": [
    "type(type)  # 자기 순환"
   ]
  },
  {
   "cell_type": "code",
   "execution_count": 19,
   "id": "1b3a8dc9",
   "metadata": {},
   "outputs": [],
   "source": [
    "# class를 만든다는 것 : 새로운 종류의 data type을 만든다는 것"
   ]
  },
  {
   "cell_type": "code",
   "execution_count": null,
   "id": "7b1d2a9f",
   "metadata": {},
   "outputs": [],
   "source": []
  },
  {
   "cell_type": "code",
   "execution_count": 41,
   "id": "28bad57f",
   "metadata": {},
   "outputs": [],
   "source": [
    "class A:\n",
    "    pass\n",
    "\n",
    "class B(A):\n",
    "    pass\n",
    "\n",
    "class C(A):\n",
    "    pass\n",
    "\n",
    "class D(C,B):\n",
    "    pass\n",
    "\n",
    "# 엄마랑 할아버지, 아빠랑 할머니 이렇게 부모가 될 수는 없다."
   ]
  },
  {
   "cell_type": "code",
   "execution_count": 42,
   "id": "7c8e9234",
   "metadata": {},
   "outputs": [
    {
     "data": {
      "text/plain": [
       "[__main__.D, __main__.C, __main__.B, __main__.A, object]"
      ]
     },
     "execution_count": 42,
     "metadata": {},
     "output_type": "execute_result"
    }
   ],
   "source": [
    "D.mro()"
   ]
  },
  {
   "cell_type": "code",
   "execution_count": null,
   "id": "ddbe0768",
   "metadata": {},
   "outputs": [],
   "source": []
  },
  {
   "cell_type": "code",
   "execution_count": 51,
   "id": "340fe91c",
   "metadata": {},
   "outputs": [],
   "source": [
    "class A:\n",
    "    def __init__(self):\n",
    "        print('A')\n",
    "        \n",
    "class B(A):\n",
    "    def __init__(self):\n",
    "        A.__init__(self)\n",
    "        print('B')\n",
    "        \n",
    "class C(A):\n",
    "    def __init__(self):\n",
    "        A.__init__(self)\n",
    "        print('C')\n",
    "\n",
    "class D(B,C):\n",
    "    def __init__(self):\n",
    "        B.__init__(self)\n",
    "        C.__init__(self)\n",
    "        print('D')"
   ]
  },
  {
   "cell_type": "code",
   "execution_count": 52,
   "id": "de5f90b0",
   "metadata": {},
   "outputs": [
    {
     "name": "stdout",
     "output_type": "stream",
     "text": [
      "A\n",
      "B\n",
      "A\n",
      "C\n",
      "D\n"
     ]
    }
   ],
   "source": [
    "d = D()"
   ]
  },
  {
   "cell_type": "markdown",
   "id": "dc4b7db0",
   "metadata": {},
   "source": [
    "### super()\n",
    "-  다중 출력 방지와 인스턴스 반환\n",
    "- 동시에 부모를 호출해 줌. 코드 간략화\n",
    "-  mro에 의한 상속 체계를 다 훑어낸다.\n",
    "\n",
    "사용법 : super().__init__()"
   ]
  },
  {
   "cell_type": "code",
   "execution_count": 60,
   "id": "5af78f8c",
   "metadata": {},
   "outputs": [],
   "source": [
    "# super 사용\n",
    "\n",
    "class A:\n",
    "    def __init__(self):\n",
    "        print('A')\n",
    "        \n",
    "class B(A):\n",
    "    def __init__(self):\n",
    "        super().__init__()  # super() 부모의 instance, python3부터\n",
    "        print('B')\n",
    "        \n",
    "class C(A):\n",
    "    def __init__(self):\n",
    "        super(C, self).__init__()  # python2부터\n",
    "        print('C')\n",
    "\n",
    "class D(B,C):\n",
    "    def __init__(self):\n",
    "        super().__init__()\n",
    "        print('D')"
   ]
  },
  {
   "cell_type": "code",
   "execution_count": 61,
   "id": "96388517",
   "metadata": {
    "scrolled": true
   },
   "outputs": [
    {
     "name": "stdout",
     "output_type": "stream",
     "text": [
      "A\n",
      "C\n",
      "B\n",
      "D\n"
     ]
    }
   ],
   "source": [
    "d = D()  "
   ]
  },
  {
   "cell_type": "code",
   "execution_count": 87,
   "id": "b1bf260c",
   "metadata": {},
   "outputs": [],
   "source": [
    "# 질문 사항\n",
    "class A:\n",
    "    def __init__(self):\n",
    "        print('A')\n",
    "        \n",
    "class B(A):\n",
    "    def __init__(self):\n",
    "        super().__init__()\n",
    "        print('B')\n",
    "        \n",
    "class C(A):\n",
    "    def __init__(self):\n",
    "        A.__init__(self)\n",
    "        print('C')\n",
    "\n",
    "class D(B,C):\n",
    "    def __init__(self):\n",
    "        B.__init__(self)\n",
    "        print('D')"
   ]
  },
  {
   "cell_type": "code",
   "execution_count": 88,
   "id": "c8075ea3",
   "metadata": {},
   "outputs": [
    {
     "name": "stdout",
     "output_type": "stream",
     "text": [
      "A\n",
      "C\n",
      "B\n",
      "D\n"
     ]
    }
   ],
   "source": [
    "d = D()  # 스택 순서(D->B->C->A)는 출력 순서와 반대. "
   ]
  },
  {
   "cell_type": "code",
   "execution_count": 89,
   "id": "82cbfec3",
   "metadata": {},
   "outputs": [
    {
     "data": {
      "text/plain": [
       "[__main__.D, __main__.B, __main__.C, __main__.A, object]"
      ]
     },
     "execution_count": 89,
     "metadata": {},
     "output_type": "execute_result"
    }
   ],
   "source": [
    "D.mro()    # 중복 방지와 작동 체계도 설정해준다. mro에 적혀있는 순서대로 스택 영역에 쌓이며 나올 떄에는 역순.\n",
    "# mro는 python 자체에서 만들어지는 것이고, class가 생성될 때 mro가 결정되는 것.\n",
    "# "
   ]
  },
  {
   "cell_type": "code",
   "execution_count": 91,
   "id": "aecfeb79",
   "metadata": {
    "scrolled": true
   },
   "outputs": [
    {
     "data": {
      "text/plain": [
       "(__main__.B, __main__.C)"
      ]
     },
     "execution_count": 91,
     "metadata": {},
     "output_type": "execute_result"
    }
   ],
   "source": [
    "d.__class__.__bases__ # 부모를 알고 싶을 때 쓰는 클래스"
   ]
  },
  {
   "cell_type": "code",
   "execution_count": 92,
   "id": "e268fc82",
   "metadata": {},
   "outputs": [
    {
     "data": {
      "text/plain": [
       "(__main__.B, __main__.C)"
      ]
     },
     "execution_count": 92,
     "metadata": {},
     "output_type": "execute_result"
    }
   ],
   "source": [
    "type(d).__bases__"
   ]
  },
  {
   "cell_type": "code",
   "execution_count": 94,
   "id": "0915313f",
   "metadata": {},
   "outputs": [
    {
     "data": {
      "text/plain": [
       "__main__.B"
      ]
     },
     "execution_count": 94,
     "metadata": {},
     "output_type": "execute_result"
    }
   ],
   "source": [
    "type(d).__base__"
   ]
  },
  {
   "cell_type": "code",
   "execution_count": null,
   "id": "ee12dd3d",
   "metadata": {},
   "outputs": [],
   "source": [
    "issubclass(D,A)  # filter. predicate ( is, able 붙어있는 것들)"
   ]
  },
  {
   "cell_type": "code",
   "execution_count": 95,
   "id": "352b00f4",
   "metadata": {},
   "outputs": [
    {
     "data": {
      "text/plain": [
       "True"
      ]
     },
     "execution_count": 95,
     "metadata": {},
     "output_type": "execute_result"
    }
   ],
   "source": [
    "isinstance(1, int)"
   ]
  },
  {
   "cell_type": "code",
   "execution_count": 96,
   "id": "e942172e",
   "metadata": {},
   "outputs": [
    {
     "data": {
      "text/plain": [
       "int"
      ]
     },
     "execution_count": 96,
     "metadata": {},
     "output_type": "execute_result"
    }
   ],
   "source": [
    "type(1)"
   ]
  },
  {
   "cell_type": "code",
   "execution_count": 97,
   "id": "65961109",
   "metadata": {},
   "outputs": [
    {
     "data": {
      "text/plain": [
       "(keras.engine.base_layer.Layer, keras.utils.version_utils.ModelVersionSelector)"
      ]
     },
     "execution_count": 97,
     "metadata": {},
     "output_type": "execute_result"
    }
   ],
   "source": [
    "# example (tensorflow의 부모 알기)\n",
    "import tensorflow as tf\n",
    "tf.keras.models.Model.__bases__"
   ]
  },
  {
   "cell_type": "code",
   "execution_count": null,
   "id": "bb7bd385",
   "metadata": {},
   "outputs": [],
   "source": []
  },
  {
   "cell_type": "code",
   "execution_count": null,
   "id": "c59ae277",
   "metadata": {},
   "outputs": [],
   "source": []
  },
  {
   "cell_type": "code",
   "execution_count": null,
   "id": "c3d5e127",
   "metadata": {},
   "outputs": [],
   "source": []
  },
  {
   "cell_type": "code",
   "execution_count": null,
   "id": "605b0eb8",
   "metadata": {},
   "outputs": [],
   "source": []
  },
  {
   "cell_type": "markdown",
   "id": "49c90b8b",
   "metadata": {},
   "source": [
    "closure 복습"
   ]
  },
  {
   "cell_type": "code",
   "execution_count": 66,
   "id": "1c92cbf2",
   "metadata": {},
   "outputs": [],
   "source": [
    "class C:\n",
    "    def __init__(self, m):\n",
    "        self.m = m\n",
    "    def __call__(self, n):\n",
    "        return self.m + n"
   ]
  },
  {
   "cell_type": "code",
   "execution_count": 67,
   "id": "2e4eeb61",
   "metadata": {},
   "outputs": [
    {
     "data": {
      "text/plain": [
       "4"
      ]
     },
     "execution_count": 67,
     "metadata": {},
     "output_type": "execute_result"
    }
   ],
   "source": [
    "C(1)(3)"
   ]
  },
  {
   "cell_type": "markdown",
   "id": "6b309d30",
   "metadata": {},
   "source": [
    "### composition\n",
    ": 다른 클래스의 인스턴스를 가져오는 것 뿐만 아니라 기능을 일부 가져오는 것.\n",
    "\n",
    "composition은 명시적 선언, inheritance는 암시적 선언.\n",
    "\n",
    "\n",
    "tensorflow와 pytorch는 객체 지향 관점에서 composition과 closure가 사용됨.\n",
    "\n",
    "장점 : 상속을 통한 overriding 같은 경우, 부모의 method를 가져오면 부모의 method를 수정했을 때 같이 바뀌어 문제 발생.\n",
    "자기가 사용하고 싶은 인스턴스만 사용할 수 있다는 특장점이 있다.\n",
    "(상속 : 부모 집에 얹혀 살기, composition : 내 집에 부모님 모셔 살기)"
   ]
  },
  {
   "cell_type": "code",
   "execution_count": 72,
   "id": "1cf6ee98",
   "metadata": {},
   "outputs": [],
   "source": [
    "class A:\n",
    "    def __init__(self):\n",
    "        self.x = 1\n",
    "    def y(self):\n",
    "        print('y')"
   ]
  },
  {
   "cell_type": "code",
   "execution_count": 73,
   "id": "ceb42d10",
   "metadata": {},
   "outputs": [],
   "source": [
    "class B(A):\n",
    "    pass\n",
    "\n",
    "# (다중)상속에 문제점이 있다.\n",
    "# super()"
   ]
  },
  {
   "cell_type": "code",
   "execution_count": 74,
   "id": "f0b1be76",
   "metadata": {},
   "outputs": [],
   "source": [
    "class C:  # 하나하나 어떻게 구현해?\n",
    "    def __init__(self):\n",
    "        self.t = A()\n",
    "    \n",
    "    def y(self):\n",
    "        self.t.y()"
   ]
  },
  {
   "cell_type": "code",
   "execution_count": 77,
   "id": "3012d684",
   "metadata": {},
   "outputs": [
    {
     "name": "stdout",
     "output_type": "stream",
     "text": [
      "y\n"
     ]
    }
   ],
   "source": [
    "c.y()"
   ]
  },
  {
   "cell_type": "code",
   "execution_count": 86,
   "id": "b0ded31d",
   "metadata": {},
   "outputs": [],
   "source": [
    "class D:\n",
    "    a = 1\n",
    "    b = 1\n",
    "    def __getattr__(self, x):  # AttributeError 가 발생할 때 실행(중단하지 않고) : try cache 역할\n",
    "        print(x)"
   ]
  },
  {
   "cell_type": "markdown",
   "id": "7af6a7f8",
   "metadata": {},
   "source": [
    "상속의 또 다른 방법 : **__ getattr __**\n",
    "\n",
    "에러가 발생하면 실행 종료 : assert / raise\n",
    "에러가 발생해도 실행 : __ getattr __\n",
    "\n",
    "under bar가 없는 gerattr()은 입력된 객체가 갖고 있는 값을 반환."
   ]
  },
  {
   "cell_type": "code",
   "execution_count": 80,
   "id": "61deca3f",
   "metadata": {},
   "outputs": [],
   "source": [
    "a = -1"
   ]
  },
  {
   "cell_type": "code",
   "execution_count": 81,
   "id": "aae41fa5",
   "metadata": {},
   "outputs": [
    {
     "data": {
      "text/plain": [
       "1"
      ]
     },
     "execution_count": 81,
     "metadata": {},
     "output_type": "execute_result"
    }
   ],
   "source": [
    "a.__abs__()"
   ]
  },
  {
   "cell_type": "code",
   "execution_count": 83,
   "id": "8bb8275b",
   "metadata": {},
   "outputs": [],
   "source": [
    "class CC:\n",
    "    def __init__(self):\n",
    "        self.t = A()   # 클래스를 가져와버렸기 때문에 상속처럼 사용할 수 있다는 것.\n",
    "    def __getattr__(self, x):\n",
    "        return getattr(self.t, x)   # 원래라면 error가 발생하겠지만, 에러 발생에도 실행해 상속처럼 사용할 수 있음"
   ]
  },
  {
   "cell_type": "code",
   "execution_count": 84,
   "id": "15c90d32",
   "metadata": {},
   "outputs": [],
   "source": [
    "c = CC()"
   ]
  },
  {
   "cell_type": "code",
   "execution_count": 85,
   "id": "9b0a7c48",
   "metadata": {},
   "outputs": [
    {
     "name": "stdout",
     "output_type": "stream",
     "text": [
      "y\n"
     ]
    }
   ],
   "source": [
    "c.y()"
   ]
  },
  {
   "cell_type": "code",
   "execution_count": 98,
   "id": "1475a664",
   "metadata": {},
   "outputs": [
    {
     "name": "stdout",
     "output_type": "stream",
     "text": [
      "A\n",
      "C\n",
      "B\n",
      "D\n"
     ]
    }
   ],
   "source": [
    "d = D()"
   ]
  },
  {
   "cell_type": "markdown",
   "id": "6c8ffabd",
   "metadata": {},
   "source": [
    "### Overriding / Overloading / Generic"
   ]
  },
  {
   "cell_type": "markdown",
   "id": "af062ba8",
   "metadata": {},
   "source": [
    "#### Overriding\n",
    "\n",
    "- **signature 유지해야 함.**\n",
    "- on_** 기능을 바꿔보자."
   ]
  },
  {
   "cell_type": "code",
   "execution_count": 99,
   "id": "9d092a81",
   "metadata": {},
   "outputs": [],
   "source": [
    "import tensorflow as tf"
   ]
  },
  {
   "cell_type": "code",
   "execution_count": 100,
   "id": "ef703eae",
   "metadata": {},
   "outputs": [
    {
     "data": {
      "text/plain": [
       "keras.optimizer_v2.optimizer_v2.OptimizerV2"
      ]
     },
     "execution_count": 100,
     "metadata": {},
     "output_type": "execute_result"
    }
   ],
   "source": [
    "tf.keras.callbacks.Callback\n",
    "tf.keras.losses.Loss\n",
    "tf.keras.optimizers.Optimizer"
   ]
  },
  {
   "cell_type": "code",
   "execution_count": 102,
   "id": "5cc4f391",
   "metadata": {},
   "outputs": [
    {
     "data": {
      "text/plain": [
       "(keras.callbacks.Callback,)"
      ]
     },
     "execution_count": 102,
     "metadata": {},
     "output_type": "execute_result"
    }
   ],
   "source": [
    "tf.keras.callbacks.BaseLogger.__bases__  # 모든 아이템은 기본적인 class를 overriding하면서 확장시킬 수 있다."
   ]
  },
  {
   "cell_type": "code",
   "execution_count": null,
   "id": "39db8f32",
   "metadata": {},
   "outputs": [],
   "source": []
  },
  {
   "cell_type": "code",
   "execution_count": 103,
   "id": "6d123f58",
   "metadata": {},
   "outputs": [
    {
     "data": {
      "text/plain": [
       "<function keras.callbacks.Callback.on_epoch_end(self, epoch, logs=None)>"
      ]
     },
     "execution_count": 103,
     "metadata": {},
     "output_type": "execute_result"
    }
   ],
   "source": [
    "tf.keras.callbacks.Callback.on_epoch_end"
   ]
  },
  {
   "cell_type": "code",
   "execution_count": 101,
   "id": "d31a67fa",
   "metadata": {},
   "outputs": [],
   "source": [
    "class MyCallBack(tf.keras.callbacks.Callback):\n",
    "    def on_epoch_end(self, epoch, logs=None):   # shift+tab 키로 signature 확인\n",
    "        pass"
   ]
  },
  {
   "cell_type": "code",
   "execution_count": null,
   "id": "7bfe4e5f",
   "metadata": {},
   "outputs": [],
   "source": [
    "class T:\n",
    "    def teset(self, a, b, c):\n",
    "        return a+b+c"
   ]
  },
  {
   "cell_type": "code",
   "execution_count": null,
   "id": "3f42da46",
   "metadata": {},
   "outputs": [],
   "source": [
    "# T의 기능 바꾸기\n",
    "class S(T):\n",
    "    def test(self, a, b, c):   # LSP. signature를 맞추지 않으면 상속하더라도 활용할 수 없다.\n",
    "        return a+b+2*c"
   ]
  },
  {
   "cell_type": "code",
   "execution_count": 104,
   "id": "ed946420",
   "metadata": {},
   "outputs": [
    {
     "data": {
      "text/plain": [
       "(keras.callbacks.Callback,)"
      ]
     },
     "execution_count": 104,
     "metadata": {},
     "output_type": "execute_result"
    }
   ],
   "source": [
    "tf.keras.callbacks.EarlyStopping.__bases__"
   ]
  },
  {
   "cell_type": "code",
   "execution_count": 105,
   "id": "851019f4",
   "metadata": {},
   "outputs": [],
   "source": [
    "from torch.utils import data"
   ]
  },
  {
   "cell_type": "code",
   "execution_count": 106,
   "id": "ee3dc9ff",
   "metadata": {},
   "outputs": [],
   "source": [
    "from torch.utils.data import Dataset"
   ]
  },
  {
   "cell_type": "code",
   "execution_count": 107,
   "id": "ca3ce472",
   "metadata": {},
   "outputs": [],
   "source": [
    "import inspect"
   ]
  },
  {
   "cell_type": "code",
   "execution_count": 108,
   "id": "4d6bff0f",
   "metadata": {
    "scrolled": true
   },
   "outputs": [
    {
     "name": "stdout",
     "output_type": "stream",
     "text": [
      "class Dataset(Generic[T_co]):\n",
      "    r\"\"\"An abstract class representing a :class:`Dataset`.\n",
      "\n",
      "    All datasets that represent a map from keys to data samples should subclass\n",
      "    it. All subclasses should overwrite :meth:`__getitem__`, supporting fetching a\n",
      "    data sample for a given key. Subclasses could also optionally overwrite\n",
      "    :meth:`__len__`, which is expected to return the size of the dataset by many\n",
      "    :class:`~torch.utils.data.Sampler` implementations and the default options\n",
      "    of :class:`~torch.utils.data.DataLoader`.\n",
      "\n",
      "    .. note::\n",
      "      :class:`~torch.utils.data.DataLoader` by default constructs a index\n",
      "      sampler that yields integral indices.  To make it work with a map-style\n",
      "      dataset with non-integral indices/keys, a custom sampler must be provided.\n",
      "    \"\"\"\n",
      "\n",
      "    def __getitem__(self, index) -> T_co:\n",
      "        raise NotImplementedError\n",
      "\n",
      "    def __add__(self, other: 'Dataset[T_co]') -> 'ConcatDataset[T_co]':\n",
      "        return ConcatDataset([self, other])\n",
      "\n",
      "    # No `def __len__(self)` default?\n",
      "    # See NOTE [ Lack of Default `__len__` in Python Abstract Base Classes ]\n",
      "    # in pytorch/torch/utils/data/sampler.py\n",
      "\n"
     ]
    }
   ],
   "source": [
    "print(inspect.getsource(Dataset))"
   ]
  },
  {
   "cell_type": "markdown",
   "id": "0d773594",
   "metadata": {},
   "source": [
    "Overloading\n",
    "\n",
    "- function overloading : python 지원 x\n",
    "- operator overloading\n",
    "\n",
    "장점 : 직관적이다. 다양한 기호를 사용하는 것보다 "
   ]
  },
  {
   "cell_type": "code",
   "execution_count": null,
   "id": "728c28e2",
   "metadata": {},
   "outputs": [],
   "source": [
    "#function overloading\n",
    "def a(x):\n",
    "    return x\n",
    "\n",
    "def a(x,y):\n",
    "    return x+y"
   ]
  },
  {
   "cell_type": "code",
   "execution_count": 109,
   "id": "5eacc8a0",
   "metadata": {},
   "outputs": [
    {
     "data": {
      "text/plain": [
       "2"
      ]
     },
     "execution_count": 109,
     "metadata": {},
     "output_type": "execute_result"
    }
   ],
   "source": [
    "#operator overloading\n",
    "1 + 1"
   ]
  },
  {
   "cell_type": "code",
   "execution_count": 110,
   "id": "0f489b97",
   "metadata": {},
   "outputs": [
    {
     "data": {
      "text/plain": [
       "[1, 2, 3, 2, 3, 4]"
      ]
     },
     "execution_count": 110,
     "metadata": {},
     "output_type": "execute_result"
    }
   ],
   "source": [
    "[1,2,3] + [2,3,4]"
   ]
  },
  {
   "cell_type": "code",
   "execution_count": 111,
   "id": "557da665",
   "metadata": {},
   "outputs": [],
   "source": [
    "import numpy as np"
   ]
  },
  {
   "cell_type": "code",
   "execution_count": 112,
   "id": "1a1e4b44",
   "metadata": {},
   "outputs": [
    {
     "data": {
      "text/plain": [
       "array([2, 4, 6])"
      ]
     },
     "execution_count": 112,
     "metadata": {},
     "output_type": "execute_result"
    }
   ],
   "source": [
    "a = np.array([1,2,3])\n",
    "b = np.array([1,2,3])\n",
    "a + b"
   ]
  },
  {
   "cell_type": "code",
   "execution_count": 113,
   "id": "2ce6d700",
   "metadata": {},
   "outputs": [
    {
     "data": {
      "text/plain": [
       "['__and__',\n",
       " '__class__',\n",
       " '__class_getitem__',\n",
       " '__contains__',\n",
       " '__delattr__',\n",
       " '__dir__',\n",
       " '__doc__',\n",
       " '__eq__',\n",
       " '__format__',\n",
       " '__ge__',\n",
       " '__getattribute__',\n",
       " '__gt__',\n",
       " '__hash__',\n",
       " '__iand__',\n",
       " '__init__',\n",
       " '__init_subclass__',\n",
       " '__ior__',\n",
       " '__isub__',\n",
       " '__iter__',\n",
       " '__ixor__',\n",
       " '__le__',\n",
       " '__len__',\n",
       " '__lt__',\n",
       " '__ne__',\n",
       " '__new__',\n",
       " '__or__',\n",
       " '__rand__',\n",
       " '__reduce__',\n",
       " '__reduce_ex__',\n",
       " '__repr__',\n",
       " '__ror__',\n",
       " '__rsub__',\n",
       " '__rxor__',\n",
       " '__setattr__',\n",
       " '__sizeof__',\n",
       " '__str__',\n",
       " '__sub__',\n",
       " '__subclasshook__',\n",
       " '__xor__',\n",
       " 'add',\n",
       " 'clear',\n",
       " 'copy',\n",
       " 'difference',\n",
       " 'difference_update',\n",
       " 'discard',\n",
       " 'intersection',\n",
       " 'intersection_update',\n",
       " 'isdisjoint',\n",
       " 'issubset',\n",
       " 'issuperset',\n",
       " 'pop',\n",
       " 'remove',\n",
       " 'symmetric_difference',\n",
       " 'symmetric_difference_update',\n",
       " 'union',\n",
       " 'update']"
      ]
     },
     "execution_count": 113,
     "metadata": {},
     "output_type": "execute_result"
    }
   ],
   "source": [
    "# operator\n",
    "a = {1,2,3}\n",
    "dir(a)"
   ]
  },
  {
   "cell_type": "code",
   "execution_count": 114,
   "id": "3985d3f6",
   "metadata": {},
   "outputs": [
    {
     "ename": "TypeError",
     "evalue": "unsupported operand type(s) for +: 'set' and 'set'",
     "output_type": "error",
     "traceback": [
      "\u001b[1;31m---------------------------------------------------------------------------\u001b[0m",
      "\u001b[1;31mTypeError\u001b[0m                                 Traceback (most recent call last)",
      "\u001b[1;32m<ipython-input-114-4c69248a3066>\u001b[0m in \u001b[0;36m<module>\u001b[1;34m\u001b[0m\n\u001b[1;32m----> 1\u001b[1;33m \u001b[0ma\u001b[0m \u001b[1;33m+\u001b[0m \u001b[0ma\u001b[0m\u001b[1;33m\u001b[0m\u001b[1;33m\u001b[0m\u001b[0m\n\u001b[0m",
      "\u001b[1;31mTypeError\u001b[0m: unsupported operand type(s) for +: 'set' and 'set'"
     ]
    }
   ],
   "source": [
    "a + a"
   ]
  },
  {
   "cell_type": "code",
   "execution_count": 115,
   "id": "d7783279",
   "metadata": {},
   "outputs": [],
   "source": [
    "import tensorflow as tf\n",
    "import torch"
   ]
  },
  {
   "cell_type": "code",
   "execution_count": 116,
   "id": "fdcc3663",
   "metadata": {},
   "outputs": [
    {
     "data": {
      "text/plain": [
       "['T',\n",
       " '__abs__',\n",
       " '__add__',\n",
       " '__and__',\n",
       " '__array__',\n",
       " '__array_priority__',\n",
       " '__array_wrap__',\n",
       " '__bool__',\n",
       " '__class__',\n",
       " '__complex__',\n",
       " '__contains__',\n",
       " '__cuda_array_interface__',\n",
       " '__deepcopy__',\n",
       " '__delattr__',\n",
       " '__delitem__',\n",
       " '__dict__',\n",
       " '__dir__',\n",
       " '__div__',\n",
       " '__doc__',\n",
       " '__eq__',\n",
       " '__float__',\n",
       " '__floordiv__',\n",
       " '__format__',\n",
       " '__ge__',\n",
       " '__getattribute__',\n",
       " '__getitem__',\n",
       " '__gt__',\n",
       " '__hash__',\n",
       " '__iadd__',\n",
       " '__iand__',\n",
       " '__idiv__',\n",
       " '__ifloordiv__',\n",
       " '__ilshift__',\n",
       " '__imod__',\n",
       " '__imul__',\n",
       " '__index__',\n",
       " '__init__',\n",
       " '__init_subclass__',\n",
       " '__int__',\n",
       " '__invert__',\n",
       " '__ior__',\n",
       " '__ipow__',\n",
       " '__irshift__',\n",
       " '__isub__',\n",
       " '__iter__',\n",
       " '__itruediv__',\n",
       " '__ixor__',\n",
       " '__le__',\n",
       " '__len__',\n",
       " '__long__',\n",
       " '__lshift__',\n",
       " '__lt__',\n",
       " '__matmul__',\n",
       " '__mod__',\n",
       " '__module__',\n",
       " '__mul__',\n",
       " '__ne__',\n",
       " '__neg__',\n",
       " '__new__',\n",
       " '__nonzero__',\n",
       " '__or__',\n",
       " '__pos__',\n",
       " '__pow__',\n",
       " '__radd__',\n",
       " '__rdiv__',\n",
       " '__reduce__',\n",
       " '__reduce_ex__',\n",
       " '__repr__',\n",
       " '__reversed__',\n",
       " '__rfloordiv__',\n",
       " '__rmul__',\n",
       " '__rpow__',\n",
       " '__rshift__',\n",
       " '__rsub__',\n",
       " '__rtruediv__',\n",
       " '__setattr__',\n",
       " '__setitem__',\n",
       " '__setstate__',\n",
       " '__sizeof__',\n",
       " '__str__',\n",
       " '__sub__',\n",
       " '__subclasshook__',\n",
       " '__torch_function__',\n",
       " '__truediv__',\n",
       " '__weakref__',\n",
       " '__xor__',\n",
       " '_backward_hooks',\n",
       " '_base',\n",
       " '_cdata',\n",
       " '_coalesced_',\n",
       " '_dimI',\n",
       " '_dimV',\n",
       " '_grad',\n",
       " '_grad_fn',\n",
       " '_indices',\n",
       " '_is_view',\n",
       " '_make_subclass',\n",
       " '_nnz',\n",
       " '_reduce_ex_internal',\n",
       " '_to_sparse_csr',\n",
       " '_update_names',\n",
       " '_values',\n",
       " '_version',\n",
       " 'abs',\n",
       " 'abs_',\n",
       " 'absolute',\n",
       " 'absolute_',\n",
       " 'acos',\n",
       " 'acos_',\n",
       " 'acosh',\n",
       " 'acosh_',\n",
       " 'add',\n",
       " 'add_',\n",
       " 'addbmm',\n",
       " 'addbmm_',\n",
       " 'addcdiv',\n",
       " 'addcdiv_',\n",
       " 'addcmul',\n",
       " 'addcmul_',\n",
       " 'addmm',\n",
       " 'addmm_',\n",
       " 'addmv',\n",
       " 'addmv_',\n",
       " 'addr',\n",
       " 'addr_',\n",
       " 'align_as',\n",
       " 'align_to',\n",
       " 'all',\n",
       " 'allclose',\n",
       " 'amax',\n",
       " 'amin',\n",
       " 'angle',\n",
       " 'any',\n",
       " 'apply_',\n",
       " 'arccos',\n",
       " 'arccos_',\n",
       " 'arccosh',\n",
       " 'arccosh_',\n",
       " 'arcsin',\n",
       " 'arcsin_',\n",
       " 'arcsinh',\n",
       " 'arcsinh_',\n",
       " 'arctan',\n",
       " 'arctan_',\n",
       " 'arctanh',\n",
       " 'arctanh_',\n",
       " 'argmax',\n",
       " 'argmin',\n",
       " 'argsort',\n",
       " 'as_strided',\n",
       " 'as_strided_',\n",
       " 'as_subclass',\n",
       " 'asin',\n",
       " 'asin_',\n",
       " 'asinh',\n",
       " 'asinh_',\n",
       " 'atan',\n",
       " 'atan2',\n",
       " 'atan2_',\n",
       " 'atan_',\n",
       " 'atanh',\n",
       " 'atanh_',\n",
       " 'backward',\n",
       " 'baddbmm',\n",
       " 'baddbmm_',\n",
       " 'bernoulli',\n",
       " 'bernoulli_',\n",
       " 'bfloat16',\n",
       " 'bincount',\n",
       " 'bitwise_and',\n",
       " 'bitwise_and_',\n",
       " 'bitwise_not',\n",
       " 'bitwise_not_',\n",
       " 'bitwise_or',\n",
       " 'bitwise_or_',\n",
       " 'bitwise_xor',\n",
       " 'bitwise_xor_',\n",
       " 'bmm',\n",
       " 'bool',\n",
       " 'broadcast_to',\n",
       " 'byte',\n",
       " 'cauchy_',\n",
       " 'cdouble',\n",
       " 'ceil',\n",
       " 'ceil_',\n",
       " 'cfloat',\n",
       " 'char',\n",
       " 'cholesky',\n",
       " 'cholesky_inverse',\n",
       " 'cholesky_solve',\n",
       " 'chunk',\n",
       " 'clamp',\n",
       " 'clamp_',\n",
       " 'clamp_max',\n",
       " 'clamp_max_',\n",
       " 'clamp_min',\n",
       " 'clamp_min_',\n",
       " 'clip',\n",
       " 'clip_',\n",
       " 'clone',\n",
       " 'coalesce',\n",
       " 'col_indices',\n",
       " 'conj',\n",
       " 'contiguous',\n",
       " 'copy_',\n",
       " 'copysign',\n",
       " 'copysign_',\n",
       " 'cos',\n",
       " 'cos_',\n",
       " 'cosh',\n",
       " 'cosh_',\n",
       " 'count_nonzero',\n",
       " 'cpu',\n",
       " 'cross',\n",
       " 'crow_indices',\n",
       " 'cuda',\n",
       " 'cummax',\n",
       " 'cummin',\n",
       " 'cumprod',\n",
       " 'cumprod_',\n",
       " 'cumsum',\n",
       " 'cumsum_',\n",
       " 'data',\n",
       " 'data_ptr',\n",
       " 'deg2rad',\n",
       " 'deg2rad_',\n",
       " 'dense_dim',\n",
       " 'dequantize',\n",
       " 'det',\n",
       " 'detach',\n",
       " 'detach_',\n",
       " 'device',\n",
       " 'diag',\n",
       " 'diag_embed',\n",
       " 'diagflat',\n",
       " 'diagonal',\n",
       " 'diff',\n",
       " 'digamma',\n",
       " 'digamma_',\n",
       " 'dim',\n",
       " 'dist',\n",
       " 'div',\n",
       " 'div_',\n",
       " 'divide',\n",
       " 'divide_',\n",
       " 'dot',\n",
       " 'double',\n",
       " 'dsplit',\n",
       " 'dtype',\n",
       " 'eig',\n",
       " 'element_size',\n",
       " 'eq',\n",
       " 'eq_',\n",
       " 'equal',\n",
       " 'erf',\n",
       " 'erf_',\n",
       " 'erfc',\n",
       " 'erfc_',\n",
       " 'erfinv',\n",
       " 'erfinv_',\n",
       " 'exp',\n",
       " 'exp2',\n",
       " 'exp2_',\n",
       " 'exp_',\n",
       " 'expand',\n",
       " 'expand_as',\n",
       " 'expm1',\n",
       " 'expm1_',\n",
       " 'exponential_',\n",
       " 'fill_',\n",
       " 'fill_diagonal_',\n",
       " 'fix',\n",
       " 'fix_',\n",
       " 'flatten',\n",
       " 'flip',\n",
       " 'fliplr',\n",
       " 'flipud',\n",
       " 'float',\n",
       " 'float_power',\n",
       " 'float_power_',\n",
       " 'floor',\n",
       " 'floor_',\n",
       " 'floor_divide',\n",
       " 'floor_divide_',\n",
       " 'fmax',\n",
       " 'fmin',\n",
       " 'fmod',\n",
       " 'fmod_',\n",
       " 'frac',\n",
       " 'frac_',\n",
       " 'frexp',\n",
       " 'gather',\n",
       " 'gcd',\n",
       " 'gcd_',\n",
       " 'ge',\n",
       " 'ge_',\n",
       " 'geometric_',\n",
       " 'geqrf',\n",
       " 'ger',\n",
       " 'get_device',\n",
       " 'grad',\n",
       " 'grad_fn',\n",
       " 'greater',\n",
       " 'greater_',\n",
       " 'greater_equal',\n",
       " 'greater_equal_',\n",
       " 'gt',\n",
       " 'gt_',\n",
       " 'half',\n",
       " 'hardshrink',\n",
       " 'has_names',\n",
       " 'heaviside',\n",
       " 'heaviside_',\n",
       " 'histc',\n",
       " 'hsplit',\n",
       " 'hypot',\n",
       " 'hypot_',\n",
       " 'i0',\n",
       " 'i0_',\n",
       " 'igamma',\n",
       " 'igamma_',\n",
       " 'igammac',\n",
       " 'igammac_',\n",
       " 'imag',\n",
       " 'index_add',\n",
       " 'index_add_',\n",
       " 'index_copy',\n",
       " 'index_copy_',\n",
       " 'index_fill',\n",
       " 'index_fill_',\n",
       " 'index_put',\n",
       " 'index_put_',\n",
       " 'index_select',\n",
       " 'indices',\n",
       " 'inner',\n",
       " 'int',\n",
       " 'int_repr',\n",
       " 'inverse',\n",
       " 'is_coalesced',\n",
       " 'is_complex',\n",
       " 'is_contiguous',\n",
       " 'is_cuda',\n",
       " 'is_distributed',\n",
       " 'is_floating_point',\n",
       " 'is_leaf',\n",
       " 'is_meta',\n",
       " 'is_mkldnn',\n",
       " 'is_mlc',\n",
       " 'is_nonzero',\n",
       " 'is_pinned',\n",
       " 'is_quantized',\n",
       " 'is_same_size',\n",
       " 'is_set_to',\n",
       " 'is_shared',\n",
       " 'is_signed',\n",
       " 'is_sparse',\n",
       " 'is_sparse_csr',\n",
       " 'is_vulkan',\n",
       " 'is_xpu',\n",
       " 'isclose',\n",
       " 'isfinite',\n",
       " 'isinf',\n",
       " 'isnan',\n",
       " 'isneginf',\n",
       " 'isposinf',\n",
       " 'isreal',\n",
       " 'istft',\n",
       " 'item',\n",
       " 'kron',\n",
       " 'kthvalue',\n",
       " 'layout',\n",
       " 'lcm',\n",
       " 'lcm_',\n",
       " 'ldexp',\n",
       " 'ldexp_',\n",
       " 'le',\n",
       " 'le_',\n",
       " 'lerp',\n",
       " 'lerp_',\n",
       " 'less',\n",
       " 'less_',\n",
       " 'less_equal',\n",
       " 'less_equal_',\n",
       " 'lgamma',\n",
       " 'lgamma_',\n",
       " 'log',\n",
       " 'log10',\n",
       " 'log10_',\n",
       " 'log1p',\n",
       " 'log1p_',\n",
       " 'log2',\n",
       " 'log2_',\n",
       " 'log_',\n",
       " 'log_normal_',\n",
       " 'log_softmax',\n",
       " 'logaddexp',\n",
       " 'logaddexp2',\n",
       " 'logcumsumexp',\n",
       " 'logdet',\n",
       " 'logical_and',\n",
       " 'logical_and_',\n",
       " 'logical_not',\n",
       " 'logical_not_',\n",
       " 'logical_or',\n",
       " 'logical_or_',\n",
       " 'logical_xor',\n",
       " 'logical_xor_',\n",
       " 'logit',\n",
       " 'logit_',\n",
       " 'logsumexp',\n",
       " 'long',\n",
       " 'lstsq',\n",
       " 'lt',\n",
       " 'lt_',\n",
       " 'lu',\n",
       " 'lu_solve',\n",
       " 'map2_',\n",
       " 'map_',\n",
       " 'masked_fill',\n",
       " 'masked_fill_',\n",
       " 'masked_scatter',\n",
       " 'masked_scatter_',\n",
       " 'masked_select',\n",
       " 'matmul',\n",
       " 'matrix_exp',\n",
       " 'matrix_power',\n",
       " 'max',\n",
       " 'maximum',\n",
       " 'mean',\n",
       " 'median',\n",
       " 'min',\n",
       " 'minimum',\n",
       " 'mm',\n",
       " 'mode',\n",
       " 'moveaxis',\n",
       " 'movedim',\n",
       " 'msort',\n",
       " 'mul',\n",
       " 'mul_',\n",
       " 'multinomial',\n",
       " 'multiply',\n",
       " 'multiply_',\n",
       " 'mv',\n",
       " 'mvlgamma',\n",
       " 'mvlgamma_',\n",
       " 'name',\n",
       " 'names',\n",
       " 'nan_to_num',\n",
       " 'nan_to_num_',\n",
       " 'nanmedian',\n",
       " 'nanquantile',\n",
       " 'nansum',\n",
       " 'narrow',\n",
       " 'narrow_copy',\n",
       " 'ndim',\n",
       " 'ndimension',\n",
       " 'ne',\n",
       " 'ne_',\n",
       " 'neg',\n",
       " 'neg_',\n",
       " 'negative',\n",
       " 'negative_',\n",
       " 'nelement',\n",
       " 'new',\n",
       " 'new_empty',\n",
       " 'new_empty_strided',\n",
       " 'new_full',\n",
       " 'new_ones',\n",
       " 'new_tensor',\n",
       " 'new_zeros',\n",
       " 'nextafter',\n",
       " 'nextafter_',\n",
       " 'nonzero',\n",
       " 'norm',\n",
       " 'normal_',\n",
       " 'not_equal',\n",
       " 'not_equal_',\n",
       " 'numel',\n",
       " 'numpy',\n",
       " 'orgqr',\n",
       " 'ormqr',\n",
       " 'outer',\n",
       " 'output_nr',\n",
       " 'permute',\n",
       " 'pin_memory',\n",
       " 'pinverse',\n",
       " 'polygamma',\n",
       " 'polygamma_',\n",
       " 'positive',\n",
       " 'pow',\n",
       " 'pow_',\n",
       " 'prelu',\n",
       " 'prod',\n",
       " 'put',\n",
       " 'put_',\n",
       " 'q_per_channel_axis',\n",
       " 'q_per_channel_scales',\n",
       " 'q_per_channel_zero_points',\n",
       " 'q_scale',\n",
       " 'q_zero_point',\n",
       " 'qr',\n",
       " 'qscheme',\n",
       " 'quantile',\n",
       " 'rad2deg',\n",
       " 'rad2deg_',\n",
       " 'random_',\n",
       " 'ravel',\n",
       " 'real',\n",
       " 'reciprocal',\n",
       " 'reciprocal_',\n",
       " 'record_stream',\n",
       " 'refine_names',\n",
       " 'register_hook',\n",
       " 'reinforce',\n",
       " 'relu',\n",
       " 'relu_',\n",
       " 'remainder',\n",
       " 'remainder_',\n",
       " 'rename',\n",
       " 'rename_',\n",
       " 'renorm',\n",
       " 'renorm_',\n",
       " 'repeat',\n",
       " 'repeat_interleave',\n",
       " 'requires_grad',\n",
       " 'requires_grad_',\n",
       " 'reshape',\n",
       " 'reshape_as',\n",
       " 'resize',\n",
       " 'resize_',\n",
       " 'resize_as',\n",
       " 'resize_as_',\n",
       " 'retain_grad',\n",
       " 'roll',\n",
       " 'rot90',\n",
       " 'round',\n",
       " 'round_',\n",
       " 'rsqrt',\n",
       " 'rsqrt_',\n",
       " 'scatter',\n",
       " 'scatter_',\n",
       " 'scatter_add',\n",
       " 'scatter_add_',\n",
       " 'select',\n",
       " 'set_',\n",
       " 'sgn',\n",
       " 'sgn_',\n",
       " 'shape',\n",
       " 'share_memory_',\n",
       " 'short',\n",
       " 'sigmoid',\n",
       " 'sigmoid_',\n",
       " 'sign',\n",
       " 'sign_',\n",
       " 'signbit',\n",
       " 'sin',\n",
       " 'sin_',\n",
       " 'sinc',\n",
       " 'sinc_',\n",
       " 'sinh',\n",
       " 'sinh_',\n",
       " 'size',\n",
       " 'slogdet',\n",
       " 'smm',\n",
       " 'softmax',\n",
       " 'solve',\n",
       " 'sort',\n",
       " 'sparse_dim',\n",
       " 'sparse_mask',\n",
       " 'sparse_resize_',\n",
       " 'sparse_resize_and_clear_',\n",
       " 'split',\n",
       " 'split_with_sizes',\n",
       " 'sqrt',\n",
       " 'sqrt_',\n",
       " 'square',\n",
       " 'square_',\n",
       " 'squeeze',\n",
       " 'squeeze_',\n",
       " 'sspaddmm',\n",
       " 'std',\n",
       " 'stft',\n",
       " 'storage',\n",
       " 'storage_offset',\n",
       " 'storage_type',\n",
       " 'stride',\n",
       " 'sub',\n",
       " 'sub_',\n",
       " 'subtract',\n",
       " 'subtract_',\n",
       " 'sum',\n",
       " 'sum_to_size',\n",
       " 'svd',\n",
       " 'swapaxes',\n",
       " 'swapaxes_',\n",
       " 'swapdims',\n",
       " 'swapdims_',\n",
       " 'symeig',\n",
       " 't',\n",
       " 't_',\n",
       " 'take',\n",
       " 'take_along_dim',\n",
       " 'tan',\n",
       " 'tan_',\n",
       " 'tanh',\n",
       " 'tanh_',\n",
       " 'tensor_split',\n",
       " 'tile',\n",
       " 'to',\n",
       " 'to_dense',\n",
       " 'to_mkldnn',\n",
       " 'to_sparse',\n",
       " 'tolist',\n",
       " 'topk',\n",
       " 'trace',\n",
       " 'transpose',\n",
       " 'transpose_',\n",
       " 'triangular_solve',\n",
       " 'tril',\n",
       " 'tril_',\n",
       " 'triu',\n",
       " 'triu_',\n",
       " 'true_divide',\n",
       " 'true_divide_',\n",
       " 'trunc',\n",
       " 'trunc_',\n",
       " 'type',\n",
       " 'type_as',\n",
       " 'unbind',\n",
       " 'unflatten',\n",
       " 'unfold',\n",
       " 'uniform_',\n",
       " 'unique',\n",
       " 'unique_consecutive',\n",
       " 'unsafe_chunk',\n",
       " 'unsafe_split',\n",
       " 'unsafe_split_with_sizes',\n",
       " 'unsqueeze',\n",
       " 'unsqueeze_',\n",
       " 'values',\n",
       " 'var',\n",
       " 'vdot',\n",
       " 'view',\n",
       " 'view_as',\n",
       " 'volatile',\n",
       " 'vsplit',\n",
       " 'where',\n",
       " 'xlogy',\n",
       " 'xlogy_',\n",
       " 'xpu',\n",
       " 'zero_']"
      ]
     },
     "execution_count": 116,
     "metadata": {},
     "output_type": "execute_result"
    }
   ],
   "source": [
    "dir(torch.Tensor)  # Tensor만의 연산 정의"
   ]
  },
  {
   "cell_type": "code",
   "execution_count": 118,
   "id": "9d9569ee",
   "metadata": {},
   "outputs": [],
   "source": [
    "# 나만의 연산(__add__) 만들기\n",
    "class A:\n",
    "    def __add__(self, x):\n",
    "        return x+1"
   ]
  },
  {
   "cell_type": "code",
   "execution_count": 119,
   "id": "c89ec843",
   "metadata": {},
   "outputs": [],
   "source": [
    "a = A()"
   ]
  },
  {
   "cell_type": "code",
   "execution_count": 120,
   "id": "3507ef8f",
   "metadata": {},
   "outputs": [
    {
     "data": {
      "text/plain": [
       "4"
      ]
     },
     "execution_count": 120,
     "metadata": {},
     "output_type": "execute_result"
    }
   ],
   "source": [
    "a + 3"
   ]
  },
  {
   "cell_type": "code",
   "execution_count": 121,
   "id": "3f07dde2",
   "metadata": {},
   "outputs": [],
   "source": [
    "from operator import add  # 이렇게 있는 연산자처럼 "
   ]
  },
  {
   "cell_type": "code",
   "execution_count": 122,
   "id": "c97f86ab",
   "metadata": {},
   "outputs": [
    {
     "data": {
      "text/plain": [
       "4"
      ]
     },
     "execution_count": 122,
     "metadata": {},
     "output_type": "execute_result"
    }
   ],
   "source": [
    "add(1,3)"
   ]
  },
  {
   "cell_type": "code",
   "execution_count": 123,
   "id": "42ce92b1",
   "metadata": {},
   "outputs": [
    {
     "data": {
      "text/plain": [
       "4"
      ]
     },
     "execution_count": 123,
     "metadata": {},
     "output_type": "execute_result"
    }
   ],
   "source": [
    "a.__add__(3)"
   ]
  },
  {
   "cell_type": "markdown",
   "id": "0bbebcc4",
   "metadata": {},
   "source": [
    "### Generic 함수\n",
    "\n",
    ":**data type에 따라 다르게 행동하는 함수**"
   ]
  },
  {
   "cell_type": "code",
   "execution_count": 124,
   "id": "43b63b6b",
   "metadata": {},
   "outputs": [
    {
     "data": {
      "text/plain": [
       "[1, 2, 3, 2, 3, 4]"
      ]
     },
     "execution_count": 124,
     "metadata": {},
     "output_type": "execute_result"
    }
   ],
   "source": [
    "add([1,2,3],[2,3,4])  "
   ]
  },
  {
   "cell_type": "code",
   "execution_count": 125,
   "id": "ca24bdf6",
   "metadata": {},
   "outputs": [
    {
     "data": {
      "text/plain": [
       "3"
      ]
     },
     "execution_count": 125,
     "metadata": {},
     "output_type": "execute_result"
    }
   ],
   "source": [
    "len([1,2,3,])"
   ]
  },
  {
   "cell_type": "code",
   "execution_count": 136,
   "id": "08d0653a",
   "metadata": {},
   "outputs": [
    {
     "data": {
      "text/plain": [
       "1"
      ]
     },
     "execution_count": 136,
     "metadata": {},
     "output_type": "execute_result"
    }
   ],
   "source": [
    "len({'a':1})   # len은 대표적인 generic 함수"
   ]
  },
  {
   "cell_type": "markdown",
   "id": "018e9546",
   "metadata": {},
   "source": [
    "single dispatch(파이썬 공식 o) / multiple dispatch (파이썬 공식 x)\n",
    "\n",
    "\n",
    "- overloading은 static type의 파라미터 / dispatch는 dynamic type의 파라미터\n",
    "\n",
    ": 파이썬은 dynamic type 파라미터를 사용하므로 operator single dispatch."
   ]
  },
  {
   "cell_type": "code",
   "execution_count": 128,
   "id": "9b8fb167",
   "metadata": {},
   "outputs": [],
   "source": [
    "from functools import singledispatch"
   ]
  },
  {
   "cell_type": "code",
   "execution_count": 132,
   "id": "30b27fb1",
   "metadata": {},
   "outputs": [],
   "source": [
    "@singledispatch\n",
    "def len2(x):\n",
    "    print('default')\n",
    "    \n",
    "@len2.register(int)\n",
    "def _l(x):\n",
    "    print('int')\n",
    "    \n",
    "@len2.register(str)\n",
    "def _l(x):\n",
    "    print('str')"
   ]
  },
  {
   "cell_type": "code",
   "execution_count": 133,
   "id": "03ccff7e",
   "metadata": {},
   "outputs": [
    {
     "name": "stdout",
     "output_type": "stream",
     "text": [
      "int\n"
     ]
    }
   ],
   "source": [
    "len2(3)"
   ]
  },
  {
   "cell_type": "code",
   "execution_count": 134,
   "id": "721e761d",
   "metadata": {},
   "outputs": [
    {
     "name": "stdout",
     "output_type": "stream",
     "text": [
      "str\n"
     ]
    }
   ],
   "source": [
    "len2('문')"
   ]
  },
  {
   "cell_type": "code",
   "execution_count": 135,
   "id": "e1f0586a",
   "metadata": {},
   "outputs": [
    {
     "name": "stdout",
     "output_type": "stream",
     "text": [
      "default\n"
     ]
    }
   ],
   "source": [
    "len2([1.2])"
   ]
  },
  {
   "cell_type": "markdown",
   "id": "44a1cd0f",
   "metadata": {},
   "source": [
    "여기서 잠깐 !\n",
    "\n",
    "Metaclass와 property"
   ]
  },
  {
   "cell_type": "code",
   "execution_count": null,
   "id": "6663527a",
   "metadata": {},
   "outputs": [],
   "source": [
    "# 기본 꼴\n",
    "class MyType(type):\n",
    "    pass\n",
    "\n",
    "class MySpecialCase(metaclass=MyType):\n",
    "    pass"
   ]
  },
  {
   "cell_type": "code",
   "execution_count": 145,
   "id": "02b82910",
   "metadata": {},
   "outputs": [],
   "source": [
    "# singleton -> metaclass 클래스의 행동을 결정\n",
    "class Singleton(type):  # type 쓴 이유 : 메타클래스 만드는 기본 꼴\n",
    "    instance = None\n",
    "    def __call__(cls, *args, **kwargs):   # 없으면 새로 만들고 있으면 기본 클래스에 반환\n",
    "        if not cls.instance:\n",
    "            cls.instance = super().__call__(*args, **kwargs) # 새로 만들 때 없으면 상속을 넘어서 둬야 해서 super 사용\n",
    "        return cls.instance"
   ]
  },
  {
   "cell_type": "code",
   "execution_count": 151,
   "id": "e1cec792",
   "metadata": {},
   "outputs": [],
   "source": [
    "class MySingleton(metaclass=Singleton):\n",
    "    pass"
   ]
  },
  {
   "cell_type": "code",
   "execution_count": 152,
   "id": "20005e56",
   "metadata": {},
   "outputs": [],
   "source": [
    "a = MySingleton()"
   ]
  },
  {
   "cell_type": "code",
   "execution_count": 153,
   "id": "0377d7a7",
   "metadata": {},
   "outputs": [],
   "source": [
    "b = MySingleton()"
   ]
  },
  {
   "cell_type": "code",
   "execution_count": 154,
   "id": "8f30e583",
   "metadata": {},
   "outputs": [],
   "source": [
    "c = MySingleton()"
   ]
  },
  {
   "cell_type": "code",
   "execution_count": 155,
   "id": "b1516001",
   "metadata": {},
   "outputs": [
    {
     "data": {
      "text/plain": [
       "True"
      ]
     },
     "execution_count": 155,
     "metadata": {},
     "output_type": "execute_result"
    }
   ],
   "source": [
    "a is b"
   ]
  },
  {
   "cell_type": "code",
   "execution_count": 156,
   "id": "b6aa6337",
   "metadata": {},
   "outputs": [
    {
     "data": {
      "text/plain": [
       "True"
      ]
     },
     "execution_count": 156,
     "metadata": {},
     "output_type": "execute_result"
    }
   ],
   "source": [
    "b is c"
   ]
  },
  {
   "cell_type": "markdown",
   "id": "4b3ebf0c",
   "metadata": {},
   "source": []
  },
  {
   "cell_type": "code",
   "execution_count": 157,
   "id": "a98b01f5",
   "metadata": {},
   "outputs": [],
   "source": [
    "class A:\n",
    "    pass"
   ]
  },
  {
   "cell_type": "code",
   "execution_count": null,
   "id": "9a7456d7",
   "metadata": {},
   "outputs": [],
   "source": [
    "A.x  # __get__\n",
    "A.x = 1  # __set__\n",
    "del A.x  # __delete"
   ]
  },
  {
   "cell_type": "markdown",
   "id": "e5766cce",
   "metadata": {},
   "source": [
    "### Descriptor \n",
    "\n",
    "- 만드는 방식 3 가지\n",
    "1. @property 사용\n",
    "2.\n",
    "3."
   ]
  },
  {
   "cell_type": "code",
   "execution_count": 158,
   "id": "4cafcbf6",
   "metadata": {},
   "outputs": [],
   "source": [
    "import tensorflow as tf"
   ]
  },
  {
   "cell_type": "code",
   "execution_count": 159,
   "id": "190cdfa5",
   "metadata": {},
   "outputs": [
    {
     "name": "stdout",
     "output_type": "stream",
     "text": [
      "Downloading data from https://storage.googleapis.com/tensorflow/keras-applications/vgg16/vgg16_weights_tf_dim_ordering_tf_kernels.h5\n",
      "553467904/553467096 [==============================] - 18s 0us/step\n",
      "553476096/553467096 [==============================] - 18s 0us/step\n"
     ]
    }
   ],
   "source": [
    "vgg = tf.keras.applications.VGG16()"
   ]
  },
  {
   "cell_type": "code",
   "execution_count": 161,
   "id": "46942aaa",
   "metadata": {},
   "outputs": [
    {
     "data": {
      "text/plain": [
       "True"
      ]
     },
     "execution_count": 161,
     "metadata": {},
     "output_type": "execute_result"
    }
   ],
   "source": [
    "vgg.trainable_variables == vgg.trainable_weights"
   ]
  },
  {
   "cell_type": "code",
   "execution_count": 162,
   "id": "b7949760",
   "metadata": {},
   "outputs": [
    {
     "data": {
      "text/plain": [
       "False"
      ]
     },
     "execution_count": 162,
     "metadata": {},
     "output_type": "execute_result"
    }
   ],
   "source": [
    "vgg.trainable_variables is vgg.trainable_weights   # 한 개는 값 그대로, 한 개는 property를 이용해서 만들었다."
   ]
  },
  {
   "cell_type": "code",
   "execution_count": 182,
   "id": "cc81b8ba",
   "metadata": {},
   "outputs": [],
   "source": [
    "class A:\n",
    "    def __init__(self, x):\n",
    "        self.x = x\n",
    "        \n",
    "    @property    # 괄호를 안 붙여도 되기 때문에 함수 쓰는 느낌이 아니라 변수 쓰는 느낌을 가질 수 있다.\n",
    "    def x(self):  # 이 부분\n",
    "        print('getter')\n",
    "        return self.__x + 1   # information hiding(encapsulation)\n",
    "    \n",
    "    @x.setter       # 이 부분\n",
    "    def x(self, x):     # 이 부분 variable 꼭 맞춰줘야 함. 필수! \n",
    "        print('setter')  \n",
    "        self.__x = x    \n",
    "\n",
    "    \n",
    "#    @property    # 이름이 같으면 재할당 됐었는데 이제는 아님.\n",
    "#    def x(self):\n",
    "#        return self.x + 1"
   ]
  },
  {
   "cell_type": "code",
   "execution_count": 183,
   "id": "ed8a5f26",
   "metadata": {},
   "outputs": [
    {
     "name": "stdout",
     "output_type": "stream",
     "text": [
      "setter\n"
     ]
    }
   ],
   "source": [
    "a = A(3)"
   ]
  },
  {
   "cell_type": "code",
   "execution_count": 185,
   "id": "f4894825",
   "metadata": {},
   "outputs": [
    {
     "name": "stdout",
     "output_type": "stream",
     "text": [
      "setter\n"
     ]
    }
   ],
   "source": [
    "a.x = 3"
   ]
  },
  {
   "cell_type": "code",
   "execution_count": 184,
   "id": "a04c609c",
   "metadata": {
    "scrolled": true
   },
   "outputs": [
    {
     "name": "stdout",
     "output_type": "stream",
     "text": [
      "getter\n"
     ]
    },
    {
     "data": {
      "text/plain": [
       "4"
      ]
     },
     "execution_count": 184,
     "metadata": {},
     "output_type": "execute_result"
    }
   ],
   "source": [
    "a.x  # property가 method를 variable처럼 사용하도록 했다."
   ]
  },
  {
   "cell_type": "code",
   "execution_count": null,
   "id": "1e6ba571",
   "metadata": {},
   "outputs": [],
   "source": []
  },
  {
   "cell_type": "markdown",
   "id": "400f85ed",
   "metadata": {},
   "source": [
    "앞으로는 변수같이 보여도 변수가 아닐 확률이 있다."
   ]
  },
  {
   "cell_type": "markdown",
   "id": "bff64a79",
   "metadata": {},
   "source": [
    "With 더 배울 예정"
   ]
  },
  {
   "cell_type": "code",
   "execution_count": null,
   "id": "427f0b1e",
   "metadata": {},
   "outputs": [],
   "source": []
  },
  {
   "cell_type": "code",
   "execution_count": null,
   "id": "7566c2de",
   "metadata": {},
   "outputs": [],
   "source": []
  },
  {
   "cell_type": "code",
   "execution_count": null,
   "id": "d6c97882",
   "metadata": {},
   "outputs": [],
   "source": []
  },
  {
   "cell_type": "code",
   "execution_count": null,
   "id": "20f265d6",
   "metadata": {},
   "outputs": [],
   "source": []
  },
  {
   "cell_type": "code",
   "execution_count": null,
   "id": "c334822e",
   "metadata": {},
   "outputs": [],
   "source": []
  },
  {
   "cell_type": "markdown",
   "id": "446c18f4",
   "metadata": {},
   "source": [
    "### Lazy evaluation"
   ]
  },
  {
   "cell_type": "code",
   "execution_count": null,
   "id": "1cf94bc8",
   "metadata": {},
   "outputs": [],
   "source": []
  },
  {
   "cell_type": "code",
   "execution_count": null,
   "id": "cc9f4bf9",
   "metadata": {},
   "outputs": [],
   "source": []
  }
 ],
 "metadata": {
  "kernelspec": {
   "display_name": "Python 3",
   "language": "python",
   "name": "python3"
  },
  "language_info": {
   "codemirror_mode": {
    "name": "ipython",
    "version": 3
   },
   "file_extension": ".py",
   "mimetype": "text/x-python",
   "name": "python",
   "nbconvert_exporter": "python",
   "pygments_lexer": "ipython3",
   "version": "3.9.6"
  },
  "toc": {
   "base_numbering": 1,
   "nav_menu": {},
   "number_sections": true,
   "sideBar": true,
   "skip_h1_title": false,
   "title_cell": "Table of Contents",
   "title_sidebar": "Contents",
   "toc_cell": false,
   "toc_position": {},
   "toc_section_display": true,
   "toc_window_display": false
  }
 },
 "nbformat": 4,
 "nbformat_minor": 5
}
