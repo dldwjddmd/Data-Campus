{
 "cells": [
  {
   "cell_type": "markdown",
   "id": "d532afd8",
   "metadata": {},
   "source": [
    "DBMS 처리 과정\n",
    "## SQLite3 실습"
   ]
  },
  {
   "cell_type": "code",
   "execution_count": 5,
   "id": "168318c0",
   "metadata": {},
   "outputs": [],
   "source": [
    "import sqlite3  # SQLite에서는 Boolean, VarChar을 따로 지원하지 않는다."
   ]
  },
  {
   "cell_type": "markdown",
   "id": "a11aabda",
   "metadata": {},
   "source": [
    "DBMS\n",
    "->Connection (Connection Pool) #\n",
    "->Cursor (Client - Server)\n",
    "        SQL ->\n",
    "                Result\n",
    "        Cursor ->\n",
    "        Fetch"
   ]
  },
  {
   "cell_type": "markdown",
   "id": "8cae879a",
   "metadata": {},
   "source": [
    "conn = sqlite3.connect('경로/이름/' or 'memory:')"
   ]
  },
  {
   "cell_type": "code",
   "execution_count": 6,
   "id": "9a94c553",
   "metadata": {},
   "outputs": [],
   "source": [
    "con = sqlite3.connect(':memory:') \n",
    "cur = con.cursor()"
   ]
  },
  {
   "cell_type": "code",
   "execution_count": 7,
   "id": "54894525",
   "metadata": {},
   "outputs": [
    {
     "data": {
      "text/plain": [
       "(sqlite3.Connection, sqlite3.Cursor)"
      ]
     },
     "execution_count": 7,
     "metadata": {},
     "output_type": "execute_result"
    }
   ],
   "source": [
    "type(con), type(cur)"
   ]
  },
  {
   "cell_type": "code",
   "execution_count": 8,
   "id": "0b408b66",
   "metadata": {},
   "outputs": [
    {
     "data": {
      "text/plain": [
       "sqlite3.Cursor"
      ]
     },
     "execution_count": 8,
     "metadata": {},
     "output_type": "execute_result"
    }
   ],
   "source": [
    "type(con.cursor())  # con에도 cursor 객체가 있다. cursor에 붙어있는 객체 반환"
   ]
  },
  {
   "cell_type": "markdown",
   "id": "af58209e",
   "metadata": {},
   "source": [
    "execute : 비공식적 방법. 기본적으로 단발성이기 때문에 세미콜론(;)으로 마무리하지 않아도 된다."
   ]
  },
  {
   "cell_type": "code",
   "execution_count": 9,
   "id": "384786a5",
   "metadata": {},
   "outputs": [
    {
     "data": {
      "text/plain": [
       "<sqlite3.Cursor at 0x26842cb5dc0>"
      ]
     },
     "execution_count": 9,
     "metadata": {},
     "output_type": "execute_result"
    }
   ],
   "source": [
    "cur.execute('CREATE TABLE a (id, name);') "
   ]
  },
  {
   "cell_type": "code",
   "execution_count": 10,
   "id": "24cd28ea",
   "metadata": {},
   "outputs": [
    {
     "data": {
      "text/plain": [
       "<sqlite3.Cursor at 0x26842cb5dc0>"
      ]
     },
     "execution_count": 10,
     "metadata": {},
     "output_type": "execute_result"
    }
   ],
   "source": [
    "cur.execute('')"
   ]
  },
  {
   "cell_type": "code",
   "execution_count": 11,
   "id": "e8625600",
   "metadata": {},
   "outputs": [
    {
     "data": {
      "text/plain": [
       "<sqlite3.Cursor at 0x26842cb5dc0>"
      ]
     },
     "execution_count": 11,
     "metadata": {},
     "output_type": "execute_result"
    }
   ],
   "source": [
    "cur.execute('INSERT INTO a(id, name) VALUES(1, \"name\");')"
   ]
  },
  {
   "cell_type": "code",
   "execution_count": 12,
   "id": "4c58597a",
   "metadata": {},
   "outputs": [
    {
     "data": {
      "text/plain": [
       "<sqlite3.Cursor at 0x26842cb5dc0>"
      ]
     },
     "execution_count": 12,
     "metadata": {},
     "output_type": "execute_result"
    }
   ],
   "source": [
    "cur.execute('SELECT * FROM a;')  # 다시 할 때는 여기서부터 시작해도 됨."
   ]
  },
  {
   "cell_type": "code",
   "execution_count": 13,
   "id": "f4a84502",
   "metadata": {},
   "outputs": [],
   "source": [
    "#[_ for _ in cur]  # 비공식적 방법"
   ]
  },
  {
   "cell_type": "code",
   "execution_count": 14,
   "id": "b81322e6",
   "metadata": {},
   "outputs": [
    {
     "data": {
      "text/plain": [
       "[(1, 'name')]"
      ]
     },
     "execution_count": 14,
     "metadata": {},
     "output_type": "execute_result"
    }
   ],
   "source": [
    "cur.fetchall()  # 공식적 방법"
   ]
  },
  {
   "cell_type": "code",
   "execution_count": 15,
   "id": "128ac123",
   "metadata": {},
   "outputs": [
    {
     "data": {
      "text/plain": [
       "<sqlite3.Cursor at 0x26842cb5dc0>"
      ]
     },
     "execution_count": 15,
     "metadata": {},
     "output_type": "execute_result"
    }
   ],
   "source": [
    "cur.execute('INSERT INTO a (id, name) VALUES (?, ?);', [2,'name2'])"
   ]
  },
  {
   "cell_type": "code",
   "execution_count": 16,
   "id": "563e8184",
   "metadata": {
    "scrolled": false
   },
   "outputs": [
    {
     "data": {
      "text/plain": [
       "<sqlite3.Cursor at 0x26842cb5dc0>"
      ]
     },
     "execution_count": 16,
     "metadata": {},
     "output_type": "execute_result"
    }
   ],
   "source": [
    "cur.execute('INSERT INTO a (id, name) VALUES (?, ?);', [3,'name3'])"
   ]
  },
  {
   "cell_type": "code",
   "execution_count": 17,
   "id": "2d25a3ad",
   "metadata": {},
   "outputs": [
    {
     "data": {
      "text/plain": [
       "[]"
      ]
     },
     "execution_count": 17,
     "metadata": {},
     "output_type": "execute_result"
    }
   ],
   "source": [
    "cur.fetchall()  # 공식적 방법"
   ]
  },
  {
   "cell_type": "code",
   "execution_count": 18,
   "id": "14ab27c1",
   "metadata": {},
   "outputs": [
    {
     "data": {
      "text/plain": [
       "<sqlite3.Cursor at 0x26842cb5dc0>"
      ]
     },
     "execution_count": 18,
     "metadata": {},
     "output_type": "execute_result"
    }
   ],
   "source": [
    "cur.execute('INSERT INTO a (id, name) VALUES (:id, :name);', {'id':3 ,'name':'name3'})"
   ]
  },
  {
   "cell_type": "code",
   "execution_count": 19,
   "id": "8ec6d65e",
   "metadata": {},
   "outputs": [],
   "source": [
    "data = [(_+3, 'name'+str(_+3)) for _ in range(5)]"
   ]
  },
  {
   "cell_type": "code",
   "execution_count": 20,
   "id": "a6cfa396",
   "metadata": {},
   "outputs": [
    {
     "data": {
      "text/plain": [
       "<sqlite3.Cursor at 0x26842cb5dc0>"
      ]
     },
     "execution_count": 20,
     "metadata": {},
     "output_type": "execute_result"
    }
   ],
   "source": [
    "cur.executemany('INSERT INTO a(id, name) VALUES(?, ?);', data)"
   ]
  },
  {
   "cell_type": "code",
   "execution_count": 21,
   "id": "05b1ab0b",
   "metadata": {},
   "outputs": [
    {
     "data": {
      "text/plain": [
       "<sqlite3.Cursor at 0x26842cb5dc0>"
      ]
     },
     "execution_count": 21,
     "metadata": {},
     "output_type": "execute_result"
    }
   ],
   "source": [
    "cur.execute('SELECT * FROM a;')  # 다시 할 때는 여기서부터"
   ]
  },
  {
   "cell_type": "code",
   "execution_count": 22,
   "id": "bc3fd8a9",
   "metadata": {},
   "outputs": [
    {
     "data": {
      "text/plain": [
       "[(1, 'name'),\n",
       " (2, 'name2'),\n",
       " (3, 'name3'),\n",
       " (3, 'name3'),\n",
       " (3, 'name3'),\n",
       " (4, 'name4'),\n",
       " (5, 'name5'),\n",
       " (6, 'name6'),\n",
       " (7, 'name7')]"
      ]
     },
     "execution_count": 22,
     "metadata": {},
     "output_type": "execute_result"
    }
   ],
   "source": [
    "cur.fetchall()  # 공식적 방법"
   ]
  },
  {
   "cell_type": "code",
   "execution_count": null,
   "id": "749ba322",
   "metadata": {},
   "outputs": [],
   "source": []
  },
  {
   "cell_type": "code",
   "execution_count": 23,
   "id": "7a8c71a8",
   "metadata": {
    "scrolled": true
   },
   "outputs": [
    {
     "name": "stdout",
     "output_type": "stream",
     "text": [
      "BEGIN TRANSACTION;\n",
      "CREATE TABLE a (id, name);\n",
      "INSERT INTO \"a\" VALUES(1,'name');\n",
      "INSERT INTO \"a\" VALUES(2,'name2');\n",
      "INSERT INTO \"a\" VALUES(3,'name3');\n",
      "INSERT INTO \"a\" VALUES(3,'name3');\n",
      "INSERT INTO \"a\" VALUES(3,'name3');\n",
      "INSERT INTO \"a\" VALUES(4,'name4');\n",
      "INSERT INTO \"a\" VALUES(5,'name5');\n",
      "INSERT INTO \"a\" VALUES(6,'name6');\n",
      "INSERT INTO \"a\" VALUES(7,'name7');\n",
      "COMMIT;\n"
     ]
    }
   ],
   "source": [
    "for _ in con.iterdump():  # history 볼 수 있음.\n",
    "    print(_)"
   ]
  },
  {
   "cell_type": "markdown",
   "id": "a1bdc5b3",
   "metadata": {},
   "source": [
    "데이터베이스 적재하기"
   ]
  },
  {
   "cell_type": "code",
   "execution_count": 24,
   "id": "1d9d727e",
   "metadata": {},
   "outputs": [],
   "source": [
    "con = sqlite3.connect('temp1.db')\n",
    "cur = con.cursor()"
   ]
  },
  {
   "cell_type": "code",
   "execution_count": 25,
   "id": "352ed4b6",
   "metadata": {},
   "outputs": [
    {
     "data": {
      "text/plain": [
       "<sqlite3.Cursor at 0x26842cd4ab0>"
      ]
     },
     "execution_count": 25,
     "metadata": {},
     "output_type": "execute_result"
    }
   ],
   "source": [
    "cur.executescript('''\n",
    "BEGIN TRANSACTION;\n",
    "CREATE TABLE a (id, name);\n",
    "INSERT INTO \"a\" VALUES(1,'name');\n",
    "INSERT INTO \"a\" VALUES(2,'name2');\n",
    "INSERT INTO \"a\" VALUES(3,'name3');\n",
    "INSERT INTO \"a\" VALUES(3,'name3');\n",
    "INSERT INTO \"a\" VALUES(3,'name3');\n",
    "INSERT INTO \"a\" VALUES(4,'name4');\n",
    "INSERT INTO \"a\" VALUES(5,'name5');\n",
    "INSERT INTO \"a\" VALUES(6,'name6');\n",
    "INSERT INTO \"a\" VALUES(7,'name7');\n",
    "COMMIT;\n",
    "\n",
    "''')"
   ]
  },
  {
   "cell_type": "code",
   "execution_count": 26,
   "id": "65771365",
   "metadata": {},
   "outputs": [
    {
     "data": {
      "text/plain": [
       "[(1, 'name'),\n",
       " (2, 'name2'),\n",
       " (3, 'name3'),\n",
       " (3, 'name3'),\n",
       " (3, 'name3'),\n",
       " (4, 'name4'),\n",
       " (5, 'name5'),\n",
       " (6, 'name6'),\n",
       " (7, 'name7')]"
      ]
     },
     "execution_count": 26,
     "metadata": {},
     "output_type": "execute_result"
    }
   ],
   "source": [
    "cur.execute('SELECT * FROM a')\n",
    "cur.fetchall()"
   ]
  },
  {
   "cell_type": "code",
   "execution_count": 27,
   "id": "bb48b72c",
   "metadata": {},
   "outputs": [
    {
     "data": {
      "text/plain": [
       "<sqlite3.Cursor at 0x26842cd4ab0>"
      ]
     },
     "execution_count": 27,
     "metadata": {},
     "output_type": "execute_result"
    }
   ],
   "source": [
    "cur.execute('INSERT INTO a VALUES(999, \"TEST\")')  # 여기까지 하면 메모리에 들어는 있으나 물리적인 DB에는 들어있지 않다. -> commit 필요"
   ]
  },
  {
   "cell_type": "code",
   "execution_count": 28,
   "id": "b9605f86",
   "metadata": {},
   "outputs": [
    {
     "data": {
      "text/plain": [
       "[(1, 'name'),\n",
       " (2, 'name2'),\n",
       " (3, 'name3'),\n",
       " (3, 'name3'),\n",
       " (3, 'name3'),\n",
       " (4, 'name4'),\n",
       " (5, 'name5'),\n",
       " (6, 'name6'),\n",
       " (7, 'name7'),\n",
       " (999, 'TEST')]"
      ]
     },
     "execution_count": 28,
     "metadata": {},
     "output_type": "execute_result"
    }
   ],
   "source": [
    "cur.execute('SELECT * FROM a')  # \n",
    "cur.fetchall()"
   ]
  },
  {
   "cell_type": "code",
   "execution_count": 29,
   "id": "4bf37137",
   "metadata": {},
   "outputs": [],
   "source": [
    "con.commit()  # 명시적으로 transaction이 반응하도록"
   ]
  },
  {
   "cell_type": "markdown",
   "id": "ee56d63c",
   "metadata": {},
   "source": [
    "excutescript : 세미콜론으로 구분된 연속된 SQL문장을 수행"
   ]
  },
  {
   "cell_type": "code",
   "execution_count": null,
   "id": "0c02f6da",
   "metadata": {},
   "outputs": [],
   "source": []
  },
  {
   "cell_type": "code",
   "execution_count": null,
   "id": "92a03c17",
   "metadata": {},
   "outputs": [],
   "source": []
  },
  {
   "cell_type": "code",
   "execution_count": 30,
   "id": "7ed735c9",
   "metadata": {},
   "outputs": [],
   "source": [
    "con.close()  # 정말 최종에만 사용"
   ]
  },
  {
   "cell_type": "markdown",
   "id": "5c9da3c5",
   "metadata": {},
   "source": [
    "## 음악 재생 목록 만들기"
   ]
  },
  {
   "cell_type": "markdown",
   "id": "9039fa15",
   "metadata": {},
   "source": [
    "노래는 앨범에 소속. 동일한 노래는 서로 다른 앨범에 등장 가능. 특정 가수에게는 여러 곡의 노래가 있을 수 있고, 동일한 제목이여도 서로 다른 가수가 불렀을 수 있다. "
   ]
  },
  {
   "cell_type": "code",
   "execution_count": 32,
   "id": "b1281b9f",
   "metadata": {},
   "outputs": [],
   "source": [
    "con = sqlite3.connect('playlist.db')\n",
    "cur = con.cursor()"
   ]
  },
  {
   "cell_type": "code",
   "execution_count": 34,
   "id": "d5fee471",
   "metadata": {},
   "outputs": [
    {
     "data": {
      "text/plain": [
       "<sqlite3.Cursor at 0x268442850a0>"
      ]
     },
     "execution_count": 34,
     "metadata": {},
     "output_type": "execute_result"
    }
   ],
   "source": [
    "cur.execute('''\n",
    "        CREATE TABLE artist (\n",
    "            pk INTEGER PRIMARY KEY AUTOINCREMENT, \n",
    "            name TEXT NOT NULL\n",
    "        \n",
    "        )\n",
    "''')"
   ]
  },
  {
   "cell_type": "code",
   "execution_count": 39,
   "id": "4cd1aa50",
   "metadata": {},
   "outputs": [
    {
     "data": {
      "text/plain": [
       "<sqlite3.Cursor at 0x268442850a0>"
      ]
     },
     "execution_count": 39,
     "metadata": {},
     "output_type": "execute_result"
    }
   ],
   "source": [
    "cur.execute('''\n",
    "        CREATE TABLE album (\n",
    "            pk INTEGER PRIMARY KEY AUTOINCREMENT, \n",
    "            name TEXT NOT NULL\n",
    "        \n",
    "        )\n",
    "''')"
   ]
  },
  {
   "cell_type": "code",
   "execution_count": 40,
   "id": "7ba2b375",
   "metadata": {},
   "outputs": [
    {
     "data": {
      "text/plain": [
       "<sqlite3.Cursor at 0x268442850a0>"
      ]
     },
     "execution_count": 40,
     "metadata": {},
     "output_type": "execute_result"
    }
   ],
   "source": [
    "cur.execute('''\n",
    "        CREATE TABLE genre (\n",
    "            pk INTEGER PRIMARY KEY AUTOINCREMENT, \n",
    "            name TEXT NOT NULL\n",
    "        \n",
    "        )\n",
    "''')"
   ]
  },
  {
   "cell_type": "code",
   "execution_count": 38,
   "id": "2b6a2577",
   "metadata": {},
   "outputs": [
    {
     "data": {
      "text/plain": [
       "<sqlite3.Cursor at 0x268442850a0>"
      ]
     },
     "execution_count": 38,
     "metadata": {},
     "output_type": "execute_result"
    }
   ],
   "source": [
    "cur.execute('''\n",
    "        CREATE TABLE track (\n",
    "            pk INTEGER PRIMARY KEY AUTOINCREMENT, \n",
    "            name TEXT NOT NULL,\n",
    "            length TEXT NOT NULL,\n",
    "            rating INTEGER NOT NULL,\n",
    "            count INTEGER NOT NULL,\n",
    "            album_fk INTEGER NOT NULL,\n",
    "            genre_fk INTEGER NOT NULL\n",
    "        )\n",
    "''')"
   ]
  },
  {
   "cell_type": "markdown",
   "id": "ec62ff33",
   "metadata": {},
   "source": [
    "'가수', '앨범', '노래', '장르', '길이', '0'(rating), '0'(count)"
   ]
  },
  {
   "cell_type": "code",
   "execution_count": 42,
   "id": "94239fbb",
   "metadata": {},
   "outputs": [
    {
     "data": {
      "text/plain": [
       "<sqlite3.Cursor at 0x268442850a0>"
      ]
     },
     "execution_count": 42,
     "metadata": {},
     "output_type": "execute_result"
    }
   ],
   "source": [
    "temp = [('가수1',), ('가수2',), ('가수3',), ('가수4',), ('가수5',)]\n",
    "cur.executemany('INSERT INTO artist(name) VALUES(?)', temp)"
   ]
  },
  {
   "cell_type": "code",
   "execution_count": 43,
   "id": "d84e670f",
   "metadata": {},
   "outputs": [
    {
     "data": {
      "text/plain": [
       "[(1, '가수1'), (2, '가수2'), (3, '가수3'), (4, '가수4'), (5, '가수5')]"
      ]
     },
     "execution_count": 43,
     "metadata": {},
     "output_type": "execute_result"
    }
   ],
   "source": [
    "cur.execute('SELECT * FROM artist')\n",
    "cur.fetchall()"
   ]
  },
  {
   "cell_type": "code",
   "execution_count": 44,
   "id": "66fd764b",
   "metadata": {},
   "outputs": [
    {
     "data": {
      "text/plain": [
       "<sqlite3.Cursor at 0x268442850a0>"
      ]
     },
     "execution_count": 44,
     "metadata": {},
     "output_type": "execute_result"
    }
   ],
   "source": [
    "temp = [('발라드',), ('KPOP',), ('힙합',), ('인디',), ('댄스',)]\n",
    "cur.executemany('INSERT INTO genre(name) VALUES(?)', temp)"
   ]
  },
  {
   "cell_type": "code",
   "execution_count": 45,
   "id": "13120c9e",
   "metadata": {},
   "outputs": [
    {
     "data": {
      "text/plain": [
       "<sqlite3.Cursor at 0x268442850a0>"
      ]
     },
     "execution_count": 45,
     "metadata": {},
     "output_type": "execute_result"
    }
   ],
   "source": [
    "# 관\n",
    "cur.execute('''\n",
    "    ALTER TABLE album\n",
    "    ADD COLUMN artist_fk INTEGER NOT NULL\n",
    "''')"
   ]
  },
  {
   "cell_type": "code",
   "execution_count": 46,
   "id": "2cbf96a9",
   "metadata": {},
   "outputs": [],
   "source": [
    "con.commit()"
   ]
  },
  {
   "cell_type": "markdown",
   "id": "c9000140",
   "metadata": {},
   "source": [
    "1. 아티스트로부터 pk값을 찾아낸다.\n",
    "2. SQL로 해결"
   ]
  },
  {
   "cell_type": "code",
   "execution_count": 47,
   "id": "08e3a4e8",
   "metadata": {},
   "outputs": [],
   "source": [
    "# 1번 방법 : Database -> Local (변수확인), 완벽일치 해야함.\n",
    "cur.execute('SELECT * FROM artist ORDER BY pk ASC')\n",
    "T_ARTIST = cur.fetchall()"
   ]
  },
  {
   "cell_type": "code",
   "execution_count": 49,
   "id": "3179400e",
   "metadata": {},
   "outputs": [
    {
     "name": "stdout",
     "output_type": "stream",
     "text": [
      "1\n"
     ]
    }
   ],
   "source": [
    "for _ in T_ARTIST:\n",
    "    if _[1] == '가수1':  # 중복된 데이터가 들어갔을 가능성이 높다.\n",
    "        print(_[0])\n",
    "        "
   ]
  },
  {
   "cell_type": "code",
   "execution_count": 48,
   "id": "567441b0",
   "metadata": {},
   "outputs": [
    {
     "data": {
      "text/plain": [
       "('2.6.0', '3.36.0')"
      ]
     },
     "execution_count": 48,
     "metadata": {},
     "output_type": "execute_result"
    }
   ],
   "source": [
    "sqlite3.version, sqlite3.sqlite_version"
   ]
  },
  {
   "cell_type": "code",
   "execution_count": 50,
   "id": "226582b5",
   "metadata": {},
   "outputs": [
    {
     "data": {
      "text/plain": [
       "[(1,)]"
      ]
     },
     "execution_count": 50,
     "metadata": {},
     "output_type": "execute_result"
    }
   ],
   "source": [
    "# 2번 방법 : 완벽일치하지 않아도 된다는 장점.\n",
    "cur.execute('SELECT pk FROM artist WHERE name LIKE \"가수1\"')\n",
    "cur.fetchall()"
   ]
  },
  {
   "cell_type": "code",
   "execution_count": 51,
   "id": "676f24d4",
   "metadata": {},
   "outputs": [
    {
     "data": {
      "text/plain": [
       "[(1,)]"
      ]
     },
     "execution_count": 51,
     "metadata": {},
     "output_type": "execute_result"
    }
   ],
   "source": [
    "cur.execute('SELECT pk FROM artist WHERE name LIKE \"%1\"') \n",
    "cur.fetchall()"
   ]
  },
  {
   "cell_type": "code",
   "execution_count": 56,
   "id": "eb084b9c",
   "metadata": {},
   "outputs": [
    {
     "ename": "TypeError",
     "evalue": "function takes exactly 2 arguments (1 given)",
     "output_type": "error",
     "traceback": [
      "\u001b[1;31m---------------------------------------------------------------------------\u001b[0m",
      "\u001b[1;31mTypeError\u001b[0m                                 Traceback (most recent call last)",
      "\u001b[1;32m<ipython-input-56-d32829d91352>\u001b[0m in \u001b[0;36m<module>\u001b[1;34m\u001b[0m\n\u001b[1;32m----> 1\u001b[1;33m cur.executemany('''\n\u001b[0m\u001b[0;32m      2\u001b[0m     \u001b[0mINSERT\u001b[0m \u001b[0mINTO\u001b[0m \u001b[0malbum\u001b[0m \u001b[1;33m(\u001b[0m\u001b[0mname\u001b[0m\u001b[1;33m,\u001b[0m \u001b[0martist_fk\u001b[0m\u001b[1;33m)\u001b[0m\u001b[1;33m\u001b[0m\u001b[1;33m\u001b[0m\u001b[0m\n\u001b[0;32m      3\u001b[0m     VALUES ('앨범1'\n\u001b[0;32m      4\u001b[0m     (SELECT pk FROM artist\n\u001b[0;32m      5\u001b[0m     \u001b[0mWHERE\u001b[0m \u001b[0mname\u001b[0m \u001b[0mLIKE\u001b[0m \u001b[1;34m\"%가수%\"\u001b[0m\u001b[1;33m\u001b[0m\u001b[1;33m\u001b[0m\u001b[0m\n",
      "\u001b[1;31mTypeError\u001b[0m: function takes exactly 2 arguments (1 given)"
     ]
    }
   ],
   "source": [
    "cur.executemany('''\n",
    "    INSERT INTO album (name, artist_fk)\n",
    "    VALUES ('앨범1',\n",
    "    (SELECT pk FROM artist\n",
    "    WHERE name LIKE \"%가수%\"\n",
    "    ORDER BY pk ASC\n",
    "    LIMIT 0,1))\n",
    "''')   \n",
    "#cur.fetchall()\n",
    "# %?%을 사용하면 [('가',)]와 같은 조건문을 달 수도 있음."
   ]
  },
  {
   "cell_type": "code",
   "execution_count": 69,
   "id": "76c9241c",
   "metadata": {},
   "outputs": [
    {
     "data": {
      "text/plain": [
       "[(1, '앨범1', 5),\n",
       " (2, '앨범1', 2),\n",
       " (3, '앨범1', 1),\n",
       " (4, '앨범1', 1),\n",
       " (5, '앨범1', 2),\n",
       " (6, '앨범1', 5),\n",
       " (7, '앨범1', 5),\n",
       " (8, '앨범1', 2),\n",
       " (9, '앨범1', 3),\n",
       " (10, '앨범1', 4)]"
      ]
     },
     "execution_count": 69,
     "metadata": {},
     "output_type": "execute_result"
    }
   ],
   "source": [
    "cur.execute('SELECT * FROM album')\n",
    "cur.fetchall()"
   ]
  },
  {
   "cell_type": "code",
   "execution_count": null,
   "id": "9a5568ef",
   "metadata": {},
   "outputs": [],
   "source": [
    "cur.execute('''\n",
    "    INSERT INTO album (name, artist_fk)\n",
    "    VALUES ('앨범1'\n",
    "    (SELECT pk FROM artist\n",
    "    WHERE name LIKE \"%가수%\"\n",
    "    ORDER BY pk ASC\n",
    "    LIMIT 0,1))\n",
    "''')  "
   ]
  },
  {
   "cell_type": "code",
   "execution_count": 62,
   "id": "c2c3b962",
   "metadata": {
    "scrolled": true
   },
   "outputs": [],
   "source": [
    "from random import choice\n",
    "cur.execute('SELECT name FROM artist')\n",
    "artist = cur.fetchall()\n",
    "choice(artist)\n",
    "\n",
    "for _ in range(10):\n",
    "    cur.execute('''\n",
    "        INSERT INTO album (name, artist_fk)\n",
    "        VALUES ('앨범1',\n",
    "        (SELECT pk FROM artist\n",
    "        WHERE name=?\n",
    "        ORDER BY pk ASC\n",
    "        LIMIT 0,1))\n",
    "    ''', choice(artist))"
   ]
  },
  {
   "cell_type": "code",
   "execution_count": 72,
   "id": "732ec28f",
   "metadata": {},
   "outputs": [
    {
     "data": {
      "text/plain": [
       "[(4, '가수1', '앨범1', '노래4', '인디'),\n",
       " (4, '가수1', '앨범1', '노래4', '인디'),\n",
       " (5, '가수2', '앨범1', '노래5', '댄스'),\n",
       " (1, '가수5', '앨범1', '노래1', '발라드'),\n",
       " (5, '가수2', '앨범1', '노래5', '댄스'),\n",
       " (1, '가수5', '앨범1', '노래1', '발라드'),\n",
       " (2, '가수2', '앨범1', '노래2', 'KPOP'),\n",
       " (4, '가수1', '앨범1', '노래4', '인디'),\n",
       " (5, '가수2', '앨범1', '노래5', '댄스'),\n",
       " (5, '가수2', '앨범1', '노래5', '댄스')]"
      ]
     },
     "execution_count": 72,
     "metadata": {},
     "output_type": "execute_result"
    }
   ],
   "source": [
    "cur.execute('''\n",
    "    SELECT B.pk, A.name, B.name, C.name, D.name\n",
    "    FROM artist as A\n",
    "    INNER JOIN album AS B on B.artist_fk = A.pk\n",
    "    INNER JOIN track AS C on C.album_fk = B.pk\n",
    "    INNER JOIN genre AS D on C.genre_fk = D.pk\n",
    "''')\n",
    "cur.fetchall()"
   ]
  },
  {
   "cell_type": "code",
   "execution_count": 64,
   "id": "950b1f91",
   "metadata": {},
   "outputs": [],
   "source": [
    "track = ['노래1', '노래2', '노래3', '노래4', '노래5', '노래6']\n",
    "genre = ['발라드', 'KPOP', '힙합', '인디', '댄스']\n",
    "album = [1,2,3,4,5,6,7]\n",
    "\n"
   ]
  },
  {
   "cell_type": "code",
   "execution_count": 66,
   "id": "0e8fab73",
   "metadata": {},
   "outputs": [],
   "source": [
    "for _ in range(10):\n",
    "    i = choice(range(5))\n",
    "    cur.execute('''\n",
    "        INSERT INTO track (name, length, rating, count, album_fk, genre_fk)\n",
    "        VALUES(\n",
    "        ?, 0, 0, 0,(\n",
    "            SELECT pk FROM album WHERE pk=? LIMIT 0,1\n",
    "            ),(\n",
    "            SELECT pk FROM genre WHERE name=?\n",
    "            ))\n",
    "\n",
    "    ''', [track[i], album[i], genre[i]])"
   ]
  },
  {
   "cell_type": "markdown",
   "id": "58dd5006",
   "metadata": {},
   "source": [
    "LIMIT 0,1 : 유무를 확인하는 query"
   ]
  },
  {
   "cell_type": "code",
   "execution_count": 67,
   "id": "5b76beb1",
   "metadata": {},
   "outputs": [],
   "source": [
    "con.commit()"
   ]
  },
  {
   "cell_type": "code",
   "execution_count": 68,
   "id": "35986cb5",
   "metadata": {},
   "outputs": [
    {
     "data": {
      "text/plain": [
       "[(1, '노래4', '0', 0, 0, 4, 4),\n",
       " (2, '노래4', '0', 0, 0, 4, 4),\n",
       " (3, '노래5', '0', 0, 0, 5, 5),\n",
       " (4, '노래1', '0', 0, 0, 1, 1),\n",
       " (5, '노래5', '0', 0, 0, 5, 5),\n",
       " (6, '노래1', '0', 0, 0, 1, 1),\n",
       " (7, '노래2', '0', 0, 0, 2, 2),\n",
       " (8, '노래4', '0', 0, 0, 4, 4),\n",
       " (9, '노래5', '0', 0, 0, 5, 5),\n",
       " (10, '노래5', '0', 0, 0, 5, 5)]"
      ]
     },
     "execution_count": 68,
     "metadata": {},
     "output_type": "execute_result"
    }
   ],
   "source": [
    "cur.execute('SELECT * FROM track')\n",
    "cur.fetchall()"
   ]
  },
  {
   "cell_type": "markdown",
   "id": "37da4778",
   "metadata": {},
   "source": [
    "ORM : SQLAlchemy 사용\n",
    "객체 기반의 데이터베이스 생성을 할 수 있음\n",
    "- 활용 : 정보 조회가 다수 필요한 분야"
   ]
  },
  {
   "cell_type": "code",
   "execution_count": null,
   "id": "ce774044",
   "metadata": {},
   "outputs": [],
   "source": []
  }
 ],
 "metadata": {
  "kernelspec": {
   "display_name": "Python 3",
   "language": "python",
   "name": "python3"
  },
  "language_info": {
   "codemirror_mode": {
    "name": "ipython",
    "version": 3
   },
   "file_extension": ".py",
   "mimetype": "text/x-python",
   "name": "python",
   "nbconvert_exporter": "python",
   "pygments_lexer": "ipython3",
   "version": "3.9.6"
  },
  "toc": {
   "base_numbering": 1,
   "nav_menu": {},
   "number_sections": true,
   "sideBar": true,
   "skip_h1_title": false,
   "title_cell": "Table of Contents",
   "title_sidebar": "Contents",
   "toc_cell": false,
   "toc_position": {},
   "toc_section_display": true,
   "toc_window_display": false
  }
 },
 "nbformat": 4,
 "nbformat_minor": 5
}
