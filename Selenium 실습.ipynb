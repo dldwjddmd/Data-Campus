{
 "cells": [
  {
   "cell_type": "code",
   "execution_count": 1,
   "id": "139585f7",
   "metadata": {},
   "outputs": [],
   "source": [
    "from urllib.robotparser import RobotFileParser\n",
    "from requests import request, get, post\n",
    "from requests.compat import urljoin, urlparse, urlunparse, quote, unquote\n",
    "\n",
    "from requests.exceptions import HTTPError\n",
    "from time import sleep\n",
    "from random import randint"
   ]
  },
  {
   "cell_type": "code",
   "execution_count": 2,
   "id": "48f840a2",
   "metadata": {},
   "outputs": [],
   "source": [
    "import html\n",
    "import re\n",
    "from string import punctuation\n",
    "from bs4 import BeautifulSoup"
   ]
  },
  {
   "cell_type": "code",
   "execution_count": 3,
   "id": "2964b69a",
   "metadata": {},
   "outputs": [],
   "source": [
    "#!pip install selenium"
   ]
  },
  {
   "cell_type": "code",
   "execution_count": 4,
   "id": "ced7de04",
   "metadata": {},
   "outputs": [],
   "source": [
    "from selenium import webdriver"
   ]
  },
  {
   "cell_type": "code",
   "execution_count": 30,
   "id": "6ddef6f3",
   "metadata": {
    "scrolled": true
   },
   "outputs": [
    {
     "name": "stderr",
     "output_type": "stream",
     "text": [
      "<ipython-input-30-f02cd439725e>:1: DeprecationWarning: executable_path has been deprecated, please pass in a Service object\n",
      "  driver = webdriver.Chrome(r'C:\\Users\\wheeb\\Downloads\\chromedriver_win32\\chromedriver.exe')\n"
     ]
    }
   ],
   "source": [
    "driver = webdriver.Chrome(r'C:\\Users\\wheeb\\Downloads\\chromedriver_win32\\chromedriver.exe')\n",
    "driver.implicitly_wait(10)\n",
    "# r'c:\\path\\chromefriver.exe'"
   ]
  },
  {
   "cell_type": "code",
   "execution_count": 33,
   "id": "3a51179d",
   "metadata": {},
   "outputs": [],
   "source": [
    "driver.get('http://www.naver.com')"
   ]
  },
  {
   "cell_type": "code",
   "execution_count": null,
   "id": "f87e1feb",
   "metadata": {},
   "outputs": [],
   "source": []
  },
  {
   "cell_type": "code",
   "execution_count": 27,
   "id": "5c1457bf",
   "metadata": {},
   "outputs": [
    {
     "ename": "NoSuchElementException",
     "evalue": "Message: no such element: Unable to locate element: {\"method\":\"xpath\",\"selector\":\"//form//input[@id=\"id\"]\"}\n  (Session info: chrome=103.0.5060.114)\nStacktrace:\nBacktrace:\n\tOrdinal0 [0x00E26463+2188387]\n\tOrdinal0 [0x00DBE461+1762401]\n\tOrdinal0 [0x00CD3D78+802168]\n\tOrdinal0 [0x00D01880+989312]\n\tOrdinal0 [0x00D01B1B+989979]\n\tOrdinal0 [0x00D2E912+1173778]\n\tOrdinal0 [0x00D1C824+1099812]\n\tOrdinal0 [0x00D2CC22+1166370]\n\tOrdinal0 [0x00D1C5F6+1099254]\n\tOrdinal0 [0x00CF6BE0+945120]\n\tOrdinal0 [0x00CF7AD6+948950]\n\tGetHandleVerifier [0x010C71F2+2712546]\n\tGetHandleVerifier [0x010B886D+2652765]\n\tGetHandleVerifier [0x00EB002A+520730]\n\tGetHandleVerifier [0x00EAEE06+516086]\n\tOrdinal0 [0x00DC468B+1787531]\n\tOrdinal0 [0x00DC8E88+1805960]\n\tOrdinal0 [0x00DC8F75+1806197]\n\tOrdinal0 [0x00DD1DF1+1842673]\n\tBaseThreadInitThunk [0x766B6739+25]\n\tRtlGetFullPathName_UEx [0x778B8FEF+1215]\n\tRtlGetFullPathName_UEx [0x778B8FBD+1165]\n",
     "output_type": "error",
     "traceback": [
      "\u001b[1;31m---------------------------------------------------------------------------\u001b[0m",
      "\u001b[1;31mNoSuchElementException\u001b[0m                    Traceback (most recent call last)",
      "\u001b[1;32m<ipython-input-27-b5a12ddaa74a>\u001b[0m in \u001b[0;36m<module>\u001b[1;34m\u001b[0m\n\u001b[1;32m----> 1\u001b[1;33m \u001b[0mdriver\u001b[0m\u001b[1;33m.\u001b[0m\u001b[0mfind_element\u001b[0m\u001b[1;33m(\u001b[0m\u001b[1;34m'xpath'\u001b[0m\u001b[1;33m,\u001b[0m\u001b[1;34m'//form//input[@id=\"id\"]'\u001b[0m\u001b[1;33m)\u001b[0m\u001b[1;33m.\u001b[0m\u001b[0msend_keys\u001b[0m\u001b[1;33m(\u001b[0m\u001b[1;34m'wheeboo'\u001b[0m\u001b[1;33m)\u001b[0m\u001b[1;33m\u001b[0m\u001b[1;33m\u001b[0m\u001b[0m\n\u001b[0m",
      "\u001b[1;32mC:\\Users\\Jungeun\\miniconda3\\envs\\venv\\lib\\site-packages\\selenium\\webdriver\\remote\\webdriver.py\u001b[0m in \u001b[0;36mfind_element\u001b[1;34m(self, by, value)\u001b[0m\n\u001b[0;32m    855\u001b[0m             \u001b[0mvalue\u001b[0m \u001b[1;33m=\u001b[0m \u001b[1;34m'[name=\"%s\"]'\u001b[0m \u001b[1;33m%\u001b[0m \u001b[0mvalue\u001b[0m\u001b[1;33m\u001b[0m\u001b[1;33m\u001b[0m\u001b[0m\n\u001b[0;32m    856\u001b[0m \u001b[1;33m\u001b[0m\u001b[0m\n\u001b[1;32m--> 857\u001b[1;33m         return self.execute(Command.FIND_ELEMENT, {\n\u001b[0m\u001b[0;32m    858\u001b[0m             \u001b[1;34m'using'\u001b[0m\u001b[1;33m:\u001b[0m \u001b[0mby\u001b[0m\u001b[1;33m,\u001b[0m\u001b[1;33m\u001b[0m\u001b[1;33m\u001b[0m\u001b[0m\n\u001b[0;32m    859\u001b[0m             'value': value})['value']\n",
      "\u001b[1;32mC:\\Users\\Jungeun\\miniconda3\\envs\\venv\\lib\\site-packages\\selenium\\webdriver\\remote\\webdriver.py\u001b[0m in \u001b[0;36mexecute\u001b[1;34m(self, driver_command, params)\u001b[0m\n\u001b[0;32m    433\u001b[0m         \u001b[0mresponse\u001b[0m \u001b[1;33m=\u001b[0m \u001b[0mself\u001b[0m\u001b[1;33m.\u001b[0m\u001b[0mcommand_executor\u001b[0m\u001b[1;33m.\u001b[0m\u001b[0mexecute\u001b[0m\u001b[1;33m(\u001b[0m\u001b[0mdriver_command\u001b[0m\u001b[1;33m,\u001b[0m \u001b[0mparams\u001b[0m\u001b[1;33m)\u001b[0m\u001b[1;33m\u001b[0m\u001b[1;33m\u001b[0m\u001b[0m\n\u001b[0;32m    434\u001b[0m         \u001b[1;32mif\u001b[0m \u001b[0mresponse\u001b[0m\u001b[1;33m:\u001b[0m\u001b[1;33m\u001b[0m\u001b[1;33m\u001b[0m\u001b[0m\n\u001b[1;32m--> 435\u001b[1;33m             \u001b[0mself\u001b[0m\u001b[1;33m.\u001b[0m\u001b[0merror_handler\u001b[0m\u001b[1;33m.\u001b[0m\u001b[0mcheck_response\u001b[0m\u001b[1;33m(\u001b[0m\u001b[0mresponse\u001b[0m\u001b[1;33m)\u001b[0m\u001b[1;33m\u001b[0m\u001b[1;33m\u001b[0m\u001b[0m\n\u001b[0m\u001b[0;32m    436\u001b[0m             response['value'] = self._unwrap_value(\n\u001b[0;32m    437\u001b[0m                 response.get('value', None))\n",
      "\u001b[1;32mC:\\Users\\Jungeun\\miniconda3\\envs\\venv\\lib\\site-packages\\selenium\\webdriver\\remote\\errorhandler.py\u001b[0m in \u001b[0;36mcheck_response\u001b[1;34m(self, response)\u001b[0m\n\u001b[0;32m    245\u001b[0m                 \u001b[0malert_text\u001b[0m \u001b[1;33m=\u001b[0m \u001b[0mvalue\u001b[0m\u001b[1;33m[\u001b[0m\u001b[1;34m'alert'\u001b[0m\u001b[1;33m]\u001b[0m\u001b[1;33m.\u001b[0m\u001b[0mget\u001b[0m\u001b[1;33m(\u001b[0m\u001b[1;34m'text'\u001b[0m\u001b[1;33m)\u001b[0m\u001b[1;33m\u001b[0m\u001b[1;33m\u001b[0m\u001b[0m\n\u001b[0;32m    246\u001b[0m             \u001b[1;32mraise\u001b[0m \u001b[0mexception_class\u001b[0m\u001b[1;33m(\u001b[0m\u001b[0mmessage\u001b[0m\u001b[1;33m,\u001b[0m \u001b[0mscreen\u001b[0m\u001b[1;33m,\u001b[0m \u001b[0mstacktrace\u001b[0m\u001b[1;33m,\u001b[0m \u001b[0malert_text\u001b[0m\u001b[1;33m)\u001b[0m  \u001b[1;31m# type: ignore[call-arg]  # mypy is not smart enough here\u001b[0m\u001b[1;33m\u001b[0m\u001b[1;33m\u001b[0m\u001b[0m\n\u001b[1;32m--> 247\u001b[1;33m         \u001b[1;32mraise\u001b[0m \u001b[0mexception_class\u001b[0m\u001b[1;33m(\u001b[0m\u001b[0mmessage\u001b[0m\u001b[1;33m,\u001b[0m \u001b[0mscreen\u001b[0m\u001b[1;33m,\u001b[0m \u001b[0mstacktrace\u001b[0m\u001b[1;33m)\u001b[0m\u001b[1;33m\u001b[0m\u001b[1;33m\u001b[0m\u001b[0m\n\u001b[0m\u001b[0;32m    248\u001b[0m \u001b[1;33m\u001b[0m\u001b[0m\n\u001b[0;32m    249\u001b[0m     \u001b[1;32mdef\u001b[0m \u001b[0m_value_or_default\u001b[0m\u001b[1;33m(\u001b[0m\u001b[0mself\u001b[0m\u001b[1;33m,\u001b[0m \u001b[0mobj\u001b[0m\u001b[1;33m:\u001b[0m \u001b[0mMapping\u001b[0m\u001b[1;33m[\u001b[0m\u001b[0m_KT\u001b[0m\u001b[1;33m,\u001b[0m \u001b[0m_VT\u001b[0m\u001b[1;33m]\u001b[0m\u001b[1;33m,\u001b[0m \u001b[0mkey\u001b[0m\u001b[1;33m:\u001b[0m \u001b[0m_KT\u001b[0m\u001b[1;33m,\u001b[0m \u001b[0mdefault\u001b[0m\u001b[1;33m:\u001b[0m \u001b[0m_VT\u001b[0m\u001b[1;33m)\u001b[0m \u001b[1;33m->\u001b[0m \u001b[0m_VT\u001b[0m\u001b[1;33m:\u001b[0m\u001b[1;33m\u001b[0m\u001b[1;33m\u001b[0m\u001b[0m\n",
      "\u001b[1;31mNoSuchElementException\u001b[0m: Message: no such element: Unable to locate element: {\"method\":\"xpath\",\"selector\":\"//form//input[@id=\"id\"]\"}\n  (Session info: chrome=103.0.5060.114)\nStacktrace:\nBacktrace:\n\tOrdinal0 [0x00E26463+2188387]\n\tOrdinal0 [0x00DBE461+1762401]\n\tOrdinal0 [0x00CD3D78+802168]\n\tOrdinal0 [0x00D01880+989312]\n\tOrdinal0 [0x00D01B1B+989979]\n\tOrdinal0 [0x00D2E912+1173778]\n\tOrdinal0 [0x00D1C824+1099812]\n\tOrdinal0 [0x00D2CC22+1166370]\n\tOrdinal0 [0x00D1C5F6+1099254]\n\tOrdinal0 [0x00CF6BE0+945120]\n\tOrdinal0 [0x00CF7AD6+948950]\n\tGetHandleVerifier [0x010C71F2+2712546]\n\tGetHandleVerifier [0x010B886D+2652765]\n\tGetHandleVerifier [0x00EB002A+520730]\n\tGetHandleVerifier [0x00EAEE06+516086]\n\tOrdinal0 [0x00DC468B+1787531]\n\tOrdinal0 [0x00DC8E88+1805960]\n\tOrdinal0 [0x00DC8F75+1806197]\n\tOrdinal0 [0x00DD1DF1+1842673]\n\tBaseThreadInitThunk [0x766B6739+25]\n\tRtlGetFullPathName_UEx [0x778B8FEF+1215]\n\tRtlGetFullPathName_UEx [0x778B8FBD+1165]\n"
     ]
    }
   ],
   "source": [
    "driver.find_element('xpath','//form//input[@id=\"id\"]').send_keys('wheeboo')"
   ]
  },
  {
   "cell_type": "markdown",
   "id": "a7dc70d9",
   "metadata": {},
   "source": [
    ". -> 현재 노드\n",
    "\n",
    "/ -> 루트 노드 / 자식 노드\n",
    "\n",
    "// -> 자손 노드\n",
    "\n",
    "[@id = \"val\"]\n",
    "\n",
    "\\a"
   ]
  },
  {
   "cell_type": "code",
   "execution_count": 38,
   "id": "019a00d9",
   "metadata": {
    "scrolled": true
   },
   "outputs": [
    {
     "ename": "NoSuchElementException",
     "evalue": "Message: no such element: Unable to locate element: {\"method\":\"xpath\",\"selector\":\"//a[@class=\"link_login\"]\"}\n  (Session info: chrome=103.0.5060.114)\nStacktrace:\nBacktrace:\n\tOrdinal0 [0x00E26463+2188387]\n\tOrdinal0 [0x00DBE461+1762401]\n\tOrdinal0 [0x00CD3D78+802168]\n\tOrdinal0 [0x00D01880+989312]\n\tOrdinal0 [0x00D01B1B+989979]\n\tOrdinal0 [0x00D2E912+1173778]\n\tOrdinal0 [0x00D1C824+1099812]\n\tOrdinal0 [0x00D2CC22+1166370]\n\tOrdinal0 [0x00D1C5F6+1099254]\n\tOrdinal0 [0x00CF6BE0+945120]\n\tOrdinal0 [0x00CF7AD6+948950]\n\tGetHandleVerifier [0x010C71F2+2712546]\n\tGetHandleVerifier [0x010B886D+2652765]\n\tGetHandleVerifier [0x00EB002A+520730]\n\tGetHandleVerifier [0x00EAEE06+516086]\n\tOrdinal0 [0x00DC468B+1787531]\n\tOrdinal0 [0x00DC8E88+1805960]\n\tOrdinal0 [0x00DC8F75+1806197]\n\tOrdinal0 [0x00DD1DF1+1842673]\n\tBaseThreadInitThunk [0x766B6739+25]\n\tRtlGetFullPathName_UEx [0x778B8FEF+1215]\n\tRtlGetFullPathName_UEx [0x778B8FBD+1165]\n",
     "output_type": "error",
     "traceback": [
      "\u001b[1;31m---------------------------------------------------------------------------\u001b[0m",
      "\u001b[1;31mNoSuchElementException\u001b[0m                    Traceback (most recent call last)",
      "\u001b[1;32m<ipython-input-38-8f22eba57822>\u001b[0m in \u001b[0;36m<module>\u001b[1;34m\u001b[0m\n\u001b[1;32m----> 1\u001b[1;33m \u001b[0mdriver\u001b[0m\u001b[1;33m.\u001b[0m\u001b[0mfind_element\u001b[0m\u001b[1;33m(\u001b[0m\u001b[1;34m'xpath'\u001b[0m\u001b[1;33m,\u001b[0m\u001b[1;34m'//a[@class=\"link_login\"]'\u001b[0m\u001b[1;33m)\u001b[0m\u001b[1;33m.\u001b[0m\u001b[0mclick\u001b[0m\u001b[1;33m(\u001b[0m\u001b[1;33m)\u001b[0m\u001b[1;33m\u001b[0m\u001b[1;33m\u001b[0m\u001b[0m\n\u001b[0m",
      "\u001b[1;32mC:\\Users\\Jungeun\\miniconda3\\envs\\venv\\lib\\site-packages\\selenium\\webdriver\\remote\\webdriver.py\u001b[0m in \u001b[0;36mfind_element\u001b[1;34m(self, by, value)\u001b[0m\n\u001b[0;32m    855\u001b[0m             \u001b[0mvalue\u001b[0m \u001b[1;33m=\u001b[0m \u001b[1;34m'[name=\"%s\"]'\u001b[0m \u001b[1;33m%\u001b[0m \u001b[0mvalue\u001b[0m\u001b[1;33m\u001b[0m\u001b[1;33m\u001b[0m\u001b[0m\n\u001b[0;32m    856\u001b[0m \u001b[1;33m\u001b[0m\u001b[0m\n\u001b[1;32m--> 857\u001b[1;33m         return self.execute(Command.FIND_ELEMENT, {\n\u001b[0m\u001b[0;32m    858\u001b[0m             \u001b[1;34m'using'\u001b[0m\u001b[1;33m:\u001b[0m \u001b[0mby\u001b[0m\u001b[1;33m,\u001b[0m\u001b[1;33m\u001b[0m\u001b[1;33m\u001b[0m\u001b[0m\n\u001b[0;32m    859\u001b[0m             'value': value})['value']\n",
      "\u001b[1;32mC:\\Users\\Jungeun\\miniconda3\\envs\\venv\\lib\\site-packages\\selenium\\webdriver\\remote\\webdriver.py\u001b[0m in \u001b[0;36mexecute\u001b[1;34m(self, driver_command, params)\u001b[0m\n\u001b[0;32m    433\u001b[0m         \u001b[0mresponse\u001b[0m \u001b[1;33m=\u001b[0m \u001b[0mself\u001b[0m\u001b[1;33m.\u001b[0m\u001b[0mcommand_executor\u001b[0m\u001b[1;33m.\u001b[0m\u001b[0mexecute\u001b[0m\u001b[1;33m(\u001b[0m\u001b[0mdriver_command\u001b[0m\u001b[1;33m,\u001b[0m \u001b[0mparams\u001b[0m\u001b[1;33m)\u001b[0m\u001b[1;33m\u001b[0m\u001b[1;33m\u001b[0m\u001b[0m\n\u001b[0;32m    434\u001b[0m         \u001b[1;32mif\u001b[0m \u001b[0mresponse\u001b[0m\u001b[1;33m:\u001b[0m\u001b[1;33m\u001b[0m\u001b[1;33m\u001b[0m\u001b[0m\n\u001b[1;32m--> 435\u001b[1;33m             \u001b[0mself\u001b[0m\u001b[1;33m.\u001b[0m\u001b[0merror_handler\u001b[0m\u001b[1;33m.\u001b[0m\u001b[0mcheck_response\u001b[0m\u001b[1;33m(\u001b[0m\u001b[0mresponse\u001b[0m\u001b[1;33m)\u001b[0m\u001b[1;33m\u001b[0m\u001b[1;33m\u001b[0m\u001b[0m\n\u001b[0m\u001b[0;32m    436\u001b[0m             response['value'] = self._unwrap_value(\n\u001b[0;32m    437\u001b[0m                 response.get('value', None))\n",
      "\u001b[1;32mC:\\Users\\Jungeun\\miniconda3\\envs\\venv\\lib\\site-packages\\selenium\\webdriver\\remote\\errorhandler.py\u001b[0m in \u001b[0;36mcheck_response\u001b[1;34m(self, response)\u001b[0m\n\u001b[0;32m    245\u001b[0m                 \u001b[0malert_text\u001b[0m \u001b[1;33m=\u001b[0m \u001b[0mvalue\u001b[0m\u001b[1;33m[\u001b[0m\u001b[1;34m'alert'\u001b[0m\u001b[1;33m]\u001b[0m\u001b[1;33m.\u001b[0m\u001b[0mget\u001b[0m\u001b[1;33m(\u001b[0m\u001b[1;34m'text'\u001b[0m\u001b[1;33m)\u001b[0m\u001b[1;33m\u001b[0m\u001b[1;33m\u001b[0m\u001b[0m\n\u001b[0;32m    246\u001b[0m             \u001b[1;32mraise\u001b[0m \u001b[0mexception_class\u001b[0m\u001b[1;33m(\u001b[0m\u001b[0mmessage\u001b[0m\u001b[1;33m,\u001b[0m \u001b[0mscreen\u001b[0m\u001b[1;33m,\u001b[0m \u001b[0mstacktrace\u001b[0m\u001b[1;33m,\u001b[0m \u001b[0malert_text\u001b[0m\u001b[1;33m)\u001b[0m  \u001b[1;31m# type: ignore[call-arg]  # mypy is not smart enough here\u001b[0m\u001b[1;33m\u001b[0m\u001b[1;33m\u001b[0m\u001b[0m\n\u001b[1;32m--> 247\u001b[1;33m         \u001b[1;32mraise\u001b[0m \u001b[0mexception_class\u001b[0m\u001b[1;33m(\u001b[0m\u001b[0mmessage\u001b[0m\u001b[1;33m,\u001b[0m \u001b[0mscreen\u001b[0m\u001b[1;33m,\u001b[0m \u001b[0mstacktrace\u001b[0m\u001b[1;33m)\u001b[0m\u001b[1;33m\u001b[0m\u001b[1;33m\u001b[0m\u001b[0m\n\u001b[0m\u001b[0;32m    248\u001b[0m \u001b[1;33m\u001b[0m\u001b[0m\n\u001b[0;32m    249\u001b[0m     \u001b[1;32mdef\u001b[0m \u001b[0m_value_or_default\u001b[0m\u001b[1;33m(\u001b[0m\u001b[0mself\u001b[0m\u001b[1;33m,\u001b[0m \u001b[0mobj\u001b[0m\u001b[1;33m:\u001b[0m \u001b[0mMapping\u001b[0m\u001b[1;33m[\u001b[0m\u001b[0m_KT\u001b[0m\u001b[1;33m,\u001b[0m \u001b[0m_VT\u001b[0m\u001b[1;33m]\u001b[0m\u001b[1;33m,\u001b[0m \u001b[0mkey\u001b[0m\u001b[1;33m:\u001b[0m \u001b[0m_KT\u001b[0m\u001b[1;33m,\u001b[0m \u001b[0mdefault\u001b[0m\u001b[1;33m:\u001b[0m \u001b[0m_VT\u001b[0m\u001b[1;33m)\u001b[0m \u001b[1;33m->\u001b[0m \u001b[0m_VT\u001b[0m\u001b[1;33m:\u001b[0m\u001b[1;33m\u001b[0m\u001b[1;33m\u001b[0m\u001b[0m\n",
      "\u001b[1;31mNoSuchElementException\u001b[0m: Message: no such element: Unable to locate element: {\"method\":\"xpath\",\"selector\":\"//a[@class=\"link_login\"]\"}\n  (Session info: chrome=103.0.5060.114)\nStacktrace:\nBacktrace:\n\tOrdinal0 [0x00E26463+2188387]\n\tOrdinal0 [0x00DBE461+1762401]\n\tOrdinal0 [0x00CD3D78+802168]\n\tOrdinal0 [0x00D01880+989312]\n\tOrdinal0 [0x00D01B1B+989979]\n\tOrdinal0 [0x00D2E912+1173778]\n\tOrdinal0 [0x00D1C824+1099812]\n\tOrdinal0 [0x00D2CC22+1166370]\n\tOrdinal0 [0x00D1C5F6+1099254]\n\tOrdinal0 [0x00CF6BE0+945120]\n\tOrdinal0 [0x00CF7AD6+948950]\n\tGetHandleVerifier [0x010C71F2+2712546]\n\tGetHandleVerifier [0x010B886D+2652765]\n\tGetHandleVerifier [0x00EB002A+520730]\n\tGetHandleVerifier [0x00EAEE06+516086]\n\tOrdinal0 [0x00DC468B+1787531]\n\tOrdinal0 [0x00DC8E88+1805960]\n\tOrdinal0 [0x00DC8F75+1806197]\n\tOrdinal0 [0x00DD1DF1+1842673]\n\tBaseThreadInitThunk [0x766B6739+25]\n\tRtlGetFullPathName_UEx [0x778B8FEF+1215]\n\tRtlGetFullPathName_UEx [0x778B8FBD+1165]\n"
     ]
    }
   ],
   "source": [
    "driver.find_element('xpath','//a[@class=\"link_login\"]').click()"
   ]
  },
  {
   "cell_type": "code",
   "execution_count": 35,
   "id": "c4737fb7",
   "metadata": {},
   "outputs": [],
   "source": [
    "idBtn = driver.find_element('xpath', '//form//input[@id=\"id\"]')\n",
    "idBtn.clear()\n",
    "idBtn.send_keys('wheeboo')\n",
    "\n",
    "\n",
    "pwBtn = driver.find_element('xpath', '//form//input[@id=\"pw\"]')\n",
    "pwBtn.clear()\n",
    "pwBtn.send_keys('slrkanjseptlqkf')"
   ]
  },
  {
   "cell_type": "code",
   "execution_count": 36,
   "id": "9147e4c2",
   "metadata": {},
   "outputs": [],
   "source": [
    "newCookie = {_['name']: _['value'] for _ in driver.get_cookies()}"
   ]
  },
  {
   "cell_type": "code",
   "execution_count": 37,
   "id": "280e352c",
   "metadata": {},
   "outputs": [
    {
     "data": {
      "text/plain": [
       "'<!DOCTYPE html>\\n<html lang=\"ko\">\\n<head>\\n    <meta charset=\"UTF-8\">\\n    <meta http-equiv=\"X-UA-Compatible\" content=\"IE=edge, chrome=1\">\\n    <meta name=\"viewport\" content=\"width=device-width, initial-scale=1.0, maximum-scale=1.0, user-scalable=no\">\\n    <meta property=\"og:type\" content=\"website\">\\n    <meta property=\"og:title\" content=\"[네이버: 로그인]\">\\n    <meta property=\"og:description\" content=\"안전한 로그인을 위해 주소창의 URL과 자물쇠 마크를 확인하세요!\">\\n    <meta property=\"og:image\" content=\"https://ssl.pstatic.net/sstatic/search/common/og_v3.png\">\\n    <meta property=\"og:image:type\" content=\"image/png\">\\n    <meta property=\"og:image:width\" content=\"1200\">\\n    <meta property=\"og:image:height\" content=\"1200\">\\n    <title>네이버 : 로그인</title>\\n    <link rel=\"stylesheet\" type=\"text/css\" href=\"/login/css/global/desktop/w_20220216.css?20210812\">\\n</head>\\n<body>\\n<div id=\"wrap\" class=\"wrap\">\\n    <div class=\"u_skip\"><a href=\"https://www.naver.com\">본문 바로가기</a></div>\\n    <header class=\"header\" role=\"banner\" >\\n        <div class=\"header_inner\">\\n            <a   href=\"https://www.naver.com\" class=\"logo\">\\n                <h1 class=\"blind\">NAVER</h1>\\n            </a>\\n            <div class=\"lang\" id=\"show_locale_switch\">\\n                <select id=\"locale_switch\" name=\"locale_switch\" title=\"언어선택\" class=\"sel\">\\n                    <option value=\"ko_KR\">한국어</option>\\n                    <option value=\"en_US\">English</option>\\n                    <option value=\"zh-Hans_CN\">中文(简体)</option>\\n                    <option value=\"zh-Hant_TW\">中文(台灣)</option>\\n                </select>\\n            </div>\\n        </div>\\n    </header>\\n\\n    <div id=\"container\" class=\"container\">\\n        <!-- content -->\\n        <div class=\"content\">\\n            <div class=\"login_wrap\">\\n                <ul class=\"menu_wrap\" role=\"tablist\">\\n                    <li class=\"menu_item\" role=\"presentation\">\\n                        <!--[주] 탭메뉴 활성화시(=선택시) \"on\"을 추가해주세요. 접근성: aria-selected는 탭 선택시 true, 미선택시 false로 적용-->\\n                        <!--[주:접근성] 탭메뉴의 id 값과 탭내용의 aria-controls를 연결하고 있습니다. -->\\n                        <a href=\"#none\" id=\"loinid\" class=\"menu_id on\" role=\"tab\" aria-selected=\"true\">\\n                            <span class=\"menu_text\"><span class=\"text\">ID 로그인</span></span>\\n                        </a>\\n                    </li>\\n                    <li class=\"menu_item\" role=\"presentation\">\\n                        <a href=\"#none\" id=\"ones\" class=\"menu_ones\" role=\"tab\" aria-selected=\"false\">\\n                            <span class=\"menu_text\"><span class=\"text\">일회용 번호</span></span>\\n                        </a>\\n                    </li>\\n                    <li class=\"menu_item\" role=\"presentation\">\\n                        <a href=\"#none\" id=\"qrcode\" class=\"menu_qr\" role=\"tab\" aria-selected=\"false\">\\n                            <span class=\"menu_text\"><span class=\"text\">QR코드</span></span>\\n                        </a>\\n                        <!--넛지배너-->\\n                        <div class=\"nudge_banner\" id=\"nudge_tooltip\">\\n                            <span class=\"nudge_text\">PC방 등 공용PC라면 QR코드 로그인이 더 안전해요.</span>\\n                            <button type=\"button\" id=\"nudge_close\" class=\"nudge_close\"><span\\n                                        class=\"icon_nudge_close\"></span></button>\\n                        </div>\\n                    </li>\\n                </ul>\\n                <form id=\"frmNIDLogin\" name=\"frmNIDLogin\" target=\"_top\" AUTOCOMPLETE=\"off\"\\n                      action=\"https://nid.naver.com/nidlogin.login\" method=\"POST\">\\n                    <input type=\"hidden\" id=\"localechange\" name=\"localechange\" value=\"\">\\n                    <input type=\"hidden\" name=\"dynamicKey\" id=\"dynamicKey\" value=\"onyIpAJgh6otdmxEm2xf1gPKYjmdr_NEmBVnxSrbwFacysgUKPq5SPVNScf2W4g7FClSWSZEi0UH7gFAKxxbMo_R-aZL01dNpBTYtHuPMyQ\">\\n                    <input type=\"hidden\" name=\"encpw\" id=\"encpw\" value=\"\">\\n<input type=\"hidden\" name=\"enctp\" id=\"enctp\" value=\"1\">\\n<input type=\"hidden\" name=\"svctype\" id=\"svctype\" value=\"1\">\\n<input type=\"hidden\" name=\"smart_LEVEL\" id=\"smart_LEVEL\" value=\"1\">\\n<input type=\"hidden\" name=\"bvsd\" id=\"bvsd\" value=\"\">\\n<input type=\"hidden\" name=\"encnm\" id=\"encnm\" value=\"\">\\n<input type=\"hidden\" name=\"locale\" id=\"locale\" value=\"ko_KR\">\\n<input type=\"hidden\" name=\"url\" id=\"url\" value=\"http://mail.naver.com/\">\\n\\n\\n                    <ul class=\"panel_wrap\">\\n                        <li class=\"panel_item\" style=\"display: block;\">\\n                            <div class=\"panel_inner\" role=\"tabpanel\" aria-controls=\"loinid\">\\n                                <div class=\"id_pw_wrap\">\\n                                    <div class=\"input_row\" id=\"id_line\">\\n                                        <div class=\"icon_cell\" id=\"id_cell\">\\n                                            <span class=\"icon_id\">\\n                                                <span class=\"blind\">아이디</span>\\n                                            </span>\\n                                        </div>\\n                                        <input type=\"text\" id=\"id\" name=\"id\" placeholder=\"아이디\" title=\"아이디\"\\n                                               class=\"input_text\" maxlength=\"41\"\\n                                               value=\"\">\\n                                        <span role=\"button\" class=\"btn_delete\" id=\"id_clear\" style=\"display: none;\">\\n                                            <span class=\"icon_delete\">\\n\\t\\t\\t\\t\\t\\t\\t\\t\\t\\t\\t\\t<span class=\"blind\">삭제</span>\\n                                            </span>\\n                                        </span>\\n                                    </div>\\n                                    <div class=\"input_row\" id=\"pw_line\">\\n                                        <div class=\"icon_cell\" id=\"pw_cell\">\\n                                            <span class=\"icon_pw\">\\n                                                <span class=\"blind\">비밀번호</span>\\n                                            </span>\\n                                        </div>\\n                                        <input type=\"password\" id=\"pw\" name=\"pw\" placeholder=\"비밀번호\" title=\"비밀번호\"\\n                                               class=\"input_text\" maxlength=\"16\">\\n                                        <span role=\"button\" class=\"btn_delete\" id=\"pw_clear\" style=\"display: none;\">\\n                                            <span class=\"icon_delete\">\\n                                                <span class=\"blind\">삭제</span>\\n                                            </span>\\n                                        </span>\\n                                    </div>\\n                                </div>\\n                                <div class=\"login_keep_wrap\" id=\"login_keep_wrap\">\\n                                    <div class=\"keep_check\">\\n                                        <input type=\"checkbox\" id=\"keep\" name=\"nvlong\"\\n                                               class=\"input_keep\"  value=\"off\">\\n                                        <label for=\"keep\" class=\"keep_text\">로그인 상태 유지</label>\\n                                    </div>\\n                                    <div class=\"ip_check\">\\n                                        <a href=\"/login/ext/help_ip3.html\" target=\"_blank\" id=\"ipguide\" title=\"IP보안\"><span class=\"ip_text\">IP보안</span></a>\\n                                        <span class=\"switch\">\\n                                            <input type=\"checkbox\" id=\"switch\"\\n                                                   class=\"switch_checkbox\" value=\"off\">\\n                                            <label for=\"switch\" class=\"switch_btn\">\\n                                                <span class=\"blind\" id=\"switch_blind\">OFF</span>\\n                                            </label>\\n                                        </span>\\n                                    </div>\\n                                </div>\\n\\n                                <div class=\"login_error_wrap\" id=\"err_capslock\" style=\"display: none;\">\\n                                    <div class=\"error_message\">\\n                                        <strong>CapsLock</strong>이 켜져 있습니다.\\n                                    </div>\\n                                </div>\\n\\n                                <div class=\"login_error_wrap\" id=\"err_empty_id\" style=\"display: none;\">\\n                                    <div class=\"error_message\">\\n                                        <strong>아이디</strong>를 입력해 주세요.\\n                                    </div>\\n                                </div>\\n\\n                                <div class=\"login_error_wrap\" id=\"err_empty_pw\" style=\"display: none;\">\\n                                    <div class=\"error_message\">\\n                                        <strong>비밀번호</strong>를 입력해 주세요.\\n                                    </div>\\n                                </div>\\n                                <div class=\"login_error_wrap\" id=\"err_common\"  style=\"display:none;\">\\n                                    <div class=\"error_message\"\\n                                         style=\"width:90%\">\\n                                        \\n                                    </div>\\n                                </div>\\n                                <div class=\"btn_login_wrap\">\\n\\n                                    <button type=\"submit\" class=\"btn_login\" id=\"log.login\">\\n                                        <span class=\"btn_text\">로그인</span>\\n                                    </button>\\n\\n                                </div>\\n                            </div>\\n                        </li>\\n                    </ul>\\n                </form>\\n            </div>\\n            <ul class=\"find_wrap\" id=\"find_wrap\">\\n\\n                <li><a target=\"_blank\" href=\"https://nid.naver.com/user2/api/route?m=routePwInquiry&lang=ko_KR\"\\n                       class=\"find_text\">비밀번호 찾기</a></li>\\n                <li><a target=\"_blank\" href=\"https://nid.naver.com/user2/api/route?m=routeIdInquiry&lang=ko_KR\"\\n                       class=\"find_text\">아이디 찾기</a></li>\\n                <li><a target=\"_blank\" href=\"https://nid.naver.com/user2/V2Join?m=agree&lang=ko_KR\" class=\"find_text\">회원가입</a>\\n                </li>\\n\\n            </ul>\\n            <!--배너-->\\n            <div id=\"gladbanner\" class=\"banner_wrap\">\\n                &nbsp;\\n            </div>\\n        </div>\\n        <!-- //content -->\\n    </div>\\n\\n    <!-- footer -->\\n    <div class=\"footer\">\\n        <div class=\"footer_inner\">\\n            <!--[주]고객센터,제휴문의,서비스안내-->\\n            <ul class=\"footer_link\" id=\"footer_link\">\\n                <li><a target=\"_blank\" class=\"footer_item\" href=\"http://www.naver.com/rules/service.html\"\\n                       id=\"fot.agreement\"><span class=\"text\">이용약관</span></a></li>\\n                <li><a target=\"_blank\" class=\"footer_item\" href=\"http://www.naver.com/rules/privacy.html\"\\n                       id=\"fot.privacy\"><span class=\"text\"><strong>개인정보처리방침</strong></span></a></li>\\n                <li><a target=\"_blank\" class=\"footer_item\" href=\"http://www.naver.com/rules/disclaimer.html\"\\n                       id=\"fot.disclaimer\"><span class=\"text\">책임의 한계와 법적고지</span></a></li>\\n                <li><a target=\"_blank\" class=\"footer_item\"\\n                       href=\"https://help.naver.com/support/service/main.nhn?serviceNo=532\" id=\"fot.help\"><span\\n                                class=\"text\">회원정보 고객센터</span></a></li>\\n            </ul>\\n            <div class=\"footer_copy\">\\n                <a id=\"fot.naver\" target=\"_blank\" href=\"https://www.navercorp.com\">\\n                    <span class=\"footer_logo\"><span class=\"blind\">네이버</span></span>\\n                </a>\\n                <span class=\"text\">Copyright</span>\\n                <span class=\"corp\">© NAVER Corp.</span>\\n                <span class=\"text\">All Rights Reserved.</span>\\n            </div>\\n        </div>\\n    </div>\\n\\n</div>\\n<input type=\"hidden\" id=\"nclicks_nsc\" name=\"nclicks_nsc\" value=\"nid.login_kr\">\\n<input type=\"hidden\" id=\"nid_buk\" name=\"nid_buk\" value=\"exist\">\\n<input type=\"hidden\" id=\"removeLink\" name=\"removeLink\" value=\"\">\\n<input type=\"hidden\" id=\"hide_util\" name=\"hide_util\" value=\"\">\\n<input type=\"hidden\" id=\"ncaptchaSplit\" name=\"ncaptchaSplit\" value=\"none\">\\n<input type=\"hidden\" id=\"id_error_msg\" name=\"id_error_msg\" value=\"<strong>아이디</strong>를 입력해주세요.\">\\n<input type=\"hidden\" id=\"pw_error_msg\" name=\"pw_error_msg\" value=\"<strong>비밀번호</strong>를 입력해주세요.\">\\n<input type=\"hidden\" id=\"locale\" name=\"locale\" value=\"ko_KR\">\\n<input type=\"hidden\" id=\"adult_surl_v2\" name=\"adult_surl_v2\" value=\"\">\\n<input type=\"hidden\" id=\"ispopup\" name=\"ispopup\" value=\"false\">\\n<script type=\"text/javascript\" src=\"/login/js/bvsd.1.3.5.min.js\"></script>\\n<script type=\"text/javascript\" async src=\"https://ssl.pstatic.net/tveta/libs/glad/prod/gfp-core.js\"></script>\\n<script type=\"text/javascript\" src=\"/login/js/v2/default/common_202201.js?v=20220322\"></script>\\n<script type=\"text/javascript\" src=\"/login/js/v2/default/default_202105.js?v=20210910\"></script>\\n<div id=\"nv_stat\" style=\"display:none;\">20</div>\\n</body>\\n</html>\\n'"
      ]
     },
     "execution_count": 37,
     "metadata": {},
     "output_type": "execute_result"
    }
   ],
   "source": [
    "resp = get('https://mail.naver.com', cookies = newCookie)\n",
    "resp.text"
   ]
  },
  {
   "cell_type": "markdown",
   "id": "ef1525d4",
   "metadata": {},
   "source": [
    "네이버 Blog 실습"
   ]
  },
  {
   "cell_type": "code",
   "execution_count": 37,
   "id": "b8ebf0cb",
   "metadata": {},
   "outputs": [],
   "source": [
    "driver.get('https://blog.naver.com/ameliepink/222802418634')"
   ]
  },
  {
   "cell_type": "code",
   "execution_count": 38,
   "id": "8b98f1d4",
   "metadata": {},
   "outputs": [],
   "source": [
    "iframe = driver.find_element('xpath', '//iframe[@id=\"mainFrame\"]')"
   ]
  },
  {
   "cell_type": "code",
   "execution_count": 39,
   "id": "4da07bac",
   "metadata": {},
   "outputs": [
    {
     "data": {
      "text/plain": [
       "<bound method SwitchTo.default_content of <selenium.webdriver.remote.switch_to.SwitchTo object at 0x0000027FFD9FB1F0>>"
      ]
     },
     "execution_count": 39,
     "metadata": {},
     "output_type": "execute_result"
    }
   ],
   "source": [
    "driver.switch_to.default_content"
   ]
  },
  {
   "cell_type": "code",
   "execution_count": 40,
   "id": "7ebd22a5",
   "metadata": {},
   "outputs": [],
   "source": [
    "driver.switch_to.default_content()  <- 원래로 돌아갈 때"
   ]
  },
  {
   "cell_type": "code",
   "execution_count": 41,
   "id": "fb73b360",
   "metadata": {},
   "outputs": [],
   "source": [
    "driver.switch_to.frame(iframe)  # <- 새로운 프레임이 생겼을 때 <- Switch"
   ]
  },
  {
   "cell_type": "code",
   "execution_count": null,
   "id": "f905769b",
   "metadata": {},
   "outputs": [],
   "source": [
    "# Tab 전환\n",
    "\n",
    "driver.switch_to.window(#윈도우핸들넘버 입력해서 바꾸기)   "
   ]
  },
  {
   "cell_type": "code",
   "execution_count": 44,
   "id": "ac96ea49",
   "metadata": {},
   "outputs": [
    {
     "data": {
      "text/plain": [
       "['CDwindow-B43C4D9595BD8DA15377B5712EE88457']"
      ]
     },
     "execution_count": 44,
     "metadata": {},
     "output_type": "execute_result"
    }
   ],
   "source": [
    "driver.window_handles"
   ]
  },
  {
   "cell_type": "code",
   "execution_count": null,
   "id": "3dbabf7c",
   "metadata": {},
   "outputs": [],
   "source": [
    "driver.implicitly_wait[10]\n",
    "=> DOM on load => 최대 10초\n",
    "\n",
    "# 무조건 눈에 보이는 작업을 하도록. (ex. 클릭)\n",
    "# explicitly_wait도 있다."
   ]
  },
  {
   "cell_type": "code",
   "execution_count": null,
   "id": "1f05a62f",
   "metadata": {},
   "outputs": [],
   "source": []
  },
  {
   "cell_type": "code",
   "execution_count": null,
   "id": "022ac5a8",
   "metadata": {},
   "outputs": [],
   "source": [
    "driver.close()"
   ]
  },
  {
   "cell_type": "code",
   "execution_count": null,
   "id": "81019e2f",
   "metadata": {},
   "outputs": [],
   "source": []
  }
 ],
 "metadata": {
  "kernelspec": {
   "display_name": "Python 3",
   "language": "python",
   "name": "python3"
  },
  "language_info": {
   "codemirror_mode": {
    "name": "ipython",
    "version": 3
   },
   "file_extension": ".py",
   "mimetype": "text/x-python",
   "name": "python",
   "nbconvert_exporter": "python",
   "pygments_lexer": "ipython3",
   "version": "3.9.6"
  },
  "toc": {
   "base_numbering": 1,
   "nav_menu": {},
   "number_sections": true,
   "sideBar": true,
   "skip_h1_title": false,
   "title_cell": "Table of Contents",
   "title_sidebar": "Contents",
   "toc_cell": false,
   "toc_position": {},
   "toc_section_display": true,
   "toc_window_display": false
  }
 },
 "nbformat": 4,
 "nbformat_minor": 5
}
