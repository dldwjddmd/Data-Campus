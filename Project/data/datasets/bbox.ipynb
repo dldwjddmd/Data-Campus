{
 "cells": [
  {
   "cell_type": "markdown",
   "id": "bae3aaae",
   "metadata": {},
   "source": [
    "# BBOX"
   ]
  },
  {
   "cell_type": "code",
   "execution_count": 1,
   "id": "964f8e48",
   "metadata": {},
   "outputs": [],
   "source": [
    "class Bbox():\n",
    "    def bbox_size(self, bbox):\n",
    "        x = ((bbox[0]+bbox[2])/2)/640\n",
    "        y = ((bbox[1]+bbox[3])/2)/640\n",
    "        w = (bbox[2]-bbox[0])/640\n",
    "        h = (bbox[3]-bbox[1])/640\n",
    "        \n",
    "        return [x,y,w,h]\n",
    "        \n",
    "    def bbox_area(self, width, height):\n",
    "        area = width*height\n",
    "        \n",
    "        print(f'면적: {area}px')\n",
    "\n",
    "    \n",
    "    def bbox_risk(self, area):\n",
    "        if area > 25000:\n",
    "              print('굉장히 위험합니다')\n",
    "        elif 15000 < area <= 25000:\n",
    "              print('위험합니다')\n",
    "        else:\n",
    "              print('조심하세요')\n",
    "              "
   ]
  },
  {
   "cell_type": "code",
   "execution_count": null,
   "id": "5c119a8c",
   "metadata": {},
   "outputs": [],
   "source": []
  },
  {
   "cell_type": "markdown",
   "id": "87601619",
   "metadata": {},
   "source": [
    "# IoU"
   ]
  },
  {
   "cell_type": "code",
   "execution_count": 2,
   "id": "d0be0957",
   "metadata": {},
   "outputs": [],
   "source": [
    "class IoU():\n",
    "    def IoU_area(box1, box2):\n",
    "    # box = (x1, y1, x2, y2)\n",
    "        box1_area = (box1[2] - box1[0] + 1) * (box1[3] - box1[1] + 1)\n",
    "        box2_area = (box2[2] - box2[0] + 1) * (box2[3] - box2[1] + 1)\n",
    "\n",
    "    # obtain x1, y1, x2, y2 of the intersection\n",
    "        x1 = max(box1[0], box2[0])\n",
    "        y1 = max(box1[1], box2[1])\n",
    "        x2 = min(box1[2], box2[2])\n",
    "        y2 = min(box1[3], box2[3])\n",
    "\n",
    "    # compute the width and height of the intersection\n",
    "        w = max(0, x2 - x1 + 1)\n",
    "        h = max(0, y2 - y1 + 1)\n",
    "  \n",
    "        inter = w * h\n",
    "        iou = inter / (box1_area + box2_area - inter)\n",
    "        \n",
    "        return iou\n",
    "    \n",
    "    \n",
    "    def IoU_eval(self, iou):\n",
    "        if iou >= 0.8:\n",
    "            return 1\n",
    "        elif 0.5 < iou < 0.8:\n",
    "            return 2\n",
    "        else:\n",
    "            return 3"
   ]
  },
  {
   "cell_type": "code",
   "execution_count": null,
   "id": "dbf26051",
   "metadata": {},
   "outputs": [],
   "source": []
  },
  {
   "cell_type": "code",
   "execution_count": null,
   "id": "26f31017",
   "metadata": {},
   "outputs": [],
   "source": []
  }
 ],
 "metadata": {
  "kernelspec": {
   "display_name": "Python 3 (ipykernel)",
   "language": "python",
   "name": "python3"
  },
  "language_info": {
   "codemirror_mode": {
    "name": "ipython",
    "version": 3
   },
   "file_extension": ".py",
   "mimetype": "text/x-python",
   "name": "python",
   "nbconvert_exporter": "python",
   "pygments_lexer": "ipython3",
   "version": "3.9.12"
  }
 },
 "nbformat": 4,
 "nbformat_minor": 5
}
