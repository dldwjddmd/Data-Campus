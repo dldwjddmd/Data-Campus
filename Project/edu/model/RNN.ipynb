{
 "cells": [
  {
   "cell_type": "markdown",
   "id": "59393b4f",
   "metadata": {},
   "source": [
    "# RNN\n",
    "- n : 1 분류 문제!"
   ]
  },
  {
   "cell_type": "code",
   "execution_count": 7,
   "id": "4c3b8ca0",
   "metadata": {},
   "outputs": [],
   "source": [
    "import torch\n",
    "import torch.nn as nn\n",
    "import torch.nn.functional as F"
   ]
  },
  {
   "cell_type": "code",
   "execution_count": null,
   "id": "34acd39d",
   "metadata": {},
   "outputs": [],
   "source": [
    "batch_size = 128\n",
    "timesteps = 10\n",
    "embedding_size = 32\n",
    "hidden_size = 64\n",
    "\n",
    "output_category = 10\n",
    "\n",
    "src = torch.zeros(128, 10) # src := set of strings, [batch_size, timesteps]\n",
    "\n",
    "\n",
    "inputs = np.random.random((timesteps, input_size))\n",
    "\n",
    "hidden_state_t = np.zeros((hidden_size,))\n",
    "\n",
    "W_in = np.random.random((input_size, hidden_size))\n",
    "W_h = np.random.random((hidden_size, hidden_size))\n",
    "b = np.random.random((hidden_size,))\n",
    "\n",
    "total_hidden_states = []\n",
    "for input_t in inputs:\n",
    "    output_t = np.tanh(np.matmul(input_t, W_in) + np.matmul(hidden_state_t, W_h) + b)\n",
    "    total_hidden_states.append(list(output_t))\n",
    "total_hidden_states = np.stack(total_hidden_states, axis=0)\n",
    "print(total_hidden_states)"
   ]
  },
  {
   "cell_type": "code",
   "execution_count": 6,
   "id": "0e6f9527",
   "metadata": {},
   "outputs": [
    {
     "data": {
      "text/plain": [
       "26"
      ]
     },
     "execution_count": 6,
     "metadata": {},
     "output_type": "execute_result"
    }
   ],
   "source": [
    "ord('z') - ord('a') + 1"
   ]
  }
 ],
 "metadata": {
  "kernelspec": {
   "display_name": "Python 3 (ipykernel)",
   "language": "python",
   "name": "python3"
  },
  "language_info": {
   "codemirror_mode": {
    "name": "ipython",
    "version": 3
   },
   "file_extension": ".py",
   "mimetype": "text/x-python",
   "name": "python",
   "nbconvert_exporter": "python",
   "pygments_lexer": "ipython3",
   "version": "3.10.5"
  }
 },
 "nbformat": 4,
 "nbformat_minor": 5
}
