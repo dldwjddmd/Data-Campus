{
 "cells": [
  {
   "cell_type": "code",
   "execution_count": 8,
   "id": "8a0302b5",
   "metadata": {},
   "outputs": [
    {
     "data": {
      "text/plain": [
       "(0.06021915764863342, 0.5565914539203477, 0.38318938843101874)"
      ]
     },
     "execution_count": 8,
     "metadata": {},
     "output_type": "execute_result"
    }
   ],
   "source": [
    "tot_2018 = 3688\n",
    "tot_2019 = 4221\n",
    "tot_2020 = 4196\n",
    "front = (193/tot_2018 + 261/tot_2019 + 279/tot_2020)/3\n",
    "our = ((1989+169+3)/tot_2018+(2222+187+4)/tot_2019+(1919+227+3)/tot_2020)/3\n",
    "etc = (1334/tot_2018 + 1547/tot_2019 + 1768/tot_2020)/3\n",
    "\n",
    "front, our, etc"
   ]
  },
  {
   "cell_type": "code",
   "execution_count": null,
   "id": "cfd562e8",
   "metadata": {},
   "outputs": [],
   "source": []
  }
 ],
 "metadata": {
  "kernelspec": {
   "display_name": "Python 3",
   "language": "python",
   "name": "python3"
  },
  "language_info": {
   "codemirror_mode": {
    "name": "ipython",
    "version": 3
   },
   "file_extension": ".py",
   "mimetype": "text/x-python",
   "name": "python",
   "nbconvert_exporter": "python",
   "pygments_lexer": "ipython3",
   "version": "3.9.6"
  },
  "toc": {
   "base_numbering": 1,
   "nav_menu": {},
   "number_sections": true,
   "sideBar": true,
   "skip_h1_title": false,
   "title_cell": "Table of Contents",
   "title_sidebar": "Contents",
   "toc_cell": false,
   "toc_position": {},
   "toc_section_display": true,
   "toc_window_display": false
  }
 },
 "nbformat": 4,
 "nbformat_minor": 5
}
